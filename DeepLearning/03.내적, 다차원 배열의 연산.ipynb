{
  "nbformat": 4,
  "nbformat_minor": 0,
  "metadata": {
    "colab": {
      "name": "03.내적_다차원 배열의 연산",
      "provenance": [],
      "collapsed_sections": [],
      "authorship_tag": "ABX9TyPPodkD0kq8HJpKGslEIk10",
      "include_colab_link": true
    },
    "kernelspec": {
      "name": "python3",
      "display_name": "Python 3"
    },
    "language_info": {
      "name": "python"
    }
  },
  "cells": [
    {
      "cell_type": "markdown",
      "metadata": {
        "id": "view-in-github",
        "colab_type": "text"
      },
      "source": [
        "<a href=\"https://colab.research.google.com/github/dohyeon-kim012/MachineLearning-DeepLearning/blob/main/DeepLearning/03.%EB%82%B4%EC%A0%81%2C%20%EB%8B%A4%EC%B0%A8%EC%9B%90%20%EB%B0%B0%EC%97%B4%EC%9D%98%20%EC%97%B0%EC%82%B0.ipynb\" target=\"_parent\"><img src=\"https://colab.research.google.com/assets/colab-badge.svg\" alt=\"Open In Colab\"/></a>"
      ]
    },
    {
      "cell_type": "code",
      "metadata": {
        "id": "fBNxX2nYKhwZ"
      },
      "source": [
        "import numpy as np"
      ],
      "execution_count": null,
      "outputs": []
    },
    {
      "cell_type": "markdown",
      "metadata": {
        "id": "iw1F8SgvKl0z"
      },
      "source": [
        "배열의 정보 확인"
      ]
    },
    {
      "cell_type": "code",
      "metadata": {
        "colab": {
          "base_uri": "https://localhost:8080/"
        },
        "id": "nuIrpEYkKpZL",
        "outputId": "a4f7b1fe-a182-49e3-a84f-12d444279c57"
      },
      "source": [
        "A = np.array([1, 2, 3, 4])\n",
        "\n",
        "print(A.ndim)\n",
        "print(A.shape)"
      ],
      "execution_count": null,
      "outputs": [
        {
          "output_type": "stream",
          "text": [
            "1\n",
            "(4,)\n"
          ],
          "name": "stdout"
        }
      ]
    },
    {
      "cell_type": "markdown",
      "metadata": {
        "id": "FqrnNsKbKwL6"
      },
      "source": [
        "shape이 (x, )인 것은 편향, 출력값밖에 없음"
      ]
    },
    {
      "cell_type": "code",
      "metadata": {
        "colab": {
          "base_uri": "https://localhost:8080/"
        },
        "id": "S7kOBYuWKuRz",
        "outputId": "1cbdb02e-24bd-40e5-d7c7-8f031a913c2d"
      },
      "source": [
        "B = np.array([[1, 2],\n",
        "              [3, 4],\n",
        "              [5, 6]])\n",
        "\n",
        "print(B.ndim)\n",
        "print(B.shape)  # 1차원 배열 3개, 스칼라 2개 -> (3, 2)"
      ],
      "execution_count": null,
      "outputs": [
        {
          "output_type": "stream",
          "text": [
            "2\n",
            "(3, 2)\n"
          ],
          "name": "stdout"
        }
      ]
    },
    {
      "cell_type": "markdown",
      "metadata": {
        "id": "m4fmtZv4LKgw"
      },
      "source": [
        "# 행렬의 내적\n",
        "\n",
        "2차원 배열인 행렬의 내적을 구하는 방법?  \n",
        "\n",
        "$$\n",
        "\\begin{pmatrix}\n",
        "a & b \\\\\n",
        "c & d \\\\\n",
        "\\end{pmatrix}\n",
        "\\cdot\n",
        "\\begin{pmatrix} \n",
        "p & q \\\\\n",
        "r & s \\\\\n",
        "\\end{pmatrix}\n",
        "= \\begin{pmatrix} \n",
        "ap+br & aq+bs \\\\\n",
        "cp+dr & cq+ds \\\\\n",
        "\\end{pmatrix}\n",
        "$$\n",
        "\n",
        "행렬의 내적은 \n",
        "* 왼쪽 행렬의 행(가로)와 오른쪽 행렬의 열(세로)를 원소 별로 곱하고 그 값들을 더한다\n",
        "* 계산의 결과가 새로운 다차원 배열의 원소가 된다\n",
        "* 행렬은 보통 대문자로 표기하는 것이 관례이다\n"
      ]
    },
    {
      "cell_type": "code",
      "metadata": {
        "colab": {
          "base_uri": "https://localhost:8080/"
        },
        "id": "s068IyA9MS68",
        "outputId": "6efcd150-3de2-468c-c7dd-54d70d445130"
      },
      "source": [
        "# 내적 해보기\n",
        "\n",
        "A = np.array([[1, 2],\n",
        "              [3, 4]])\n",
        "\n",
        "B = np.array([[5, 6],\n",
        "              [7, 8]])\n",
        "\n",
        "print(\"A.shape : {}\".format(A.shape))\n",
        "print(\"B.shape : {}\".format(B.shape))"
      ],
      "execution_count": null,
      "outputs": [
        {
          "output_type": "stream",
          "text": [
            "A.shape : (2, 2)\n",
            "B.shape : (2, 2)\n"
          ],
          "name": "stdout"
        }
      ]
    },
    {
      "cell_type": "markdown",
      "metadata": {
        "id": "HzLmrteSNCYY"
      },
      "source": [
        "A.shape(a, b) / B.shape(c, d)  \n",
        "두 행렬에서 b와 c의 값이 같으면 내적 가능!"
      ]
    },
    {
      "cell_type": "code",
      "metadata": {
        "colab": {
          "base_uri": "https://localhost:8080/"
        },
        "id": "qCRyooSuMpIE",
        "outputId": "5b51e2ac-e1a9-4969-87a6-90d25a6a671b"
      },
      "source": [
        "# 내적의 결과 프린트해서 확인\n",
        "print(np.dot(A, B))\n",
        "print()\n",
        "print(A @ B)  # 두 개의 표현은 같은 공식임"
      ],
      "execution_count": null,
      "outputs": [
        {
          "output_type": "stream",
          "text": [
            "[[19 22]\n",
            " [43 50]]\n",
            "\n",
            "[[19 22]\n",
            " [43 50]]\n"
          ],
          "name": "stdout"
        }
      ]
    },
    {
      "cell_type": "markdown",
      "metadata": {
        "id": "kPere0UhOCVv"
      },
      "source": [
        "### 행렬 내적의 특징\n",
        "\n",
        "* 교환 법칙 성립되지 않는다   $\n",
        "A \\cdot B \\ne B \\cdot A\n",
        "$\n"
      ]
    },
    {
      "cell_type": "code",
      "metadata": {
        "colab": {
          "base_uri": "https://localhost:8080/"
        },
        "id": "koHmkHbOOZE5",
        "outputId": "7160c504-24ad-464e-b392-f311c16d2ba1"
      },
      "source": [
        "B @ A"
      ],
      "execution_count": null,
      "outputs": [
        {
          "output_type": "execute_result",
          "data": {
            "text/plain": [
              "array([[23, 34],\n",
              "       [31, 46]])"
            ]
          },
          "metadata": {
            "tags": []
          },
          "execution_count": 7
        }
      ]
    },
    {
      "cell_type": "markdown",
      "metadata": {
        "id": "kgKoJfeqOdEf"
      },
      "source": [
        "## 행과 열의 개수가 다른 상태에서의 행렬 내적\n",
        "\n",
        "첫 번째 행렬의 첫 번째 차원의 원소 수(열의 수)와 두 번째 행렬의 0번째 차원의 원소 수(행의 수)가 일치해야 한다"
      ]
    },
    {
      "cell_type": "code",
      "metadata": {
        "colab": {
          "base_uri": "https://localhost:8080/"
        },
        "id": "4H-cpYNOOppb",
        "outputId": "30392020-d146-4cc2-f264-06debfdc11ae"
      },
      "source": [
        "A = np.arange(1, 7).reshape(2, 3)  # 2행 3열의 배열 생성\n",
        "B = np.arange(1, 7).reshape(3, 2)\n",
        "\n",
        "print(A.shape)\n",
        "print(B.shape)"
      ],
      "execution_count": null,
      "outputs": [
        {
          "output_type": "stream",
          "text": [
            "(2, 3)\n",
            "(3, 2)\n"
          ],
          "name": "stdout"
        }
      ]
    },
    {
      "cell_type": "markdown",
      "metadata": {
        "id": "wLFn7VQPO0_X"
      },
      "source": [
        "앞 행렬의 뒤 숫자와 뒤 행렬의 앞 숫자가 둘 다 3으로 같기 때문에 두 행렬은 내적 가능!"
      ]
    },
    {
      "cell_type": "code",
      "metadata": {
        "colab": {
          "base_uri": "https://localhost:8080/"
        },
        "id": "Rjm9NQ0POzYN",
        "outputId": "14133f0e-7803-44bf-be6d-f87348cb20b2"
      },
      "source": [
        "A @ B"
      ],
      "execution_count": null,
      "outputs": [
        {
          "output_type": "execute_result",
          "data": {
            "text/plain": [
              "array([[22, 28],\n",
              "       [49, 64]])"
            ]
          },
          "metadata": {
            "tags": []
          },
          "execution_count": 9
        }
      ]
    },
    {
      "cell_type": "code",
      "metadata": {
        "colab": {
          "base_uri": "https://localhost:8080/"
        },
        "id": "o2RLYYiQO_ti",
        "outputId": "d0ae2791-362d-44ef-aca8-2172b7b75a94"
      },
      "source": [
        "B @ A"
      ],
      "execution_count": null,
      "outputs": [
        {
          "output_type": "execute_result",
          "data": {
            "text/plain": [
              "array([[ 9, 12, 15],\n",
              "       [19, 26, 33],\n",
              "       [29, 40, 51]])"
            ]
          },
          "metadata": {
            "tags": []
          },
          "execution_count": 10
        }
      ]
    },
    {
      "cell_type": "markdown",
      "metadata": {
        "id": "xhHvIYvtPFGu"
      },
      "source": [
        "A.shape(a, b) / B.shape(c, d)  \n",
        "a, c : 출력될 배열의 shape  \n",
        "a : 행의 수 - 1차원 , c : 열의 수(스칼라) - 0차원"
      ]
    },
    {
      "cell_type": "code",
      "metadata": {
        "colab": {
          "base_uri": "https://localhost:8080/"
        },
        "id": "ZKdme9wsPAX9",
        "outputId": "fd4cc97b-1e1f-4251-c39b-8760928983e4"
      },
      "source": [
        "C = np.arange(1, 5).reshape(2, 2)\n",
        "\n",
        "print(A.shape)\n",
        "print(C.shape)"
      ],
      "execution_count": null,
      "outputs": [
        {
          "output_type": "stream",
          "text": [
            "(2, 3)\n",
            "(2, 2)\n"
          ],
          "name": "stdout"
        }
      ]
    },
    {
      "cell_type": "markdown",
      "metadata": {
        "id": "HH6zYuyDPdnL"
      },
      "source": [
        "위의 상태에서는 A @ C는 불가능하다  \n",
        "다만, C @ A 는 가능! (2, 3 배열로 출력)"
      ]
    },
    {
      "cell_type": "code",
      "metadata": {
        "colab": {
          "base_uri": "https://localhost:8080/"
        },
        "id": "TkwCyGclPU28",
        "outputId": "18c9b5d3-2a34-4aba-9ac3-2aa5c5e8b2f3"
      },
      "source": [
        "C @ A"
      ],
      "execution_count": null,
      "outputs": [
        {
          "output_type": "execute_result",
          "data": {
            "text/plain": [
              "array([[ 9, 12, 15],\n",
              "       [19, 26, 33]])"
            ]
          },
          "metadata": {
            "tags": []
          },
          "execution_count": 12
        }
      ]
    },
    {
      "cell_type": "markdown",
      "metadata": {
        "id": "sm4eU0qSPuzt"
      },
      "source": [
        "## 차원 수가 다른 상태에서의 행렬 내적"
      ]
    },
    {
      "cell_type": "code",
      "metadata": {
        "colab": {
          "base_uri": "https://localhost:8080/"
        },
        "id": "A_EaZv-_P_Jg",
        "outputId": "543611ef-ce07-4023-8d66-022ea7ae7fbb"
      },
      "source": [
        "A = A.reshape(3, 2)\n",
        "B = np.array([7, 8])\n",
        "\n",
        "print(A.shape)\n",
        "print(B.shape)"
      ],
      "execution_count": null,
      "outputs": [
        {
          "output_type": "stream",
          "text": [
            "(3, 2)\n",
            "(2,)\n"
          ],
          "name": "stdout"
        }
      ]
    },
    {
      "cell_type": "code",
      "metadata": {
        "colab": {
          "base_uri": "https://localhost:8080/"
        },
        "id": "PY0dL4iNQRz9",
        "outputId": "37040d3d-b627-4bcd-d1cb-63877ff1baa6"
      },
      "source": [
        "A @ B"
      ],
      "execution_count": null,
      "outputs": [
        {
          "output_type": "execute_result",
          "data": {
            "text/plain": [
              "array([23, 53, 83])"
            ]
          },
          "metadata": {
            "tags": []
          },
          "execution_count": 14
        }
      ]
    },
    {
      "cell_type": "markdown",
      "metadata": {
        "id": "HwnrqU00QS1p"
      },
      "source": [
        "B가 1차원 배열이지만 열 벡터로 계산하여 내적 가능함  \n",
        "\n",
        "계산이 안 맞기 때문에 B @ A 는 내적 안 됨"
      ]
    },
    {
      "cell_type": "code",
      "metadata": {
        "id": "RSPCTZeDQYkX"
      },
      "source": [
        ""
      ],
      "execution_count": null,
      "outputs": []
    }
  ]
}