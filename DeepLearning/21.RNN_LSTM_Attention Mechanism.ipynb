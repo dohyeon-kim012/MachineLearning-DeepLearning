{
  "nbformat": 4,
  "nbformat_minor": 0,
  "metadata": {
    "colab": {
      "name": "21.  RNN - LSTM - Attention Mechanism",
      "provenance": [],
      "collapsed_sections": [],
      "toc_visible": true,
      "authorship_tag": "ABX9TyM0XjqrGkxAkWxIBpg9aHef",
      "include_colab_link": true
    },
    "kernelspec": {
      "name": "python3",
      "display_name": "Python 3"
    },
    "language_info": {
      "name": "python"
    },
    "accelerator": "GPU"
  },
  "cells": [
    {
      "cell_type": "markdown",
      "metadata": {
        "id": "view-in-github",
        "colab_type": "text"
      },
      "source": [
        "<a href=\"https://colab.research.google.com/github/dohyeon-kim012/MachineLearning-DeepLearning/blob/main/DeepLearning/21.RNN_LSTM_Attention%20Mechanism.ipynb\" target=\"_parent\"><img src=\"https://colab.research.google.com/assets/colab-badge.svg\" alt=\"Open In Colab\"/></a>"
      ]
    },
    {
      "cell_type": "markdown",
      "metadata": {
        "id": "S2rzczmbW9eF"
      },
      "source": [
        "# Attention 신경망 구현 및 학습"
      ]
    },
    {
      "cell_type": "markdown",
      "metadata": {
        "id": "72yJ1c2P1cSP"
      },
      "source": [
        "## Seq2Seq로 챗봇 만들기 ( with Attention )"
      ]
    },
    {
      "cell_type": "code",
      "metadata": {
        "id": "oD_fqBSS3P_4",
        "colab": {
          "base_uri": "https://localhost:8080/"
        },
        "outputId": "dd54a8c9-f965-4b88-baf3-69a65aec585b"
      },
      "source": [
        "!pip install konlpy"
      ],
      "execution_count": 1,
      "outputs": [
        {
          "output_type": "stream",
          "text": [
            "Requirement already satisfied: konlpy in /usr/local/lib/python3.7/dist-packages (0.5.2)\n",
            "Requirement already satisfied: lxml>=4.1.0 in /usr/local/lib/python3.7/dist-packages (from konlpy) (4.2.6)\n",
            "Requirement already satisfied: numpy>=1.6 in /usr/local/lib/python3.7/dist-packages (from konlpy) (1.19.5)\n",
            "Requirement already satisfied: colorama in /usr/local/lib/python3.7/dist-packages (from konlpy) (0.4.4)\n",
            "Requirement already satisfied: beautifulsoup4==4.6.0 in /usr/local/lib/python3.7/dist-packages (from konlpy) (4.6.0)\n",
            "Requirement already satisfied: JPype1>=0.7.0 in /usr/local/lib/python3.7/dist-packages (from konlpy) (1.3.0)\n",
            "Requirement already satisfied: tweepy>=3.7.0 in /usr/local/lib/python3.7/dist-packages (from konlpy) (3.10.0)\n",
            "Requirement already satisfied: typing-extensions in /usr/local/lib/python3.7/dist-packages (from JPype1>=0.7.0->konlpy) (3.7.4.3)\n",
            "Requirement already satisfied: six>=1.10.0 in /usr/local/lib/python3.7/dist-packages (from tweepy>=3.7.0->konlpy) (1.15.0)\n",
            "Requirement already satisfied: requests[socks]>=2.11.1 in /usr/local/lib/python3.7/dist-packages (from tweepy>=3.7.0->konlpy) (2.23.0)\n",
            "Requirement already satisfied: requests-oauthlib>=0.7.0 in /usr/local/lib/python3.7/dist-packages (from tweepy>=3.7.0->konlpy) (1.3.0)\n",
            "Requirement already satisfied: oauthlib>=3.0.0 in /usr/local/lib/python3.7/dist-packages (from requests-oauthlib>=0.7.0->tweepy>=3.7.0->konlpy) (3.1.1)\n",
            "Requirement already satisfied: idna<3,>=2.5 in /usr/local/lib/python3.7/dist-packages (from requests[socks]>=2.11.1->tweepy>=3.7.0->konlpy) (2.10)\n",
            "Requirement already satisfied: chardet<4,>=3.0.2 in /usr/local/lib/python3.7/dist-packages (from requests[socks]>=2.11.1->tweepy>=3.7.0->konlpy) (3.0.4)\n",
            "Requirement already satisfied: urllib3!=1.25.0,!=1.25.1,<1.26,>=1.21.1 in /usr/local/lib/python3.7/dist-packages (from requests[socks]>=2.11.1->tweepy>=3.7.0->konlpy) (1.24.3)\n",
            "Requirement already satisfied: certifi>=2017.4.17 in /usr/local/lib/python3.7/dist-packages (from requests[socks]>=2.11.1->tweepy>=3.7.0->konlpy) (2021.5.30)\n",
            "Requirement already satisfied: PySocks!=1.5.7,>=1.5.6 in /usr/local/lib/python3.7/dist-packages (from requests[socks]>=2.11.1->tweepy>=3.7.0->konlpy) (1.7.1)\n"
          ],
          "name": "stdout"
        }
      ]
    },
    {
      "cell_type": "code",
      "metadata": {
        "id": "QIa1FJcJ3Rsq"
      },
      "source": [
        "import random\n",
        "import tensorflow as tf\n",
        "from konlpy.tag import Okt"
      ],
      "execution_count": 2,
      "outputs": []
    },
    {
      "cell_type": "markdown",
      "metadata": {
        "id": "YXk7NwD33euz"
      },
      "source": [
        "### 하이퍼 파라미터"
      ]
    },
    {
      "cell_type": "code",
      "metadata": {
        "id": "IKKciARt3uXO"
      },
      "source": [
        "num_epochs = 200\n",
        "vocab_size = 2000"
      ],
      "execution_count": 3,
      "outputs": []
    },
    {
      "cell_type": "markdown",
      "metadata": {
        "id": "KTutR6Kr3-aI"
      },
      "source": [
        "### Encoder 정의"
      ]
    },
    {
      "cell_type": "code",
      "metadata": {
        "id": "0-QOLBmS4A6q"
      },
      "source": [
        "class Encoder(tf.keras.Model):\n",
        "    def __init__(self):\n",
        "        super(Encoder, self).__init__()\n",
        "        self.emb = tf.keras.layers.Embedding(vocab_size, 64)\n",
        "        self.lstm = tf.keras.layers.LSTM(512, return_sequences=True, return_state=True)\n",
        "        # return_sequences = True 로 변경 -> 이를 K, V로 사용해야 함\n",
        "\n",
        "    def call(self, x, training=False):\n",
        "        x = self.emb(x)\n",
        "        H, h, c = self.lstm(x) # 매 시퀀스마다의 Hidden State - 'H' 를 K, V로 사용해야 함\n",
        "        \n",
        "        return H, h, c"
      ],
      "execution_count": 25,
      "outputs": []
    },
    {
      "cell_type": "markdown",
      "metadata": {
        "id": "cPl8qjTd4DZd"
      },
      "source": [
        "### Decoder 정의\n",
        "\n",
        "1. Attention 매커니즘 추가  \n",
        "    LSTM 출력에 Attention Value를 concat해서 dense 쪽으로 넘겨주는 것  \n",
        "    -> **Attention Mechanism**  \n",
        "    ```python\n",
        "    self.att = tf.keras.layers.Attention()\n",
        "    ```\n",
        "\n",
        "2. 디코더에는 총 4개의 입력이 필요함\n",
        "    - 디코더의 hidden state - `S` \n",
        "    - 인코더의 hidden state - `H`\n",
        "    - 각 셀의 cell state - `Key, Value`\n",
        "    - 이전 time step의 shifted Output\n",
        "\n",
        "    ```python\n",
        "x, s0, c0, H = inputs\n",
        "# x : shifted Output\n",
        "# s0 : t-1 번째 Decoder의 Hidden State\n",
        "# c0 : t-1 번째 Decoder의 Cell State\n",
        "# H : Encoder의 Hidden States -> K, V 로 활용됨\n",
        "```\n",
        "\n",
        "3. Attention으로 넘어가는 State를 따로 편집해야 함  \n",
        "\n",
        "  --> 이전 스텝의 모든 내용을 이어서 Query ( S_ ) 로 만들기\n",
        "    1. `s0[:, tf.newaxis, :]` : 1개의 time step ( tf.newaxis ) 를 추가해야 함\n",
        "        - `S : (32, 64, 512)` \n",
        "            - `Training=True`면 64개의 x가 순서대로 들어가서 TimeStep이 쌓이니까..\n",
        "            - `Training=False`면 쌓여가는 Sequence 별로 쌓이게 된다. (32, 1, 512) - (32, 2, 512) - (32, 3, 512)\n",
        "        - 따라서 `Training=False` 일 때를 위해 time step용 axis를 추가\n",
        "    2. `S[:, :-1, :]` : 마지막 hidden state의 출력은 내지 않는다 -> `<eos>`가 들어가야 하기 때문에  \n",
        "        `axis=1` : newaxis와 :-1(63개) 가 합쳐져야 하기 때문에\n",
        "    ```python\n",
        "    S_ = tf.concat([s0[:, tf.newaxis, :], S[:, :-1, :]], axis=1)\n",
        "    ```\n",
        "    3. Attention Value 만들기  \n",
        "        - Query ( S_ ) 를 먼저 입력하고, Key와 Value ( H ) 를 입력해주기  \n",
        "        - A : 각 스텝 마다의 Attention Value ( 32, 64, 512 )\n",
        "    ```python\n",
        "        A = self.att([S_, H])\n",
        "        ```\n",
        "    4. Concat 의 결과인 벡터 V 만들기  \n",
        "        - Dense로 넣어 주기 전에 Dense로 들어가게 될 Hidden State ( S ) 와 Attention Value ( A ) 르 concat하기\n",
        "        - 스칼라값이 늘어날 수 있도록 ( 한 줄로 쭉 이어지도록 ) 가장 마지막 차원의 axis 추가\n",
        "    ```python\n",
        "        V = tf.concat([S, A], axis=-1)\n",
        "        ```\n"
      ]
    },
    {
      "cell_type": "markdown",
      "metadata": {
        "id": "J0DbMrtugiiZ"
      },
      "source": [
        "64번의 반복 -> 512개의 결과\n",
        "\n",
        "![image.png](data:image/png;base64,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)"
      ]
    },
    {
      "cell_type": "code",
      "metadata": {
        "id": "4MljS6W64E-q"
      },
      "source": [
        "class Decoder(tf.keras.Model):\n",
        "    def __init__(self):\n",
        "        super(Decoder, self).__init__()\n",
        "\n",
        "        self.emb = tf.keras.layers.Embedding(vocab_size, 64)\n",
        "        self.lstm = tf.keras.layers.LSTM(512, return_sequences=True, return_state=True)\n",
        "\n",
        "        self.att = tf.keras.layers.Attention()\n",
        "\n",
        "        self.dense = tf.keras.layers.Dense(vocab_size, activation='softmax')\n",
        "\n",
        "    def call(self, inputs, training=False):\n",
        "        x, s0, c0, H = inputs\n",
        "\n",
        "        x = self.emb(x) \n",
        "\n",
        "        S, h, c = self.lstm(x, initial_state=[s0, c0]) # initial_state 변경\n",
        "\n",
        "        S_ = tf.concat([s0[:, tf.newaxis, :], S[:, :-1, :]], axis=1)\n",
        "\n",
        "        A = self.att([S_, H])\n",
        "        V = tf.concat([S, A], axis=-1)\n",
        "\n",
        "        y = self.dense(V)\n",
        "\n",
        "        return y, h, c"
      ],
      "execution_count": 46,
      "outputs": []
    },
    {
      "cell_type": "markdown",
      "metadata": {
        "id": "g7cHRjba4HNB"
      },
      "source": [
        "### Seq2Seq ( 메인 모델 ) 정의\n"
      ]
    },
    {
      "cell_type": "code",
      "metadata": {
        "id": "eJa2dmJh4Ncc"
      },
      "source": [
        "class Seq2Seq(tf.keras.Model):\n",
        "    def __init__(self, sos, eos): \n",
        "        super(Seq2Seq, self).__init__()\n",
        "        self.sos = sos \n",
        "        self.eos = eos \n",
        "        \n",
        "        self.enc = Encoder()\n",
        "        self.dec = Decoder()\n",
        "\n",
        "    def call(self, inputs, training=False):\n",
        "        if training:\n",
        "            x, y = inputs \n",
        "            H, h, c = self.enc(x) \n",
        "\n",
        "            # Key, Value로 사용되어지는 hidden_state를 디코더에 넣어줌\n",
        "            y, _, __ = self.dec((y, h, c, H)) \n",
        "\n",
        "            return y \n",
        "        \n",
        "        else: \n",
        "            x = inputs # x : 질문 문장\n",
        "            H, h, c = self.enc(x) # 전체 Hidden States(H) 리턴\n",
        "\n",
        "            y = tf.convert_to_tensor(self.sos)\n",
        "            y = tf.reshape(y, (1, 1)) \n",
        "\n",
        "            seq = tf.TensorArray(tf.int32, 64) \n",
        "\n",
        "            for idx in tf.range(64):\n",
        "                y, h, c = self.dec([y, h, c, H]) # 마지막에 H (Key, Value) 넘겨주기 \n",
        "                y = tf.cast(tf.argmax(y, axis=-1), dtype=tf.int32)\n",
        "\n",
        "                y = tf.reshape(y, (1, 1)) \n",
        "\n",
        "                seq = seq.write(idx, y) \n",
        "\n",
        "                if y == self.eos:\n",
        "                    break\n",
        "            \n",
        "            return tf.reshape(seq.stack(), (1, 64))"
      ],
      "execution_count": 47,
      "outputs": []
    },
    {
      "cell_type": "markdown",
      "metadata": {
        "id": "oh9QcBcY4QE9"
      },
      "source": [
        "## 학습, 테스트 루프 정의\n"
      ]
    },
    {
      "cell_type": "code",
      "metadata": {
        "id": "-kgLxuTZX9bq"
      },
      "source": [
        "@tf.function\n",
        "def train_step(model, inputs, labels, loss_object, optimizer, train_loss, train_accuracy):\n",
        "    output_labels = labels[:, 1:] # 출력값\n",
        "    shifted_labels = labels[:, :-1] # 입력값\n",
        "\n",
        "    with tf.GradientTape() as tape:\n",
        "        predictions = model([inputs, shifted_labels], training=True) # 예측을 하고\n",
        "        loss = loss_object(output_labels, predictions) # 정답이 이거였어~ 라고 이야기하기\n",
        "\n",
        "    # 기울기 계산\n",
        "    gradients = tape.gradient(loss, model.trainable_variables)\n",
        "    # 오차역전파 - weight 업데이트\n",
        "    optimizer.apply_gradients(zip(gradients, model.trainable_variables))\n",
        "\n",
        "    # loss와 accuracy 업데이트\n",
        "    train_loss(loss)\n",
        "    train_accuracy(output_labels, predictions)\n",
        "\n",
        "@tf.function\n",
        "def test_step(model, inputs):\n",
        "    # 입력값만 주고 결과 확인을 위해 추론값 return받기\n",
        "    return model(inputs, training=False)"
      ],
      "execution_count": 48,
      "outputs": []
    },
    {
      "cell_type": "markdown",
      "metadata": {
        "id": "ltZ0sPH5jf_E"
      },
      "source": [
        "## 데이터셋 준비 \n",
        "`chatbot_data.csv` ( http://www.aihub.or.kr )"
      ]
    },
    {
      "cell_type": "code",
      "metadata": {
        "id": "FaowbfL5jrnS"
      },
      "source": [
        "from konlpy.tag import Okt\n",
        "\n",
        "dataset_file = 'chatbot_data.csv'\n",
        "okt = Okt()"
      ],
      "execution_count": 49,
      "outputs": []
    },
    {
      "cell_type": "code",
      "metadata": {
        "id": "dwW1oyttj3rX"
      },
      "source": [
        "with open(dataset_file, 'r') as file:\n",
        "    lines = file.readlines()\n",
        "    seq = [\" \".join(okt.morphs(line)) for line in lines] # 한 줄씩 형태소 분석 후, 다시 한 줄로 합쳐주기"
      ],
      "execution_count": 50,
      "outputs": []
    },
    {
      "cell_type": "code",
      "metadata": {
        "colab": {
          "base_uri": "https://localhost:8080/"
        },
        "id": "eIXIYRsKkPbH",
        "outputId": "938167ef-b4c0-4aa0-863e-e59869d7e95a"
      },
      "source": [
        "seq[:6]"
      ],
      "execution_count": 51,
      "outputs": [
        {
          "output_type": "execute_result",
          "data": {
            "text/plain": [
              "['아이스 아메리카노 하나요 \\n',\n",
              " '테이크아웃 하실 건가 요 ? \\n',\n",
              " '저 카푸치노 로 주문 할게요 \\n',\n",
              " '시럽 은 얼마나 뿌려 드릴 까요 ? \\n',\n",
              " '저 도장 다 모았는데 나중 에 써도 되나요 ? \\n',\n",
              " '네 다음 에 써도 됩니다 \\n']"
            ]
          },
          "metadata": {
            "tags": []
          },
          "execution_count": 51
        }
      ]
    },
    {
      "cell_type": "code",
      "metadata": {
        "colab": {
          "base_uri": "https://localhost:8080/"
        },
        "id": "kSEwybNgkPxe",
        "outputId": "3d4d31aa-be7e-40bb-ddf1-9777bbe8112b"
      },
      "source": [
        "questions = seq[::2]\n",
        "answers = ['\\t ' + lines for lines in seq[1::2]]\n",
        "# \\t : <sos> , 대답 앞 쪽에 붙여서 대답을 분류해내는 수단으로 쓸 것\n",
        "\n",
        "print(questions[:3])\n",
        "print(answers[:3])"
      ],
      "execution_count": 52,
      "outputs": [
        {
          "output_type": "stream",
          "text": [
            "['아이스 아메리카노 하나요 \\n', '저 카푸치노 로 주문 할게요 \\n', '저 도장 다 모았는데 나중 에 써도 되나요 ? \\n']\n",
            "['\\t 테이크아웃 하실 건가 요 ? \\n', '\\t 시럽 은 얼마나 뿌려 드릴 까요 ? \\n', '\\t 네 다음 에 써도 됩니다 \\n']\n"
          ],
          "name": "stdout"
        }
      ]
    },
    {
      "cell_type": "markdown",
      "metadata": {
        "id": "AF6QChMdlc4s"
      },
      "source": [
        "- `\\t` : `<sos>`  \n",
        "- `\\n` : `<eos>`"
      ]
    },
    {
      "cell_type": "markdown",
      "metadata": {
        "id": "u7RfEg5IlSWv"
      },
      "source": [
        "### 데이터 잘라내기"
      ]
    },
    {
      "cell_type": "code",
      "metadata": {
        "colab": {
          "base_uri": "https://localhost:8080/"
        },
        "id": "n0_pAJoclms_",
        "outputId": "c5630a6b-bfe3-484a-8d11-023935415a49"
      },
      "source": [
        "num_samples = len(questions) # 500개\n",
        "term = list(range(num_samples))\n",
        "print(\"before shuffle : {}\".format(term[:10]))\n",
        "\n",
        "# 랜덤 시드 고정\n",
        "random.seed(0)\n",
        "random.shuffle(term)\n",
        "print(\"after shuffle : {}\".format(term[:10]))"
      ],
      "execution_count": 53,
      "outputs": [
        {
          "output_type": "stream",
          "text": [
            "before shuffle : [0, 1, 2, 3, 4, 5, 6, 7, 8, 9]\n",
            "after shuffle : [419, 459, 130, 431, 370, 26, 201, 56, 366, 108]\n"
          ],
          "name": "stdout"
        }
      ]
    },
    {
      "cell_type": "code",
      "metadata": {
        "id": "l4BLJyz-mnOJ"
      },
      "source": [
        "train_q = [] # X_train\n",
        "train_a = [] # y_train\n",
        "\n",
        "test_q = [] # X_test\n",
        "test_a = [] # y_test"
      ],
      "execution_count": 54,
      "outputs": []
    },
    {
      "cell_type": "code",
      "metadata": {
        "id": "vY4dh0nAm9aE"
      },
      "source": [
        "test_ratio = 0.2 \n",
        "test_cnt = int(len(questions) * test_ratio)\n",
        "\n",
        "train_indices = term[test_cnt:]\n",
        "test_indices = term[:test_cnt]\n",
        "\n",
        "for idx in train_indices:\n",
        "    train_q.append(questions[idx])\n",
        "    train_a.append(answers[idx])\n",
        "\n",
        "for idx in test_indices:\n",
        "    test_q.append(questions[idx])\n",
        "    test_a.append(answers[idx])"
      ],
      "execution_count": 55,
      "outputs": []
    },
    {
      "cell_type": "markdown",
      "metadata": {
        "id": "j_wKfNIxnwDk"
      },
      "source": [
        "```python\n",
        "for idx, qna in enumerate(zip(questions, answers)):\n",
        "    q, a = qna\n",
        "    \n",
        "    if term[idx] > num_samples // 5 : \n",
        "```"
      ]
    },
    {
      "cell_type": "code",
      "metadata": {
        "colab": {
          "base_uri": "https://localhost:8080/"
        },
        "id": "eaIjj-bJnEEh",
        "outputId": "0a60a66f-7563-4bb3-acb6-9eaf4241ee8d"
      },
      "source": [
        "test_q[:3], test_a[:3]"
      ],
      "execution_count": 56,
      "outputs": [
        {
          "output_type": "execute_result",
          "data": {
            "text/plain": [
              "(['사이 즈 업 해서 주세요 \\n',\n",
              "  '캐러멜 드리블 이랑 통 잡아 칩이요 \\n',\n",
              "  '시즌 메뉴 와 함께 구성 되어 있는 세트 메뉴 가 있나요 ? \\n'],\n",
              " ['\\t 네 결제 는 어떻게 도 와 드릴 까요 ? \\n',\n",
              "  '\\t 6700원 결제 도 와 드리겠습니다 \\n',\n",
              "  '\\t 네 치즈 케이크 와 시즌 메뉴 두 잔 으로 구성 된 세트 메뉴 있습니다 \\n'])"
            ]
          },
          "metadata": {
            "tags": []
          },
          "execution_count": 56
        }
      ]
    },
    {
      "cell_type": "markdown",
      "metadata": {
        "id": "mh5JIFk2oi-Q"
      },
      "source": [
        "### 토크나이징"
      ]
    },
    {
      "cell_type": "code",
      "metadata": {
        "id": "M50l_5Yeoq7d"
      },
      "source": [
        "from tensorflow.keras.preprocessing.text import Tokenizer\n",
        "from tensorflow.keras.preprocessing.sequence import pad_sequences\n",
        "\n",
        "tokenizer = Tokenizer(num_words=vocab_size, filters='!\"#$%&()*+,-./:;<=>?@[\\\\]^_`{|}~')"
      ],
      "execution_count": 57,
      "outputs": []
    },
    {
      "cell_type": "code",
      "metadata": {
        "colab": {
          "base_uri": "https://localhost:8080/"
        },
        "id": "o5lfHNhSpKWY",
        "outputId": "b7c4a69d-7346-4445-d292-4fdb846e503a"
      },
      "source": [
        "tokenizer.fit_on_texts(train_q + train_a) \n",
        "print(tokenizer.word_index)"
      ],
      "execution_count": 58,
      "outputs": [
        {
          "output_type": "stream",
          "text": [
            "{'\\n': 1, '\\t': 2, '네': 3, '주세요': 4, '로': 5, '아메리카노': 6, '는': 7, '에': 8, '아이스': 9, '도': 10, '요': 11, '잔': 12, '이': 13, '한': 14, '드릴': 15, '까요': 16, '은': 17, '입니다': 18, '사이즈': 19, '가': 20, '있나요': 21, '결제': 22, '수': 23, '하나': 24, '있습니다': 25, '와': 26, '드시고': 27, '해주세요': 28, '할게요': 29, '으로': 30, '라테': 31, '추가': 32, '따뜻한': 33, '주문': 34, '사용': 35, '음료': 36, '되나요': 37, '여기': 38, '아니요': 39, '거': 40, '얼마': 41, '개': 42, '그럼': 43, '카드': 44, '랑': 45, '드리겠습니다': 46, '케이크': 47, '어떤': 48, '걸': 49, '포인트': 50, '가시나요': 51, '한잔': 52, '할인': 53, '적립': 54, '다': 55, '커피': 56, '더': 57, '인가요': 58, '쿠폰': 59, '가요': 60, '드릴게요': 61, '티': 62, '건': 63, '가능합니다': 64, '알겠습니다': 65, '에서': 66, '가능한가요': 67, '매장': 68, '를': 69, '진동': 70, '면': 71, '벨': 72, '안': 73, '번호': 74, '만': 75, '에요': 76, '메뉴': 77, '하나요': 78, '디카': 79, '페인': 80, '건가': 81, '샷': 82, '있어요': 83, '됩니다': 84, '테이크아웃': 85, '예요': 86, '스무디': 87, '게': 88, '카페라테': 89, '두': 90, '같이': 91, '자몽': 92, '하고': 93, '치즈케이크': 94, '제일': 95, '뭐': 96, '카페모카': 97, '기프티콘': 98, '세트': 99, '지금': 100, '종류': 101, '해서': 102, '업': 103, '먹고': 104, '휘핑크림': 105, '이랑': 106, '머핀': 107, '몇': 108, '어떻게': 109, '현금영수증': 110, '원': 111, '해드리겠습니다': 112, '하실': 113, '까지': 114, '초코': 115, '주스': 116, '화이트': 117, '프라푸치노': 118, '해': 119, '시럽': 120, '테이크': 121, '아웃': 122, '많이': 123, '베이글': 124, '2': 125, '다른': 126, '울리면': 127, '가능하세요': 128, '1': 129, '텀블러': 130, '저': 131, '갈': 132, '컵': 133, '주시': 134, '할': 135, '바닐라': 136, '크림': 137, '추천': 138, '없으신': 139, '4500원': 140, '해드릴게요': 141, '500원': 142, '총': 143, '포장': 144, '딸기': 145, '중': 146, '혹시': 147, '판매': 148, '밀크': 149, '영수증': 150, '과': 151, '둘': 152, '스콘': 153, '아': 154, '잘': 155, '찍어주세요': 156, '계산': 157, '루이보스': 158, '정도': 159, '맛': 160, '원두': 161, '필요한': 162, '올려': 163, '가실': 164, '준비': 165, '없으세요': 166, '어디': 167, '자리': 168, '얼마나': 169, '오늘': 170, '휘핑': 171, '얼음': 172, '그냥': 173, '화장실': 174, '담아': 175, '서': 176, '라지': 177, '있을까요': 178, '과일': 179, '카페인': 180, '것': 181, '가격': 182, '인데': 183, '있으세요': 184, '있으신': 185, '저희': 186, '치즈': 187, '플랫': 188, '죠': 189, '시즌': 190, '넣어': 191, '고객': 192, '님': 193, '알려': 194, '도장': 195, '되죠': 196, '그러면': 197, '티라미슈': 198, '변경': 199, '페이': 200, '데': 201, '카푸치노': 202, '주실': 203, '고': 204, '샌드위치': 205, '티라미수': 206, '현금': 207, '그렇게': 208, '쿠키': 209, '차갑게': 210, '아니오': 211, '일회용': 212, '따뜻하게': 213, '무료': 214, '이나': 215, '말차': 216, '나가요': 217, '영업': 218, '있는데': 219, '생크림': 220, '이드': 221, '을': 222, '유자차': 223, '조각': 224, '아뇨': 225, '유리잔': 226, '뭘': 227, '와주세요': 228, '10시': 229, '필요하신': 230, '해드릴까': 231, '가능하십니다': 232, '가세': 233, '말씀': 234, '완료': 235, '되었습니다': 236, '하시겠어요': 237, '선택': 238, '부탁드릴게요': 239, '때': 240, '핫초코': 241, '파나요': 242, '블루베리': 243, '담아주세요': 244, '건데': 245, '차가운': 246, '엔': 247, '뭔가': 248, '주': 249, '주시나요': 250, '넣어주세요': 251, '찾으러': 252, '될까': 253, '우유': 254, '부탁드려요': 255, '담아주실': 256, '스몰': 257, '10': 258, '가능할까': 259, '괜찮아요': 260, '키위': 261, '주차': 262, '조금': 263, '없나요': 264, '에스프레소': 265, '입력': 266, '카페라떼': 267, '페퍼민트': 268, '그리고': 269, '멤버십': 270, '앞': 271, '피지': 272, '제': 273, '녹차': 274, '바코드': 275, '와이파이': 276, '비밀번호': 277, '차': 278, '만들어': 279, '캐리어': 280, '겨울': 281, '시': 282, '있는': 283, '에는': 284, '쪽': 285, '잠시': 286, '10분': 287, '에서는': 288, '머그컵': 289, '않습니다': 290, '그럼요': 291, '하시면': 292, '하시는': 293, '가능해요': 294, '4000원': 295, '나': 296, '맞으세요': 297, '2000원': 298, '오시': 299, '레드': 300, '벨벳': 301, '언제': 302, '맛있는': 303, '모았는데': 304, '써도': 305, '하겠습니다': 306, '카카오': 307, '사이': 308, '즈': 309, '기다려야': 310, '의': 311, '개인': 312, '칩': 313, '적게': 314, '그': 315, '팥빙수': 316, '아이리쉬': 317, '있죠': 318, '갈게요': 319, '허니': 320, '브레드': 321, '직접': 322, '우려': 323, '시간': 324, '계절': 325, '부탁드립니다': 326, '모카': 327, '아아': 328, '만들어주세요': 329, '차는': 330, '캐러멜': 331, '들고': 332, '통신사': 333, '나갈': 334, '딸기스무디': 335, '생': 336, '모으면': 337, '마실': 338, '양': 339, '다음': 340, '번': 341, '이번': 342, '좀': 343, '하시나요': 344, '라떼': 345, '잔이요': 346, '걸려요': 347, '주시겠어요': 348, '어니언': 349, '접시': 350, '빵': 351, '민트': 352, '올려주세요': 353, '그건': 354, '쓸': 355, '하면': 356, '프라': 357, '페': 358, '맛있어요': 359, '걸릴까': 360, '충전': 361, '따로': 362, '있고': 363, '뜨거운': 364, '감귤': 365, '인절미': 366, '쏙쏙': 367, '붕어빵': 368, '고소한': 369, '품절': 370, '인': 371, '엘지': 372, '파이': 373, '전': 374, '대체': 375, '무엇': 376, '두유': 377, '없습니다': 378, '잘나가요': 379, '불가능합니다': 380, '괜찮으세요': 381, '300원': 382, '기다려주세요': 383, '내': 384, '상': 385, '드리고': 386, '이신': 387, '재료': 388, '바로': 389, '손님': 390, '하지': 391, '안됩니다': 392, '돼요': 393, '블랙': 394, '찍어': 395, '괜찮으신': 396, '픽업': 397, '해드려요': 398, '제공': 399, '오세요': 400, '받았습니다': 401, '플레인': 402, '기본': 403, '오후': 404, '따듯': 405, '안되고': 406, '톨': 407, '데워': 408, '5분': 409, '되셨습니다': 410, '9500원': 411, '카운터': 412, '문': 413, '없으시고요': 414, '보다': 415, '드려요': 416, '머그잔': 417, '해주시면': 418, '바꿔': 419, '5000원': 420, '점': 421, '부터': 422, '마감': 423, '앉아있다': 424, '가면': 425, '잘나가는': 426, '가져갈': 427, '기프트': 428, '콘': 429, '가능하나요': 430, '브런치': 431, '가져갈게요': 432, '빨대': 433, '아메리카': 434, '부탁': 435, '해요': 436, '나오나요': 437, '나중': 438, 'kt': 439, '더블': 440, '위': 441, '마시다가': 442, '들고나': 443, '그란': 444, '사이드': 445, '날씨': 446, '먹어요': 447, '받으려면': 448, '30': 449, '자바': 450, '빼고요': 451, '량': 452, '조절': 453, '걸리나요': 454, '십': 455, '시오': 456, '마카롱': 457, '남아있나요': 458, '하려고': 459, '대면': 460, '데워주실': 461, '줘요': 462, '남은': 463, '삼': 464, '성': 465, '에만': 466, '나오는': 467, '후': 468, '오면': 469, '받을': 470, '타서': 471, '연하게': 472, '만들어주실': 473, '모바일': 474, '함께': 475, '드리블': 476, '통': 477, '잡아': 478, '깔아주세요': 479, '전부': 480, '돼도': 481, '해주죠': 482, '안전히': 483, '있게': 484, '마시다': 485, '거니': 486, '없을까요': 487, '아이스커피': 488, '가능하죠': 489, '적은': 490, '숏': 491, '했어요': 492, '업은': 493, '삼성': 494, '덜': 495, '넣어주실': 496, '그린': 497, '20': 498, '말고': 499, '새로': 500, '적고': 501, '사람': 502, '당': 503, '씩': 504, '시켜야': 505, '아닌': 506, '들어간': 507, '휴대폰': 508, '마시려는데': 509, '명': 510, '창가': 511, '앉을': 512, '들어있지': 513, '않은': 514, '차감': 515, '으로는': 516, '없이': 517, '줄': 518, '스타벅스': 519, '당근': 520, '캐머': 521, '마일': 522, '물티슈': 523, '챙겨': 524, '큰': 525, '쿠앤크': 526, '치노': 527, '미지근한': 528, '물': 529, '그거': 530, '저번': 531, '와서': 532, '먹은': 533, '미숫가루': 534, '없네요': 535, '4': 536, '아직': 537, '런치': 538, '코': 539, '찡할': 540, '만큼': 541, '동시': 542, '가겠습니다': 543, '달': 544, '지': 545, '않나요': 546, '마키아토': 547, '들어가죠': 548, '먹을': 549, '맴버쉽': 550, '옮겨줄': 551, '콘센트': 552, '주시는데': 553, '들어가있나요': 554, '키': 555, '오스': 556, '크에서': 557, '되네요': 558, '나왔어요': 559, '해주신': 560, '3': 561, '어우러지는': 562, '업도': 563, '진하게': 564, '젤': 565, '좋아하는': 566, '리저브': 567, '처음': 568, '눌렀습니다': 569, '쓴가요': 570, '기존': 571, '통합': 572, '시킬': 573, '수도': 574, '레몬': 575, '분': 576, '들은': 577, '기계': 578, '인식': 579, '안되는데요': 580, '2만': 581, '밸': 582, '휘핑빼': 583, '우선': 584, '물이': 585, '치': 586, '오천': 587, '이요': 588, '먹을게요': 589, '감사합니다': 590, '하나같이': 591, '빅사': 592, '이즈': 593, '기프트카드': 594, '올라가는': 595, '작은': 596, '실내': 597, '가져왔는데': 598, '평소': 599, '주로': 600, '마시는데요': 601, '그런데': 602, '중간': 603, '대신': 604, '유로': 605, '빼주세요': 606, '빼주실': 607, '너무': 608, '달아서': 609, '싫은데': 610, '있으면': 611, '케익': 612, '교환': 613, '권': 614, '바꿀': 615, '로는': 616, '맛있나요': 617, '오픈': 618, '챙겨주세요': 619, '단것': 620, '별로': 621, '와는': 622, '해주시': 623, '카페': 624, '요금': 625, '바꿔서': 626, '올해': 627, '부터는': 628, '점포': 629, '1회': 630, '용을': 631, '바닥': 632, '청소': 633, '해야': 634, '죄송합니다': 635, '요새': 636, '라이트': 637, '5500원': 638, '바나나': 639, '파인애플': 640, '가지': 641, '계시다가': 642, '가져가세요': 643, '레귤러': 644, '14': 645, '나갑니다': 646, '팔려요': 647, '적용': 648, '9300원': 649, '규정': 650, '인기': 651, '기다려': 652, '단체': 653, '작아서': 654, '들어가요': 655, '6600원': 656, '팔렸어요': 657, '음식': 658, '이라': 659, '안되세요': 660, '되어': 661, '1만': 662, '1천': 663, '복도': 664, '나가시': 665, '보여요': 666, '가시는': 667, '괜찮으실까': 668, '8000원': 669, '드립니다': 670, '왼쪽': 671, '보시': 672, '7천원': 673, '만들고': 674, '진할': 675, '다시': 676, '해주시겠어요': 677, '드실': 678, '드리도록': 679, '되어있습니다': 680, '보여주세요': 681, '손잡이': 682, '투': 683, '들어가는데': 684, '대로': 685, '사항': 686, '곳': 687, '고르시면': 688, '보통': 689, '여자': 690, '분들': 691, '특정': 692, '선호': 693, '아니면': 694, '예': 695, '가체': 696, '프': 697, '냉동': 698, '제품': 699, '이고': 700, '다해': 701, '10900원': 702, '하프': 703, '되셔서': 704, '또': 705, '50': 706, '4천원': 707, '18000원': 708, '꽃': 709, '15000': 710, '1500원': 711, '어떠세요': 712, '500': 713, '기다리시면': 714, '안내': 715, '성분': 716, '들어가지': 717, '번만': 718, '테이블': 719, '하게': 720, '아예': 721, '빼는': 722, '최대한': 723, '하시고': 724, '잔액': 725, '3천': 726, '드렸고': 727, '이리': 728, '드릴가요': 729, '하세요': 730, '오전': 731, '이전': 732, '오셔서': 733, '한정': 734, '라': 735, '동일하게': 736, '저기': 737, '가져오시면': 738, '2시': 739, '가지러': 740, '곡물': 741, '가루': 742, '넣어서': 743, '고소하고': 744, '받으러': 745, '세': 746, '들어갑니다': 747, '호두': 748, '어울려요': 749, '적어주세요': 750, '층': 751, '나오면': 752, '로만': 753, '앉아': 754, '계시': 755, '가져다': 756, '기다리세요': 757, '오른쪽': 758, '벽쪽': 759, '건물': 760, '뒤': 761, '주차장': 762, '들어가있습니다': 763, '휴대': 764, '알려주시면': 765, '가능합니다만': 766, '천': 767, '올라가게': 768, '상큼': 769, '어울립니다': 770, '죄송합니다만': 771, '방금': 772, '떨어졌어요': 773, '유효': 774, '기간': 775, '라면': 776, '딱': 777, '맞게': 778, '오셨네요': 779, '원하시는': 780, '내리는': 781, '방법': 782, '대략': 783, '걸립니다': 784, '고맙습니다': 785, '쓴맛': 786, '없고': 787, '산미': 788, '들': 789, '향': 790, '나죠': 791, '합쳐': 792, '꽂아': 793, '6000원': 794, '이에요': 795, '밀려서': 796, '7분': 797, '걸릴': 798, '앞쪽': 799, '눌러주세요': 800, '불러': 801, '뜨거운건': 802, '할까': 803, '다모아': 804, '커피한잔': 805, '필요하세요': 806, '해드려도': 807, '괜찮을까요': 808, '떨어져서': 809, '어렵습니다': 810, '신': 811, '꺼': 812, '되는': 813, '8800원': 814, '해드렸습니다': 815, '정책': 816, '불가능하고': 817, '나가실': 818, '하시겠습니까': 819, '필요': 820, '다른거': 821, '필요한거': 822, '현재': 823, '법적': 824, '금지': 825, '종이': 826, '써져있습니다': 827, '한테': 828, '보여주시고': 829, '확인': 830, '버튼': 831, '누르면': 832, '요즘': 833, '없어요': 834, '다크': 835, '초콜릿': 836, '어우러진': 837, '달콤한': 838, '하셨나요': 839, '죄송하지만': 840, '과테말라': 841, '케냐': 842, '섞은': 843, '마이크로': 844, '블렌드': 845, '5천': 846, '필요하신가요': 847, '되세요': 848, '가시는거세요': 849, '7000원': 850, '포크': 851, '들어갔어요': 852, '4100원': 853, '2500원': 854, '당연하죠': 855, '팔려서요': 856, '나온': 857, '오곡': 858, '5000': 859, '그중': 860, '4500': 861, '가능한데': 862, '이상': 863, '9시': 864, '열어요': 865, '12시': 866, '까지라': 867, '드리면': 868, '되셨고': 869, '아주': 870, '단맛': 871, '아닌데요': 872, '라임': 873, '하단': 874, '적혀있습니다': 875, '합니다': 876, '되면': 877}\n"
          ],
          "name": "stdout"
        }
      ]
    },
    {
      "cell_type": "markdown",
      "metadata": {
        "id": "Lode3ePPqedd"
      },
      "source": [
        "#### 정수 인코딩"
      ]
    },
    {
      "cell_type": "code",
      "metadata": {
        "id": "HJfT9Lngqiyz"
      },
      "source": [
        "train_q_seq = tokenizer.texts_to_sequences(train_q)\n",
        "train_a_seq = tokenizer.texts_to_sequences(train_a)\n",
        "\n",
        "test_q_seq  = tokenizer.texts_to_sequences(test_q)\n",
        "test_a_seq  = tokenizer.texts_to_sequences(test_a)"
      ],
      "execution_count": 59,
      "outputs": []
    },
    {
      "cell_type": "code",
      "metadata": {
        "colab": {
          "base_uri": "https://localhost:8080/"
        },
        "id": "ssgBkuEnqjpe",
        "outputId": "786afc54-8906-47b7-ce15-ba8b93ac52e4"
      },
      "source": [
        "train_q_seq[:3], train_a_seq[:3]"
      ],
      "execution_count": 60,
      "outputs": [
        {
          "output_type": "execute_result",
          "data": {
            "text/plain": [
              "([[85, 12, 30, 4, 1], [3, 239, 1], [3, 300, 301, 47, 4, 1]],\n",
              " [[2, 627, 628, 629, 73, 66, 630, 631, 35, 113, 23, 378, 1],\n",
              "  [2, 57, 162, 63, 139, 60, 1],\n",
              "  [2, 36, 7, 227, 5, 15, 16, 1]])"
            ]
          },
          "metadata": {
            "tags": []
          },
          "execution_count": 60
        }
      ]
    },
    {
      "cell_type": "markdown",
      "metadata": {
        "id": "JUGv1dJEqnsc"
      },
      "source": [
        "#### 패딩 후 최종 데이터 정리"
      ]
    },
    {
      "cell_type": "code",
      "metadata": {
        "id": "sieN-Y_Gq0tg"
      },
      "source": [
        "X_train = pad_sequences(\n",
        "    train_q_seq,\n",
        "    value=0,\n",
        "    padding='pre',\n",
        "    maxlen=64 \n",
        ")\n",
        "\n",
        "y_train = pad_sequences(\n",
        "    train_a_seq,\n",
        "    value=0,\n",
        "    padding='post',\n",
        "    maxlen=65\n",
        ")\n",
        "\n",
        "X_test = pad_sequences( test_q_seq, value=0, padding='pre', maxlen=64 )\n",
        "y_test = pad_sequences( test_a_seq, value=0, padding='post', maxlen=65 )"
      ],
      "execution_count": 61,
      "outputs": []
    },
    {
      "cell_type": "code",
      "metadata": {
        "colab": {
          "base_uri": "https://localhost:8080/"
        },
        "id": "9IZ4XMgHstJI",
        "outputId": "176cf54d-578f-4ded-fa13-f1d0b5e5dc7d"
      },
      "source": [
        "X_train[0], y_train[0]"
      ],
      "execution_count": 62,
      "outputs": [
        {
          "output_type": "execute_result",
          "data": {
            "text/plain": [
              "(array([ 0,  0,  0,  0,  0,  0,  0,  0,  0,  0,  0,  0,  0,  0,  0,  0,  0,\n",
              "         0,  0,  0,  0,  0,  0,  0,  0,  0,  0,  0,  0,  0,  0,  0,  0,  0,\n",
              "         0,  0,  0,  0,  0,  0,  0,  0,  0,  0,  0,  0,  0,  0,  0,  0,  0,\n",
              "         0,  0,  0,  0,  0,  0,  0,  0, 85, 12, 30,  4,  1], dtype=int32),\n",
              " array([  2, 627, 628, 629,  73,  66, 630, 631,  35, 113,  23, 378,   1,\n",
              "          0,   0,   0,   0,   0,   0,   0,   0,   0,   0,   0,   0,   0,\n",
              "          0,   0,   0,   0,   0,   0,   0,   0,   0,   0,   0,   0,   0,\n",
              "          0,   0,   0,   0,   0,   0,   0,   0,   0,   0,   0,   0,   0,\n",
              "          0,   0,   0,   0,   0,   0,   0,   0,   0,   0,   0,   0,   0],\n",
              "       dtype=int32))"
            ]
          },
          "metadata": {
            "tags": []
          },
          "execution_count": 62
        }
      ]
    },
    {
      "cell_type": "code",
      "metadata": {
        "id": "hNCOQ7dKsv-K"
      },
      "source": [
        "train_ds = tf.data.Dataset.from_tensor_slices((X_train, y_train)).shuffle(1024).batch(32).prefetch(1024)\n",
        "test_ds = tf.data.Dataset.from_tensor_slices((X_test, y_test)).batch(1).prefetch(1024)"
      ],
      "execution_count": 63,
      "outputs": []
    },
    {
      "cell_type": "markdown",
      "metadata": {
        "id": "DEKVyL2-t8yM"
      },
      "source": [
        "## 학습 환경 정의\n",
        "\n",
        "모델 생성, 손실 함수, 최적화 알고리즘, 평가지표 정의"
      ]
    },
    {
      "cell_type": "code",
      "metadata": {
        "id": "eamVt51txtLz"
      },
      "source": [
        "model = Seq2Seq(\n",
        "    sos=tokenizer.word_index['\\t'],\n",
        "    eos=tokenizer.word_index['\\n']\n",
        ")\n",
        "\n",
        "loss_object = tf.keras.losses.SparseCategoricalCrossentropy()\n",
        "optimizer = tf.keras.optimizers.Adam()\n",
        "\n",
        "train_loss = tf.keras.metrics.Mean(name='train_loss')\n",
        "train_accuracy = tf.keras.metrics.SparseCategoricalAccuracy(name='train_accuracy')"
      ],
      "execution_count": 64,
      "outputs": []
    },
    {
      "cell_type": "markdown",
      "metadata": {
        "id": "ERmhktfjynOv"
      },
      "source": [
        "## 학습 루프 동작"
      ]
    },
    {
      "cell_type": "code",
      "metadata": {
        "colab": {
          "base_uri": "https://localhost:8080/"
        },
        "id": "Mzgjy5-1ytT3",
        "outputId": "c3a4a9f0-15be-4407-f133-a53ada6f4336"
      },
      "source": [
        "EPOCHS = 200\n",
        "for epoch in range(EPOCHS):\n",
        "    for seqs, labels in train_ds:\n",
        "        train_step(model, seqs, labels, loss_object, optimizer, train_loss, train_accuracy)\n",
        "\n",
        "    print(\"Epoch : {}, Loss : {:.3f}, Accuracy : {:.3f}\".format(epoch+1,train_loss.result(),train_accuracy.result()*100))\n",
        "\n",
        "    train_loss.reset_states()\n",
        "    train_accuracy.reset_states()"
      ],
      "execution_count": 65,
      "outputs": [
        {
          "output_type": "stream",
          "text": [
            "Epoch : 1, Loss : 2.886, Accuracy : 83.074\n",
            "Epoch : 2, Loss : 0.625, Accuracy : 90.625\n",
            "Epoch : 3, Loss : 0.571, Accuracy : 90.875\n",
            "Epoch : 4, Loss : 0.558, Accuracy : 91.168\n",
            "Epoch : 5, Loss : 0.547, Accuracy : 91.113\n",
            "Epoch : 6, Loss : 0.539, Accuracy : 91.137\n",
            "Epoch : 7, Loss : 0.532, Accuracy : 91.113\n",
            "Epoch : 8, Loss : 0.519, Accuracy : 91.199\n",
            "Epoch : 9, Loss : 0.511, Accuracy : 91.215\n",
            "Epoch : 10, Loss : 0.505, Accuracy : 91.242\n",
            "Epoch : 11, Loss : 0.491, Accuracy : 91.414\n",
            "Epoch : 12, Loss : 0.471, Accuracy : 91.625\n",
            "Epoch : 13, Loss : 0.461, Accuracy : 91.883\n",
            "Epoch : 14, Loss : 0.457, Accuracy : 92.219\n",
            "Epoch : 15, Loss : 0.445, Accuracy : 92.250\n",
            "Epoch : 16, Loss : 0.440, Accuracy : 92.383\n",
            "Epoch : 17, Loss : 0.428, Accuracy : 92.488\n",
            "Epoch : 18, Loss : 0.421, Accuracy : 92.523\n",
            "Epoch : 19, Loss : 0.420, Accuracy : 92.598\n",
            "Epoch : 20, Loss : 0.408, Accuracy : 92.629\n",
            "Epoch : 21, Loss : 0.396, Accuracy : 92.664\n",
            "Epoch : 22, Loss : 0.406, Accuracy : 92.727\n",
            "Epoch : 23, Loss : 0.397, Accuracy : 92.715\n",
            "Epoch : 24, Loss : 0.393, Accuracy : 92.801\n",
            "Epoch : 25, Loss : 0.390, Accuracy : 92.898\n",
            "Epoch : 26, Loss : 0.383, Accuracy : 92.887\n",
            "Epoch : 27, Loss : 0.378, Accuracy : 92.965\n",
            "Epoch : 28, Loss : 0.377, Accuracy : 93.031\n",
            "Epoch : 29, Loss : 0.369, Accuracy : 93.074\n",
            "Epoch : 30, Loss : 0.364, Accuracy : 93.082\n",
            "Epoch : 31, Loss : 0.364, Accuracy : 93.211\n",
            "Epoch : 32, Loss : 0.355, Accuracy : 93.230\n",
            "Epoch : 33, Loss : 0.352, Accuracy : 93.188\n",
            "Epoch : 34, Loss : 0.347, Accuracy : 93.348\n",
            "Epoch : 35, Loss : 0.341, Accuracy : 93.328\n",
            "Epoch : 36, Loss : 0.338, Accuracy : 93.320\n",
            "Epoch : 37, Loss : 0.330, Accuracy : 93.461\n",
            "Epoch : 38, Loss : 0.327, Accuracy : 93.406\n",
            "Epoch : 39, Loss : 0.326, Accuracy : 93.504\n",
            "Epoch : 40, Loss : 0.318, Accuracy : 93.520\n",
            "Epoch : 41, Loss : 0.319, Accuracy : 93.578\n",
            "Epoch : 42, Loss : 0.313, Accuracy : 93.594\n",
            "Epoch : 43, Loss : 0.302, Accuracy : 93.652\n",
            "Epoch : 44, Loss : 0.301, Accuracy : 93.695\n",
            "Epoch : 45, Loss : 0.295, Accuracy : 93.730\n",
            "Epoch : 46, Loss : 0.294, Accuracy : 93.770\n",
            "Epoch : 47, Loss : 0.292, Accuracy : 93.801\n",
            "Epoch : 48, Loss : 0.280, Accuracy : 93.832\n",
            "Epoch : 49, Loss : 0.278, Accuracy : 93.902\n",
            "Epoch : 50, Loss : 0.273, Accuracy : 93.957\n",
            "Epoch : 51, Loss : 0.271, Accuracy : 93.988\n",
            "Epoch : 52, Loss : 0.266, Accuracy : 94.062\n",
            "Epoch : 53, Loss : 0.261, Accuracy : 94.125\n",
            "Epoch : 54, Loss : 0.255, Accuracy : 94.270\n",
            "Epoch : 55, Loss : 0.248, Accuracy : 94.387\n",
            "Epoch : 56, Loss : 0.243, Accuracy : 94.488\n",
            "Epoch : 57, Loss : 0.239, Accuracy : 94.598\n",
            "Epoch : 58, Loss : 0.228, Accuracy : 94.801\n",
            "Epoch : 59, Loss : 0.224, Accuracy : 94.898\n",
            "Epoch : 60, Loss : 0.219, Accuracy : 95.016\n",
            "Epoch : 61, Loss : 0.210, Accuracy : 95.277\n",
            "Epoch : 62, Loss : 0.205, Accuracy : 95.309\n",
            "Epoch : 63, Loss : 0.197, Accuracy : 95.500\n",
            "Epoch : 64, Loss : 0.191, Accuracy : 95.660\n",
            "Epoch : 65, Loss : 0.184, Accuracy : 95.891\n",
            "Epoch : 66, Loss : 0.177, Accuracy : 96.086\n",
            "Epoch : 67, Loss : 0.174, Accuracy : 96.023\n",
            "Epoch : 68, Loss : 0.164, Accuracy : 96.332\n",
            "Epoch : 69, Loss : 0.159, Accuracy : 96.469\n",
            "Epoch : 70, Loss : 0.153, Accuracy : 96.523\n",
            "Epoch : 71, Loss : 0.147, Accuracy : 96.738\n",
            "Epoch : 72, Loss : 0.142, Accuracy : 96.785\n",
            "Epoch : 73, Loss : 0.137, Accuracy : 96.941\n",
            "Epoch : 74, Loss : 0.130, Accuracy : 97.059\n",
            "Epoch : 75, Loss : 0.124, Accuracy : 97.215\n",
            "Epoch : 76, Loss : 0.119, Accuracy : 97.430\n",
            "Epoch : 77, Loss : 0.114, Accuracy : 97.543\n",
            "Epoch : 78, Loss : 0.110, Accuracy : 97.648\n",
            "Epoch : 79, Loss : 0.106, Accuracy : 97.797\n",
            "Epoch : 80, Loss : 0.101, Accuracy : 97.828\n",
            "Epoch : 81, Loss : 0.096, Accuracy : 97.961\n",
            "Epoch : 82, Loss : 0.092, Accuracy : 98.082\n",
            "Epoch : 83, Loss : 0.088, Accuracy : 98.266\n",
            "Epoch : 84, Loss : 0.083, Accuracy : 98.238\n",
            "Epoch : 85, Loss : 0.079, Accuracy : 98.453\n",
            "Epoch : 86, Loss : 0.076, Accuracy : 98.434\n",
            "Epoch : 87, Loss : 0.072, Accuracy : 98.633\n",
            "Epoch : 88, Loss : 0.070, Accuracy : 98.656\n",
            "Epoch : 89, Loss : 0.067, Accuracy : 98.734\n",
            "Epoch : 90, Loss : 0.062, Accuracy : 98.867\n",
            "Epoch : 91, Loss : 0.060, Accuracy : 98.891\n",
            "Epoch : 92, Loss : 0.055, Accuracy : 99.035\n",
            "Epoch : 93, Loss : 0.053, Accuracy : 99.051\n",
            "Epoch : 94, Loss : 0.051, Accuracy : 99.082\n",
            "Epoch : 95, Loss : 0.049, Accuracy : 99.211\n",
            "Epoch : 96, Loss : 0.047, Accuracy : 99.234\n",
            "Epoch : 97, Loss : 0.045, Accuracy : 99.227\n",
            "Epoch : 98, Loss : 0.042, Accuracy : 99.285\n",
            "Epoch : 99, Loss : 0.040, Accuracy : 99.340\n",
            "Epoch : 100, Loss : 0.038, Accuracy : 99.398\n",
            "Epoch : 101, Loss : 0.036, Accuracy : 99.422\n",
            "Epoch : 102, Loss : 0.035, Accuracy : 99.477\n",
            "Epoch : 103, Loss : 0.036, Accuracy : 99.438\n",
            "Epoch : 104, Loss : 0.034, Accuracy : 99.469\n",
            "Epoch : 105, Loss : 0.031, Accuracy : 99.539\n",
            "Epoch : 106, Loss : 0.029, Accuracy : 99.578\n",
            "Epoch : 107, Loss : 0.028, Accuracy : 99.613\n",
            "Epoch : 108, Loss : 0.027, Accuracy : 99.613\n",
            "Epoch : 109, Loss : 0.025, Accuracy : 99.641\n",
            "Epoch : 110, Loss : 0.024, Accuracy : 99.641\n",
            "Epoch : 111, Loss : 0.022, Accuracy : 99.707\n",
            "Epoch : 112, Loss : 0.021, Accuracy : 99.723\n",
            "Epoch : 113, Loss : 0.021, Accuracy : 99.727\n",
            "Epoch : 114, Loss : 0.020, Accuracy : 99.734\n",
            "Epoch : 115, Loss : 0.019, Accuracy : 99.773\n",
            "Epoch : 116, Loss : 0.018, Accuracy : 99.738\n",
            "Epoch : 117, Loss : 0.017, Accuracy : 99.797\n",
            "Epoch : 118, Loss : 0.017, Accuracy : 99.816\n",
            "Epoch : 119, Loss : 0.016, Accuracy : 99.820\n",
            "Epoch : 120, Loss : 0.015, Accuracy : 99.832\n",
            "Epoch : 121, Loss : 0.015, Accuracy : 99.828\n",
            "Epoch : 122, Loss : 0.014, Accuracy : 99.867\n",
            "Epoch : 123, Loss : 0.013, Accuracy : 99.848\n",
            "Epoch : 124, Loss : 0.014, Accuracy : 99.844\n",
            "Epoch : 125, Loss : 0.014, Accuracy : 99.836\n",
            "Epoch : 126, Loss : 0.018, Accuracy : 99.742\n",
            "Epoch : 127, Loss : 0.019, Accuracy : 99.715\n",
            "Epoch : 128, Loss : 0.018, Accuracy : 99.762\n",
            "Epoch : 129, Loss : 0.015, Accuracy : 99.832\n",
            "Epoch : 130, Loss : 0.013, Accuracy : 99.836\n",
            "Epoch : 131, Loss : 0.011, Accuracy : 99.855\n",
            "Epoch : 132, Loss : 0.010, Accuracy : 99.898\n",
            "Epoch : 133, Loss : 0.010, Accuracy : 99.891\n",
            "Epoch : 134, Loss : 0.009, Accuracy : 99.910\n",
            "Epoch : 135, Loss : 0.009, Accuracy : 99.891\n",
            "Epoch : 136, Loss : 0.009, Accuracy : 99.914\n",
            "Epoch : 137, Loss : 0.008, Accuracy : 99.906\n",
            "Epoch : 138, Loss : 0.008, Accuracy : 99.934\n",
            "Epoch : 139, Loss : 0.007, Accuracy : 99.922\n",
            "Epoch : 140, Loss : 0.007, Accuracy : 99.930\n",
            "Epoch : 141, Loss : 0.007, Accuracy : 99.922\n",
            "Epoch : 142, Loss : 0.007, Accuracy : 99.934\n",
            "Epoch : 143, Loss : 0.006, Accuracy : 99.930\n",
            "Epoch : 144, Loss : 0.006, Accuracy : 99.941\n",
            "Epoch : 145, Loss : 0.006, Accuracy : 99.938\n",
            "Epoch : 146, Loss : 0.006, Accuracy : 99.930\n",
            "Epoch : 147, Loss : 0.006, Accuracy : 99.938\n",
            "Epoch : 148, Loss : 0.006, Accuracy : 99.914\n",
            "Epoch : 149, Loss : 0.006, Accuracy : 99.926\n",
            "Epoch : 150, Loss : 0.006, Accuracy : 99.934\n",
            "Epoch : 151, Loss : 0.005, Accuracy : 99.945\n",
            "Epoch : 152, Loss : 0.006, Accuracy : 99.938\n",
            "Epoch : 153, Loss : 0.005, Accuracy : 99.930\n",
            "Epoch : 154, Loss : 0.005, Accuracy : 99.941\n",
            "Epoch : 155, Loss : 0.005, Accuracy : 99.949\n",
            "Epoch : 156, Loss : 0.005, Accuracy : 99.941\n",
            "Epoch : 157, Loss : 0.005, Accuracy : 99.941\n",
            "Epoch : 158, Loss : 0.005, Accuracy : 99.953\n",
            "Epoch : 159, Loss : 0.005, Accuracy : 99.945\n",
            "Epoch : 160, Loss : 0.004, Accuracy : 99.934\n",
            "Epoch : 161, Loss : 0.004, Accuracy : 99.949\n",
            "Epoch : 162, Loss : 0.004, Accuracy : 99.945\n",
            "Epoch : 163, Loss : 0.004, Accuracy : 99.953\n",
            "Epoch : 164, Loss : 0.004, Accuracy : 99.945\n",
            "Epoch : 165, Loss : 0.004, Accuracy : 99.949\n",
            "Epoch : 166, Loss : 0.004, Accuracy : 99.941\n",
            "Epoch : 167, Loss : 0.004, Accuracy : 99.930\n",
            "Epoch : 168, Loss : 0.004, Accuracy : 99.945\n",
            "Epoch : 169, Loss : 0.004, Accuracy : 99.941\n",
            "Epoch : 170, Loss : 0.004, Accuracy : 99.938\n",
            "Epoch : 171, Loss : 0.003, Accuracy : 99.953\n",
            "Epoch : 172, Loss : 0.004, Accuracy : 99.953\n",
            "Epoch : 173, Loss : 0.003, Accuracy : 99.941\n",
            "Epoch : 174, Loss : 0.003, Accuracy : 99.949\n",
            "Epoch : 175, Loss : 0.004, Accuracy : 99.945\n",
            "Epoch : 176, Loss : 0.003, Accuracy : 99.945\n",
            "Epoch : 177, Loss : 0.003, Accuracy : 99.945\n",
            "Epoch : 178, Loss : 0.004, Accuracy : 99.949\n",
            "Epoch : 179, Loss : 0.004, Accuracy : 99.930\n",
            "Epoch : 180, Loss : 0.005, Accuracy : 99.918\n",
            "Epoch : 181, Loss : 0.006, Accuracy : 99.887\n",
            "Epoch : 182, Loss : 0.005, Accuracy : 99.930\n",
            "Epoch : 183, Loss : 0.006, Accuracy : 99.906\n",
            "Epoch : 184, Loss : 0.011, Accuracy : 99.840\n",
            "Epoch : 185, Loss : 0.009, Accuracy : 99.891\n",
            "Epoch : 186, Loss : 0.008, Accuracy : 99.914\n",
            "Epoch : 187, Loss : 0.006, Accuracy : 99.914\n",
            "Epoch : 188, Loss : 0.005, Accuracy : 99.938\n",
            "Epoch : 189, Loss : 0.004, Accuracy : 99.949\n",
            "Epoch : 190, Loss : 0.003, Accuracy : 99.945\n",
            "Epoch : 191, Loss : 0.003, Accuracy : 99.949\n",
            "Epoch : 192, Loss : 0.003, Accuracy : 99.945\n",
            "Epoch : 193, Loss : 0.003, Accuracy : 99.949\n",
            "Epoch : 194, Loss : 0.003, Accuracy : 99.949\n",
            "Epoch : 195, Loss : 0.003, Accuracy : 99.941\n",
            "Epoch : 196, Loss : 0.003, Accuracy : 99.953\n",
            "Epoch : 197, Loss : 0.003, Accuracy : 99.945\n",
            "Epoch : 198, Loss : 0.003, Accuracy : 99.949\n",
            "Epoch : 199, Loss : 0.003, Accuracy : 99.945\n",
            "Epoch : 200, Loss : 0.002, Accuracy : 99.949\n"
          ],
          "name": "stdout"
        }
      ]
    },
    {
      "cell_type": "markdown",
      "metadata": {
        "id": "JYyol6ZS1IPI"
      },
      "source": [
        "## 테스트 루프 만들기"
      ]
    },
    {
      "cell_type": "code",
      "metadata": {
        "colab": {
          "base_uri": "https://localhost:8080/"
        },
        "id": "5pHvDrdd0XZ5",
        "outputId": "b53649a9-28c1-45e9-9ea4-f8aafb1d4255"
      },
      "source": [
        "for test_seq, test_labels in test_ds:\n",
        "  prediction = test_step(model, test_seq)\n",
        "  \n",
        "  test_q = tokenizer.sequences_to_texts(test_seq.numpy()) # 질문\n",
        "  test_a = tokenizer.sequences_to_texts(test_labels.numpy()) # 실제 대답\n",
        "  test_p = tokenizer.sequences_to_texts(prediction.numpy()) # 챗봇의 대답\n",
        "\n",
        "  print(\"______\")\n",
        "  print(\"질문 : \\t{}\".format(test_q))\n",
        "  print(\"실제 대답 : {}\".format(test_a))\n",
        "  print(\"챗봇 대답 : {}\".format(test_p))"
      ],
      "execution_count": 66,
      "outputs": [
        {
          "output_type": "stream",
          "text": [
            "______\n",
            "질문 : \t['사이 즈 업 해서 주세요 \\n']\n",
            "실제 대답 : ['\\t 네 결제 는 어떻게 도 와 드릴 까요 \\n']\n",
            "챗봇 대답 : ['네 시럽 넣어 드릴 까요 \\n']\n",
            "______\n",
            "질문 : \t['캐러멜 드리블 이랑 통 잡아 \\n']\n",
            "실제 대답 : ['\\t 결제 도 와 드리겠습니다 \\n']\n",
            "챗봇 대답 : ['플레인 원두 딸기스무디 를 뭘 로 하시겠어요 \\n']\n",
            "______\n",
            "질문 : \t['시즌 메뉴 와 함께 되어 있는 세트 메뉴 가 있나요 \\n']\n",
            "실제 대답 : ['\\t 네 치즈 케이크 와 시즌 메뉴 두 잔 으로 세트 메뉴 있습니다 \\n']\n",
            "챗봇 대답 : ['티 와 입니다 \\n']\n",
            "______\n",
            "질문 : \t['아메리카노 1 잔 주세요 \\n']\n",
            "실제 대답 : ['\\t 매장 에서 드시고 가시나요 \\n']\n",
            "챗봇 대답 : ['드시고 가시나요 \\n']\n",
            "______\n",
            "질문 : \t['그럼 와 아이스 아메리카노 로 할게요 \\n']\n",
            "실제 대답 : ['\\t 더 필요하신 건 없나요 \\n']\n",
            "챗봇 대답 : ['네 총 아이스 벨 로 드릴 까요 \\n']\n",
            "______\n",
            "질문 : \t['밀크 티 있나요 \\n']\n",
            "실제 대답 : ['\\t 네 있습니다 \\n']\n",
            "챗봇 대답 : ['네 가능합니다 \\n']\n",
            "______\n",
            "질문 : \t['네 기프티콘 여기 있어요 \\n']\n",
            "실제 대답 : ['\\t 아메리카노 기프티콘 사용 되었습니다 \\n']\n",
            "챗봇 대답 : ['네 카페라테 해드리겠습니다 \\n']\n",
            "______\n",
            "질문 : \t['네 오늘 의 커피 로 주세요 \\n']\n",
            "실제 대답 : ['\\t 네 사이즈 는 어떤 걸 로 주문 넣어 드릴 까요 \\n']\n",
            "챗봇 대답 : ['카페모카 말씀 카페모카 입니다 \\n']\n",
            "______\n",
            "질문 : \t['포인트 사용 없이 적립 만 할게요 \\n']\n",
            "실제 대답 : ['\\t 네 멤버십 카드 주시 면 도 와 드리겠습니다 \\n']\n",
            "챗봇 대답 : ['네 그럼 바로 결제 도 와 드리겠습니다 \\n']\n",
            "______\n",
            "질문 : \t['네 감사합니다 \\n']\n",
            "실제 대답 : ['\\t 따뜻한 카페라테 한 잔 \\n']\n",
            "챗봇 대답 : ['진동 벨 로 알려 드릴게요 \\n']\n",
            "______\n",
            "질문 : \t['네 아이스 아메리카노 한잔 주세요 \\n']\n",
            "실제 대답 : ['\\t 드시고 가실 건가 요 \\n']\n",
            "챗봇 대답 : ['아이스 아메리카노 한잔 주문 도 와 드리겠습니다 \\n']\n",
            "______\n",
            "질문 : \t['조금 만 나갈 건데 일회용 컵 에는 요 \\n']\n",
            "실제 대답 : ['\\t 거 면 컵 만 가능하세요 \\n']\n",
            "챗봇 대답 : ['네 알겠습니다 \\n']\n",
            "______\n",
            "질문 : \t['영업 해요 \\n']\n",
            "실제 대답 : ['\\t 영업 하고 있어요 \\n']\n",
            "챗봇 대답 : ['네 더 필요하신 건 없으세요 \\n']\n",
            "______\n",
            "질문 : \t['디카 페인 아이스 아메리카노 한 잔 주세요 \\n']\n",
            "실제 대답 : ['\\t 디카 페인 아이스 아메리카노 는 기존 에 300원 추가 괜찮으신 가요 \\n']\n",
            "챗봇 대답 : ['아이스 아메리카노 포장 이신 가요 \\n']\n",
            "______\n",
            "질문 : \t['총 \\n']\n",
            "실제 대답 : ['\\t 스콘 두 개 아메리카노 샷 추가 텀블러 할인 해서 입니다 \\n']\n",
            "챗봇 대답 : ['네 드시고 가시나요 \\n']\n",
            "______\n",
            "질문 : \t['카드 로 결제 할게요 \\n']\n",
            "실제 대답 : ['\\t 네 감사합니다 \\n']\n",
            "챗봇 대답 : ['영수증 드릴게요 \\n']\n",
            "______\n",
            "질문 : \t['이 쿠키 는 뭐 예요 \\n']\n",
            "실제 대답 : ['\\t 초코 칩 쿠키 입니다 \\n']\n",
            "챗봇 대답 : ['네 디카 페인 케이크 는 블랙 랑 있어요 \\n']\n",
            "______\n",
            "질문 : \t['커피 에 샷 추가 가능한가요 \\n']\n",
            "실제 대답 : ['\\t 네 가능합니다 \\n']\n",
            "챗봇 대답 : ['네 500원 할인 되세요 \\n']\n",
            "______\n",
            "질문 : \t['멤버십 카드 드리고 현금 으로 계산 할게요 \\n']\n",
            "실제 대답 : ['\\t 네 현금영수증 해드릴까 요 \\n']\n",
            "챗봇 대답 : ['사용 사이즈 건 없으신 가요 \\n']\n",
            "______\n",
            "질문 : \t['아메리카노 톨 사이즈 로 주세요 \\n']\n",
            "실제 대답 : ['\\t 따뜻한 거 로 드릴 까요 \\n']\n",
            "챗봇 대답 : ['따뜻한 걸 로 드릴 까요 \\n']\n",
            "______\n",
            "질문 : \t['네 도 같이 주시겠어요 \\n']\n",
            "실제 대답 : ['\\t 네 아메리카노 4000원 입니다 \\n']\n",
            "챗봇 대답 : ['네 드릴게요 잠시 만 요 \\n']\n",
            "______\n",
            "질문 : \t['핫초코 한 잔 아메리카노 사이 즈 업 한 잔 하면 얼마 인가요 \\n']\n",
            "실제 대답 : ['\\t 입니다 \\n']\n",
            "챗봇 대답 : ['9500원 입니다 \\n']\n",
            "______\n",
            "질문 : \t['쿠폰 찍어주세요 \\n']\n",
            "실제 대답 : ['\\t 네 찍어 드릴게요 \\n']\n",
            "챗봇 대답 : ['10 개 다모아 오시 면 커피한잔 드려요 \\n']\n",
            "______\n",
            "질문 : \t['조각 케이크 도 추가 해주시겠어요 \\n']\n",
            "실제 대답 : ['\\t 네 어떤 거 로 드릴 까요 \\n']\n",
            "챗봇 대답 : ['네 더 필요하신 건 없으세요 \\n']\n",
            "______\n",
            "질문 : \t['네 여기 서 먹고 갈 거 예요 \\n']\n",
            "실제 대답 : ['\\t 그럼 머그잔 에 드릴게요 \\n']\n",
            "챗봇 대답 : ['사이즈 는 뭘 개 아이스 개 개 도 와 드릴 까요 \\n']\n",
            "______\n",
            "질문 : \t['혹시 적립 쿠폰 으로 커피 계산 할 수 있나요 \\n']\n",
            "실제 대답 : ['\\t 네 됩니다 \\n']\n",
            "챗봇 대답 : ['같이 10 차는 있습니다 \\n']\n",
            "______\n",
            "질문 : \t['조금 마시다가 갈 거 에요 \\n']\n",
            "실제 대답 : ['\\t 가실 때 말씀 해주시면 테이크 아웃 잔 에 드릴 우선 머그잔 에 드리겠습니다 \\n']\n",
            "챗봇 대답 : ['와이파이 비밀번호 는 치즈케이크 머핀 이나 레드 벨벳 크림 치즈케이크 가 어울립니다 \\n']\n",
            "______\n",
            "질문 : \t['삼성 페이 되나요 \\n']\n",
            "실제 대답 : ['\\t 네 가능합니다 \\n']\n",
            "챗봇 대답 : ['네 가능하세요 \\n']\n",
            "______\n",
            "질문 : \t['플랫 화이트 라지 로 주세요 \\n']\n",
            "실제 대답 : ['\\t 네 \\n']\n",
            "챗봇 대답 : ['신 맛 과 고소한 맛 원두 중 에 어떤 걸 로 드릴 까요 \\n']\n",
            "______\n",
            "질문 : \t['아메리카노 한 잔 주세요 \\n']\n",
            "실제 대답 : ['\\t 네 아메리카노 어떤 걸 로 드릴 까요 \\n']\n",
            "챗봇 대답 : ['아이스 로 드릴 까요 \\n']\n",
            "______\n",
            "질문 : \t['아메리카노 기프티콘 사용 해주세요 \\n']\n",
            "실제 대답 : ['\\t 바코드 를 앞 에 기계 에 \\n']\n",
            "챗봇 대답 : ['네 음료 사이즈 는 어떤 걸 로 하시겠어요 \\n']\n",
            "______\n",
            "질문 : \t['카페 는 몇 시 까지 하나요 \\n']\n",
            "실제 대답 : ['\\t 까지 합니다 \\n']\n",
            "챗봇 대답 : ['휘핑 올려 드릴 까요 \\n']\n",
            "______\n",
            "질문 : \t['티 종류 도 아이스 가능한가요 \\n']\n",
            "실제 대답 : ['\\t 네 고객 님 티 종류 다 아이스 가능합니다 \\n']\n",
            "챗봇 대답 : ['네 저기 에 있습니다 \\n']\n",
            "______\n",
            "질문 : \t['머핀 은 뭐 가 제일 맛있나요 \\n']\n",
            "실제 대답 : ['\\t 블루베리 머핀 이 잘 나갑니다 \\n']\n",
            "챗봇 대답 : ['5500원 입니다 \\n']\n",
            "______\n",
            "질문 : \t['카페 와이파이 비밀번호 수 있을까요 \\n']\n",
            "실제 대답 : ['\\t 입니다 \\n']\n",
            "챗봇 대답 : ['매장 에서 드실 거 면 머그컵 에 머그컵 에 드리도록 되어있습니다 \\n']\n",
            "______\n",
            "질문 : \t['아메리카노 두 잔 주문 할게요 \\n']\n",
            "실제 대답 : ['\\t 아메리카노 따뜻한 건가 요 \\n']\n",
            "챗봇 대답 : ['드시고 가세 요 \\n']\n",
            "______\n",
            "질문 : \t['카페모카 는 따뜻한 거 로 주세요 \\n']\n",
            "실제 대답 : ['\\t 카페모카 위 에 휘핑 올려 드릴 까요 \\n']\n",
            "챗봇 대답 : ['드시고 가시나요 \\n']\n",
            "______\n",
            "질문 : \t['오늘 의 커피 는 커피 로 하나요 맛 이 \\n']\n",
            "실제 대답 : ['\\t 아 네 오늘 은 과테말라 커피 입니다 \\n']\n",
            "챗봇 대답 : ['다시 말씀 해주시겠어요 \\n']\n",
            "______\n",
            "질문 : \t['여기 에서 으로 하나요 \\n']\n",
            "실제 대답 : ['\\t 을 하시면 됩니다 \\n']\n",
            "챗봇 대답 : ['네 그럼 바로 준비 해드리겠습니다 \\n']\n",
            "______\n",
            "질문 : \t['현금 영수증 해주세요 \\n']\n",
            "실제 대답 : ['\\t 네 번호 찍어주세요 \\n']\n",
            "챗봇 대답 : ['네 번호 찍어주세요 \\n']\n",
            "______\n",
            "질문 : \t['스콘 두 포장 해주세요 \\n']\n",
            "실제 대답 : ['\\t 고객 님 데워 드릴 까요 \\n']\n",
            "챗봇 대답 : ['결제 은 드릴게요 \\n']\n",
            "______\n",
            "질문 : \t['아이스 아메리카노 사이즈 업 해주세요 \\n']\n",
            "실제 대답 : ['\\t 아이스 아메리카노 4000원 입니다 \\n']\n",
            "챗봇 대답 : ['네 아이스 아메리카노 에 뭘 로 하시겠어요 \\n']\n",
            "______\n",
            "질문 : \t['와이파이 되나요 \\n']\n",
            "실제 대답 : ['\\t 와이파이 는 입니다 \\n']\n",
            "챗봇 대답 : ['네 카페라테 디카 페인 500원 추가 됩니다 \\n']\n",
            "______\n",
            "질문 : \t['2 잔 주문 하면 얼마 죠 \\n']\n",
            "실제 대답 : ['\\t 7000원 입니다 \\n']\n",
            "챗봇 대답 : ['4500원 입니다 \\n']\n",
            "______\n",
            "질문 : \t['제 가 커피 를 음료 좀 추천 해주세요 \\n']\n",
            "실제 대답 : ['\\t 그럼 생 과 주스 가 가요 \\n']\n",
            "챗봇 대답 : ['허니 시즌 메뉴 에는 기프티콘 에는 이 들어가지 않습니다 \\n']\n",
            "______\n",
            "질문 : \t['네 찍어주세요 \\n']\n",
            "실제 대답 : ['\\t 네 주문 딸기 스무디 와 쿠키 드릴게요 \\n']\n",
            "챗봇 대답 : ['네 이리 주세요 \\n']\n",
            "______\n",
            "질문 : \t['포인트 적립 해주세요 \\n']\n",
            "실제 대답 : ['\\t 네 번호 입력 부탁드립니다 \\n']\n",
            "챗봇 대답 : ['네 진동 벨 울리면 와주세요 \\n']\n",
            "______\n",
            "질문 : \t['단체 주문 가능한가요 \\n']\n",
            "실제 대답 : ['\\t 이 죠 \\n']\n",
            "챗봇 대답 : ['네 가능합니다 \\n']\n",
            "______\n",
            "질문 : \t['브레드 종류 는 뭐 가 있나요 \\n']\n",
            "실제 대답 : ['\\t 허니 브레드 와 치즈 브레드 가 있습니다 \\n']\n",
            "챗봇 대답 : ['딸기 와 주스 가 있습니다 \\n']\n",
            "______\n",
            "질문 : \t['그럼 자몽 차 한잔 주세요 \\n']\n",
            "실제 대답 : ['\\t 따뜻하게 드릴 까요 \\n']\n",
            "챗봇 대답 : ['드시고 가시나요 \\n']\n",
            "______\n",
            "질문 : \t['아이스 프라푸치노 한 잔이요 \\n']\n",
            "실제 대답 : ['\\t 아이스 프라푸치노 사이즈 는 어떻게 드릴 까요 \\n']\n",
            "챗봇 대답 : ['네 다른 필요하신 건 없으신 가요 \\n']\n",
            "______\n",
            "질문 : \t['밀크 티 에 혹시 우유 가 아니면 우유 이 \\n']\n",
            "실제 대답 : ['\\t 저희 는 우유 을 사용 하고 있어요 \\n']\n",
            "챗봇 대답 : ['결제 완료 되었습니다 \\n']\n",
            "______\n",
            "질문 : \t['그럼 말차 라테 에 잘 케이크 하나 추천 해주시겠어요 \\n']\n",
            "실제 대답 : ['\\t 치즈 케이크 가 잘 같이 주문 하시는 고객 님 \\n']\n",
            "챗봇 대답 : ['네 초코 머핀 사이즈 는 레드 벨벳 크림 치즈케이크 가 어울립니다 \\n']\n",
            "______\n",
            "질문 : \t['시럽 도 조금 넣어 주실 수 있나요 \\n']\n",
            "실제 대답 : ['\\t 시럽 은 500원 추가 됩니다 \\n']\n",
            "챗봇 대답 : ['네 자리 있습니다']\n",
            "______\n",
            "질문 : \t['그럼 두유 로 바꿔서 카페라테 두 잔 주세요 \\n']\n",
            "실제 대답 : ['\\t 카페라테 사이즈 는 어떻게 드릴 까요 \\n']\n",
            "챗봇 대답 : ['네 다른 필요하신 건 없으신 가요 \\n']\n",
            "______\n",
            "질문 : \t['치즈 케이크 는 지금 없나요 \\n']\n",
            "실제 대답 : ['\\t 네 치즈케이크 는 지금 다 \\n']\n",
            "챗봇 대답 : ['네 알겠습니다 \\n']\n",
            "______\n",
            "질문 : \t['카페라테 디카 페인 \\n']\n",
            "실제 대답 : ['\\t 네 \\n']\n",
            "챗봇 대답 : ['네 드시고 가시나요 \\n']\n",
            "______\n",
            "질문 : \t['하나 랑 아이스 아메리카노 하나 해서 주세요 \\n']\n",
            "실제 대답 : ['\\t 네 더 추가 하실 것 은 없으신 가요 \\n']\n",
            "챗봇 대답 : ['카페모카 원두 는 어떤 걸 로 드릴 까요 \\n']\n",
            "______\n",
            "질문 : \t['둘 다 톨 사이즈 로 주세요 \\n']\n",
            "실제 대답 : ['\\t 여기 서 드시고 요 \\n']\n",
            "챗봇 대답 : ['드시고 가시나요 \\n']\n",
            "______\n",
            "질문 : \t['화이트 아이스 도 있나요 \\n']\n",
            "실제 대답 : ['\\t 네 있습니다 \\n']\n",
            "챗봇 대답 : ['네 이 쪽 에 있습니다 \\n']\n",
            "______\n",
            "질문 : \t['네 여기 텀블러 에 담아주세요 \\n']\n",
            "실제 대답 : ['\\t 고객 님 텀블러 하시면 500원 할인 됩니다 \\n']\n",
            "챗봇 대답 : ['네 10시 적어주세요 \\n']\n",
            "______\n",
            "질문 : \t['적립 하고 있는데 시즌 메뉴 도 하나 만 적립 되나요 \\n']\n",
            "실제 대답 : ['\\t 네 \\n']\n",
            "챗봇 대답 : ['네 500원 쿠폰 됩니다 \\n']\n",
            "______\n",
            "질문 : \t['아아 주문 가능한가요 \\n']\n",
            "실제 대답 : ['\\t 네 가능합니다 \\n']\n",
            "챗봇 대답 : ['네 그럼 카페라떼 지금 사이즈 로 되었습니다 \\n']\n",
            "______\n",
            "질문 : \t['기프티콘 으로 결제 할게요 \\n']\n",
            "실제 대답 : ['\\t 네 그럼 쿠폰 저 보여주세요 \\n']\n",
            "챗봇 대답 : ['저 한테 보여주시고 제 가 확인 버튼 누르면 돼요 \\n']\n",
            "______\n",
            "질문 : \t['저 카푸치노 로 주문 할게요 \\n']\n",
            "실제 대답 : ['\\t 시럽 은 얼마나 드릴 까요 \\n']\n",
            "챗봇 대답 : ['네 알겠습니다 \\n']\n",
            "______\n",
            "질문 : \t['아이스 아메리카노 1 잔 이랑 아이스 카페라테 1 잔 얼마 인가요 \\n']\n",
            "실제 대답 : ['\\t 아이스 아메리카노 1 잔 은 4000원 아이스 카페라테 1 잔 은 5000원 입니다 \\n']\n",
            "챗봇 대답 : ['4100원 입니다 \\n']\n",
            "______\n",
            "질문 : \t['테이크아웃 할게요 \\n']\n",
            "실제 대답 : ['\\t 지금 중 인데 케이크 주문 하시면 아메리카노 한잔 로 드려요 \\n']\n",
            "챗봇 대답 : ['네 잠시 만 기다려주세요 \\n']\n",
            "______\n",
            "질문 : \t['밀크 티 종류 는 뭐 가 있어요 \\n']\n",
            "실제 대답 : ['\\t 루이보스 두 개 있습니다 \\n']\n",
            "챗봇 대답 : ['치즈 케이크 가 잘 팔려요 \\n']\n",
            "______\n",
            "질문 : \t['라테 아이스 도 되나요 \\n']\n",
            "실제 대답 : ['\\t 라테 는 돼요 \\n']\n",
            "챗봇 대답 : ['네 카페라테 디카 페인 500원 추가 됩니다 \\n']\n",
            "______\n",
            "질문 : \t['이 치즈케이크 도 한 조각 주세요 \\n']\n",
            "실제 대답 : ['\\t 여기 서 드실 건가 요 \\n']\n",
            "챗봇 대답 : ['네 총 9500원 결제 해드리겠습니다 \\n']\n",
            "______\n",
            "질문 : \t['아이스 로 변경 할 추가 요금 이 있나요 \\n']\n",
            "실제 대답 : ['\\t 아이스 음료 는 500원 이 더 \\n']\n",
            "챗봇 대답 : ['라임 \\n']\n",
            "______\n",
            "질문 : \t['카드 결제 할게요 \\n']\n",
            "실제 대답 : ['\\t 네 카드 받았습니다 \\n']\n",
            "챗봇 대답 : ['네 앞 에 카드 꽃 아 주시 면 됩니다 \\n']\n",
            "______\n",
            "질문 : \t['아이스 아메리카노 두 잔 주세요 \\n']\n",
            "실제 대답 : ['\\t 드시고 가시나요 \\n']\n",
            "챗봇 대답 : ['네 총 8000원 입니다 \\n']\n",
            "______\n",
            "질문 : \t['톨 사이즈 로 주문 할게요 \\n']\n",
            "실제 대답 : ['\\t 네 계산 도 와 드리겠습니다 \\n']\n",
            "챗봇 대답 : ['어떤 거 드릴 까요 \\n']\n",
            "______\n",
            "질문 : \t['초코 머핀 도 하나 추가 해주세요 \\n']\n",
            "실제 대답 : ['\\t 초코 머핀 어떤 걸 로 드릴 까요 \\n']\n",
            "챗봇 대답 : ['네 총 쿠폰 은 카드 있으세요 \\n']\n",
            "______\n",
            "질문 : \t['얼마 인가요 \\n']\n",
            "실제 대답 : ['\\t 5천 원 입니다 \\n']\n",
            "챗봇 대답 : ['플랫 화이트 4500원 입니다 \\n']\n",
            "______\n",
            "질문 : \t['그러면 예 가체 주세요 \\n']\n",
            "실제 대답 : ['\\t 아메리카노 안 분 들 도 많이 선택 하세요 \\n']\n",
            "챗봇 대답 : ['네 결제 는 4500원 입니다 \\n']\n",
            "______\n",
            "질문 : \t['여기 있습니다 \\n']\n",
            "실제 대답 : ['\\t 네 확인 되셨고 되면 진동 벨 거 예요 \\n']\n",
            "챗봇 대답 : ['손님 지금 15000 포인트 있으신 데 사용 해 드릴 까요 \\n']\n",
            "______\n",
            "질문 : \t['커피 캐리어 도 주실 수 있나요 \\n']\n",
            "실제 대답 : ['\\t 네 캐리어 에 담아 드릴게요 \\n']\n",
            "챗봇 대답 : ['아뇨 번호 알려주시면 2 적립 이상 가능해요 \\n']\n",
            "______\n",
            "질문 : \t['따뜻한 밀크 티 주세요 \\n']\n",
            "실제 대답 : ['\\t 네 \\n']\n",
            "챗봇 대답 : ['사이즈 는 뭘 로 드릴 까요 \\n']\n",
            "______\n",
            "질문 : \t['네 두 개 함께 \\n']\n",
            "실제 대답 : ['\\t 네 감사합니다 \\n']\n",
            "챗봇 대답 : ['네 다 만 톨 사이즈 로 도 와 드리겠습니다 \\n']\n",
            "______\n",
            "질문 : \t['카페라테 한 잔 주세요 \\n']\n",
            "실제 대답 : ['\\t 카페라테 따뜻한 걸 로 드릴 까요 \\n']\n",
            "챗봇 대답 : ['네 카페라떼 컵 사이즈 는 뭘 로 드릴 까요 \\n']\n",
            "______\n",
            "질문 : \t['네 차가운 걸 로 주세요 \\n']\n",
            "실제 대답 : ['\\t 4500원 입니다 \\n']\n",
            "챗봇 대답 : ['사이즈 는 어떻게 드릴 까요 \\n']\n",
            "______\n",
            "질문 : \t['라이트 한 맛 의 아이스 아메리카노 요 \\n']\n",
            "실제 대답 : ['\\t 네 저희 메뉴 에요 \\n']\n",
            "챗봇 대답 : ['네 디카 메뉴 는 뭘 아메리카노 아메리카노 가능합니다 \\n']\n",
            "______\n",
            "질문 : \t['지금 되나요 \\n']\n",
            "실제 대답 : ['\\t 는 계절 메뉴 라 지금 은 판매 하지 않습니다 \\n']\n",
            "챗봇 대답 : ['네 카페라테 디카 페인 500원 추가 됩니다 \\n']\n",
            "______\n",
            "질문 : \t['사이즈 업 되나요 \\n']\n",
            "실제 대답 : ['\\t 네 \\n']\n",
            "챗봇 대답 : ['아메리카노 만 사이즈 업 가능하십니다 \\n']\n",
            "______\n",
            "질문 : \t['아뇨 그냥 주세요 \\n']\n",
            "실제 대답 : ['\\t 할인 카드 도 안 하시나요 \\n']\n",
            "챗봇 대답 : ['카페모카 5천 원 입니다 \\n']\n",
            "______\n",
            "질문 : \t['치즈 브레드 에 생크림 을 수 는 없나요 \\n']\n",
            "실제 대답 : ['\\t 500원 의 추가 이 괜찮으세요 \\n']\n",
            "챗봇 대답 : ['네 결제 는 됩니다 \\n']\n",
            "______\n",
            "질문 : \t['멤버십 할인 되나요 \\n']\n",
            "실제 대답 : ['\\t 네 멤버십 할인 하시면 10 할인 됩니다 \\n']\n",
            "챗봇 대답 : ['네 가능하세요 \\n']\n",
            "______\n",
            "질문 : \t['이 카드 로 결제 해주세요 \\n']\n",
            "실제 대답 : ['\\t 네 결제 도 와 드릴게요 \\n']\n",
            "챗봇 대답 : ['네 결제 업 가능하십니다 \\n']\n",
            "______\n",
            "질문 : \t['네 카드 여기 요 \\n']\n",
            "실제 대답 : ['\\t 적립 쿠폰 있으세요 \\n']\n",
            "챗봇 대답 : ['네 잠시 만 기다려주세요 \\n']\n",
            "______\n",
            "질문 : \t['티라미수 케이크 도 주세요 \\n']\n",
            "실제 대답 : ['\\t 적립 카드 있으신 가요 \\n']\n",
            "챗봇 대답 : ['네 알겠습니다 \\n']\n",
            "______\n",
            "질문 : \t['아니요 테이크아웃 이 요 \\n']\n",
            "실제 대답 : ['\\t 네 포인트 적립 하시나요 \\n']\n",
            "챗봇 대답 : ['네 알겠습니다 \\n']\n",
            "______\n",
            "질문 : \t['아이스 아메리카노 하나 랑 녹차 라테 주세요 \\n']\n",
            "실제 대답 : ['\\t 녹차 라테 도 아이스 로 드릴 까요 \\n']\n",
            "챗봇 대답 : ['네 뜨거운 페인 사이즈 는 뭘 로 드릴 까요 \\n']\n",
            "______\n",
            "질문 : \t['매장 에서 먹고 갈 거 예요 \\n']\n",
            "실제 대답 : ['\\t 할인 카드 있으신 가요 \\n']\n",
            "챗봇 대답 : ['2 개 찍어 드렸고 진동 벨 로 알려 드리겠습니다 \\n']\n",
            "______\n",
            "질문 : \t['아메리카노 한잔 주세요 \\n']\n",
            "실제 대답 : ['\\t 따뜻한 걸 로 드릴 까요 \\n']\n",
            "챗봇 대답 : ['드시고 가시나요 \\n']\n",
            "______\n",
            "질문 : \t['을 \\n']\n",
            "실제 대답 : ['\\t 이라 \\n']\n",
            "챗봇 대답 : ['네 드시고 가시나요 \\n']\n",
            "______\n",
            "질문 : \t['바닐라 라테 도 하나 주세요 \\n']\n",
            "실제 대답 : ['\\t 바닐라 라테 따뜻한 거 요 \\n']\n",
            "챗봇 대답 : ['네 진동 벨 이 울리면 픽업 대로 와주세요 \\n']\n",
            "______\n",
            "질문 : \t['네 2 층 이 \\n']\n",
            "실제 대답 : ['\\t 네 2 층 에 자리 \\n']\n",
            "챗봇 대답 : ['네 드시고 가시나요 \\n']\n",
            "______\n",
            "질문 : \t['하시나요 \\n']\n",
            "실제 대답 : ['\\t 네 입니다 \\n']\n",
            "챗봇 대답 : ['네 이리 \\n']\n"
          ],
          "name": "stdout"
        }
      ]
    }
  ]
}