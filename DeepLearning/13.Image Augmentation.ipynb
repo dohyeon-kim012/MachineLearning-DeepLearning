{
  "nbformat": 4,
  "nbformat_minor": 0,
  "metadata": {
    "colab": {
      "name": "13. Image Augmentation",
      "provenance": [],
      "toc_visible": true,
      "authorship_tag": "ABX9TyNZqlYOXgdgmLlm8Penm5bI",
      "include_colab_link": true
    },
    "kernelspec": {
      "name": "python3",
      "display_name": "Python 3"
    },
    "language_info": {
      "name": "python"
    },
    "accelerator": "GPU"
  },
  "cells": [
    {
      "cell_type": "markdown",
      "metadata": {
        "id": "view-in-github",
        "colab_type": "text"
      },
      "source": [
        "<a href=\"https://colab.research.google.com/github/dohyeon-kim012/MachineLearning-DeepLearning/blob/main/DeepLearning/13.Image%20Augmentation.ipynb\" target=\"_parent\"><img src=\"https://colab.research.google.com/assets/colab-badge.svg\" alt=\"Open In Colab\"/></a>"
      ]
    },
    {
      "cell_type": "markdown",
      "metadata": {
        "id": "CTZBO-vV-Q0H"
      },
      "source": [
        "# Augmentation  \n",
        "\n",
        "- 기존 이미지에 추가적인 특징들을 부여하는 것\n",
        "- 좌우 반전, 스케일 늘리거나 줄임, 각도 약간 회전 등..."
      ]
    },
    {
      "cell_type": "markdown",
      "metadata": {
        "id": "pwmk07_O--Vv"
      },
      "source": [
        "## 이미지 불러오기"
      ]
    },
    {
      "cell_type": "code",
      "metadata": {
        "id": "oN10eCYb_Awo"
      },
      "source": [
        "import matplotlib.pyplot as plt\n",
        "import numpy as np\n",
        "\n",
        "import tensorflow as tf\n",
        "from tensorflow.keras.datasets import mnist"
      ],
      "execution_count": null,
      "outputs": []
    },
    {
      "cell_type": "code",
      "metadata": {
        "colab": {
          "base_uri": "https://localhost:8080/"
        },
        "id": "K9gpu10e_LVh",
        "outputId": "95ef3cf2-1337-4e94-f212-66aebcaaa07f"
      },
      "source": [
        "(X_train, y_train), (X_test, y_test) = mnist.load_data()"
      ],
      "execution_count": null,
      "outputs": [
        {
          "output_type": "stream",
          "text": [
            "Downloading data from https://storage.googleapis.com/tensorflow/tf-keras-datasets/mnist.npz\n",
            "11493376/11490434 [==============================] - 0s 0us/step\n"
          ],
          "name": "stdout"
        }
      ]
    },
    {
      "cell_type": "code",
      "metadata": {
        "colab": {
          "base_uri": "https://localhost:8080/"
        },
        "id": "KcYkhcyf_fpI",
        "outputId": "ba8bd249-a119-49cc-f18c-1876d378291e"
      },
      "source": [
        "X_train.shape, y_train.shape"
      ],
      "execution_count": null,
      "outputs": [
        {
          "output_type": "execute_result",
          "data": {
            "text/plain": [
              "((60000, 28, 28), (60000,))"
            ]
          },
          "metadata": {
            "tags": []
          },
          "execution_count": 5
        }
      ]
    },
    {
      "cell_type": "code",
      "metadata": {
        "colab": {
          "base_uri": "https://localhost:8080/"
        },
        "id": "PnaiRILu_kEI",
        "outputId": "094b2a96-f8a6-4666-94dd-523c21efa222"
      },
      "source": [
        "# 채널(C) 이 없으므로 axis 추가\n",
        "X_train = X_train[..., tf.newaxis]\n",
        "X_train.shape"
      ],
      "execution_count": null,
      "outputs": [
        {
          "output_type": "execute_result",
          "data": {
            "text/plain": [
              "(60000, 28, 28, 1)"
            ]
          },
          "metadata": {
            "tags": []
          },
          "execution_count": 6
        }
      ]
    },
    {
      "cell_type": "code",
      "metadata": {
        "colab": {
          "base_uri": "https://localhost:8080/"
        },
        "id": "wgMSQE4a_ylz",
        "outputId": "bdf21449-ff5c-4ce3-de8d-603f0806a68d"
      },
      "source": [
        "image = X_train[0]\n",
        "image.shape"
      ],
      "execution_count": null,
      "outputs": [
        {
          "output_type": "execute_result",
          "data": {
            "text/plain": [
              "(28, 28, 1)"
            ]
          },
          "metadata": {
            "tags": []
          },
          "execution_count": 7
        }
      ]
    },
    {
      "cell_type": "code",
      "metadata": {
        "colab": {
          "base_uri": "https://localhost:8080/",
          "height": 265
        },
        "id": "lHAI6W38_3oq",
        "outputId": "9b18c4c9-4e4c-4690-b4c3-4a207c185e49"
      },
      "source": [
        "plt.imshow(image[..., 0], 'gray')\n",
        "plt.show()"
      ],
      "execution_count": null,
      "outputs": [
        {
          "output_type": "display_data",
          "data": {
            "image/png": "[encoded data removed]",
            "text/plain": [
              "<Figure size 432x288 with 1 Axes>"
            ]
          },
          "metadata": {
            "tags": [],
            "needs_background": "light"
          }
        }
      ]
    },
    {
      "cell_type": "markdown",
      "metadata": {
        "id": "NJ9-BC6M_8rf"
      },
      "source": [
        "## ImageDataGenerator 사용하기\n",
        "\n",
        "이미지에 Augmentation을 넣기 위한 클래스  \n",
        "\n",
        "`ImageDataGenerator` 클래스의 객체를 만들어 놓고, 이미지를 흘려주는 (flow) 방식"
      ]
    },
    {
      "cell_type": "code",
      "metadata": {
        "id": "3zwIVxswAfFA"
      },
      "source": [
        "from tensorflow.keras.preprocessing.image import ImageDataGenerator"
      ],
      "execution_count": null,
      "outputs": []
    },
    {
      "cell_type": "code",
      "metadata": {
        "id": "D2pK2fhRA0Hg"
      },
      "source": [
        "# step 1. Augmentation 설정\n",
        "datagen = ImageDataGenerator(\n",
        "    rotation_range=20,\n",
        "    width_shift_range=0.2,\n",
        "    height_shift_range=0.2,\n",
        "    horizontal_flip=True # 좌우 반전\n",
        ")"
      ],
      "execution_count": null,
      "outputs": []
    },
    {
      "cell_type": "markdown",
      "metadata": {
        "id": "ROVuikr6BuuP"
      },
      "source": [
        "step 2. Augmentation 을 주기 위해서는 **데이터의 형식**을 CNN 레이어에 들어가는 형식으로 맞춰줘야 함  \n",
        "\n",
        "**`(N, H, W, C)`** 유지"
      ]
    },
    {
      "cell_type": "code",
      "metadata": {
        "colab": {
          "base_uri": "https://localhost:8080/"
        },
        "id": "_7Wp4aRuB9J4",
        "outputId": "fd29714e-587c-490e-ef3d-0e881925c8ff"
      },
      "source": [
        "X_train.shape"
      ],
      "execution_count": null,
      "outputs": [
        {
          "output_type": "execute_result",
          "data": {
            "text/plain": [
              "(60000, 28, 28, 1)"
            ]
          },
          "metadata": {
            "tags": []
          },
          "execution_count": 12
        }
      ]
    },
    {
      "cell_type": "markdown",
      "metadata": {
        "id": "qtgQnR60CAin"
      },
      "source": [
        "이미지 한 장만 augmentation 하려면?"
      ]
    },
    {
      "cell_type": "code",
      "metadata": {
        "colab": {
          "base_uri": "https://localhost:8080/"
        },
        "id": "fILn-UNQCDzl",
        "outputId": "ea3af5e5-22fc-419f-ecb6-6e0ee36ae1b4"
      },
      "source": [
        "inputs = X_train[0]\n",
        "inputs.shape"
      ],
      "execution_count": null,
      "outputs": [
        {
          "output_type": "execute_result",
          "data": {
            "text/plain": [
              "(28, 28, 1)"
            ]
          },
          "metadata": {
            "tags": []
          },
          "execution_count": 13
        }
      ]
    },
    {
      "cell_type": "code",
      "metadata": {
        "colab": {
          "base_uri": "https://localhost:8080/"
        },
        "id": "phwHTzCTCU9O",
        "outputId": "3804c32c-7a34-48dd-d16a-12409815e097"
      },
      "source": [
        "inputs = inputs[tf.newaxis, ...]\n",
        "inputs.shape"
      ],
      "execution_count": null,
      "outputs": [
        {
          "output_type": "execute_result",
          "data": {
            "text/plain": [
              "(1, 28, 28, 1)"
            ]
          },
          "metadata": {
            "tags": []
          },
          "execution_count": 14
        }
      ]
    },
    {
      "cell_type": "markdown",
      "metadata": {
        "id": "PDf609U-CnnX"
      },
      "source": [
        "step 3. ImageDataGenerator에 이미지 흘리기(flow)"
      ]
    },
    {
      "cell_type": "code",
      "metadata": {
        "colab": {
          "base_uri": "https://localhost:8080/"
        },
        "id": "NQw7TV3NC5Ic",
        "outputId": "1742bf3b-fc96-420b-a527-0ff60e992696"
      },
      "source": [
        "datagen.flow(inputs)"
      ],
      "execution_count": null,
      "outputs": [
        {
          "output_type": "execute_result",
          "data": {
            "text/plain": [
              "<tensorflow.python.keras.preprocessing.image.NumpyArrayIterator at 0x7f988da2d2d0>"
            ]
          },
          "metadata": {
            "tags": []
          },
          "execution_count": 15
        }
      ]
    },
    {
      "cell_type": "markdown",
      "metadata": {
        "id": "V6qEqZJ2DB4i"
      },
      "source": [
        "---> 흘려보낸 결과물이 NumpyArrayIterator 형식으로 나오게 됨  \n",
        "\n",
        "step 4. Iterator를 강제로 움직여서 Augmentation된 이미지 꺼내보기"
      ]
    },
    {
      "cell_type": "code",
      "metadata": {
        "id": "gy9li_4NC9pk"
      },
      "source": [
        "img_iterator = datagen.flow(inputs)\n",
        "image = next(iter(img_iterator))"
      ],
      "execution_count": null,
      "outputs": []
    },
    {
      "cell_type": "code",
      "metadata": {
        "colab": {
          "base_uri": "https://localhost:8080/",
          "height": 216
        },
        "id": "ECPUQOt6D71x",
        "outputId": "aa90f3f3-462b-4f60-fdcf-3a80ca691da1"
      },
      "source": [
        "plt.subplot(121)\n",
        "plt.imshow(np.squeeze(inputs), 'gray')  # squeeze : 값이 1인 차원을 없앰\n",
        "plt.title(\"Original Image\")\n",
        "\n",
        "plt.subplot(122)\n",
        "plt.imshow(np.squeeze(image), 'gray')\n",
        "plt.title(\"Augmented Image\")\n",
        "\n",
        "plt.show()"
      ],
      "execution_count": null,
      "outputs": [
        {
          "output_type": "display_data",
          "data": {
            "image/png": "[encoded data removed]",
            "text/plain": [
              "<Figure size 432x288 with 2 Axes>"
            ]
          },
          "metadata": {
            "tags": [],
            "needs_background": "light"
          }
        }
      ]
    },
    {
      "cell_type": "markdown",
      "metadata": {
        "id": "x7fQ1o8rEbUX"
      },
      "source": [
        "### ImageDataGenerator 의 변형 옵션\n",
        "\n",
        "* width_shift_range : 좌우 이동 범위 설정\n",
        "* height_shift_range : 상하 이동 범위 설정\n",
        "* brightness_range : 밝기 조절 설정\n",
        "* zoom_range : 확대 / 축소 범위 설정\n",
        "* horizontal_flip : 좌우반전 여부( bool )\n",
        "* vertical_flip : 상하반전 여부( bool )\n",
        "* **rescale : 픽셀 전처리 단위 설정** ( 정규화 )\n",
        "* preprocessing_function : opencv 등 외부 라이브러리를 이용한 전처리 할 때 사용\n",
        "\n",
        "---\n",
        "\n",
        "**rescale** 시 주의 사항  \n",
        "`train_data_gen` 에 rescale을 했으면, `test_data_gen`에도 **반드시** 같은 옵션으로 rescale 해야 함"
      ]
    },
    {
      "cell_type": "code",
      "metadata": {
        "id": "VBCfrlM-EuXp"
      },
      "source": [
        "train_datagen = ImageDataGenerator(\n",
        "    zoom_range=0.7,\n",
        "    rescale=1./255.  # 픽셀 단위를 1/255로 하겠다\n",
        ")\n",
        "\n",
        "# train에 rescale 했으면 !!반드시!! test에도 똑같은 옵션으로 rescale 해야 함\n",
        "test_datagen = ImageDataGenerator(\n",
        "    rescale=1./255.\n",
        ")"
      ],
      "execution_count": null,
      "outputs": []
    }
  ]
}