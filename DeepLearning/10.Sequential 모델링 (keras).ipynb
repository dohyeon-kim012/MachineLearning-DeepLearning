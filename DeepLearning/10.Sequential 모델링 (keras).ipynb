{
  "nbformat": 4,
  "nbformat_minor": 0,
  "metadata": {
    "colab": {
      "name": "10. Sequential 모델링 (keras)",
      "provenance": [],
      "toc_visible": true,
      "authorship_tag": "ABX9TyN0C2Iq0W8rXaVtaO7ucjHt",
      "include_colab_link": true
    },
    "kernelspec": {
      "name": "python3",
      "display_name": "Python 3"
    },
    "language_info": {
      "name": "python"
    },
    "accelerator": "GPU"
  },
  "cells": [
    {
      "cell_type": "markdown",
      "metadata": {
        "id": "view-in-github",
        "colab_type": "text"
      },
      "source": [
        "<a href=\"https://colab.research.google.com/github/dohyeon-kim012/MachineLearning-DeepLearning/blob/main/DeepLearning/10.Sequential%20%EB%AA%A8%EB%8D%B8%EB%A7%81%20(keras).ipynb\" target=\"_parent\"><img src=\"https://colab.research.google.com/assets/colab-badge.svg\" alt=\"Open In Colab\"/></a>"
      ]
    },
    {
      "cell_type": "markdown",
      "metadata": {
        "id": "_pvpcmXJzwAE"
      },
      "source": [
        "데이터 로딩"
      ]
    },
    {
      "cell_type": "code",
      "metadata": {
        "id": "kAQUawHue42D",
        "colab": {
          "base_uri": "https://localhost:8080/"
        },
        "outputId": "977b16d6-17f6-478e-bdac-0871a44da46a"
      },
      "source": [
        "import tensorflow as tf\n",
        "from tensorflow.keras import datasets\n",
        "\n",
        "mnist = datasets.mnist\n",
        "(X_train, y_train), (X_test, y_test) = mnist.load_data()"
      ],
      "execution_count": null,
      "outputs": [
        {
          "output_type": "stream",
          "text": [
            "Downloading data from https://storage.googleapis.com/tensorflow/tf-keras-datasets/mnist.npz\n",
            "11493376/11490434 [==============================] - 0s 0us/step\n"
          ],
          "name": "stdout"
        }
      ]
    },
    {
      "cell_type": "markdown",
      "metadata": {
        "id": "A9oKZbJjz4YT"
      },
      "source": [
        "# 필요한 레이어들 불러오기\n",
        "- `Flatten`\n",
        "- `Dense`\n",
        "- `Sequential` 모델 : 레이어들을 순서대로 엮어줌  \n",
        "    - `OrderedDict` 와 동일한 역할\n",
        "    - `tensorflow.keras.models`에 `Sequential` 클래스가 있음\n",
        "\n",
        "- `Input` 레이어가 굳이 없어도 됨  \n",
        "단, **첫 번째 레이어**에 입력 데이터의 형상을 지정해야 함(**input_shape**)"
      ]
    },
    {
      "cell_type": "code",
      "metadata": {
        "id": "sue8FvbB09lh"
      },
      "source": [
        "from tensorflow.keras.layers import Flatten, Dense\n",
        "from tensorflow.keras.models import Sequential "
      ],
      "execution_count": null,
      "outputs": []
    },
    {
      "cell_type": "markdown",
      "metadata": {
        "id": "h_V5c0Qz1VJx"
      },
      "source": [
        "`Sequential` 모델링은 단순히 파이썬의 **리스트**에 레이어를 추가만 시키는 개념"
      ]
    },
    {
      "cell_type": "markdown",
      "metadata": {
        "id": "hAI4hpM63-PC"
      },
      "source": [
        "아래와 다른 형식이지만 같은 코드\n",
        "```python\n",
        "model = Sequential()\n",
        "model.add(Flatten(input_shape=(28, 28))\n",
        "model.add(Dense(256, activation='relu'))\n",
        "model.add(Dense(128, activation='relu'))\n",
        "model.add(Dense(10, activation='softmax'))\n",
        "```"
      ]
    },
    {
      "cell_type": "code",
      "metadata": {
        "colab": {
          "base_uri": "https://localhost:8080/"
        },
        "id": "TDxwWnK01ITo",
        "outputId": "e42f423b-3322-498a-cb5e-8b9e1af301ce"
      },
      "source": [
        "model = Sequential([\n",
        "    Flatten(input_shape=(28, 28)),\n",
        "    Dense(512, activation='relu'),\n",
        "    Dense(256, activation='relu'),\n",
        "    Dense(128, activation='relu'),\n",
        "    Dense(64, activation='relu'),\n",
        "    Dense(32, activation='relu'),\n",
        "    Dense(10, activation='softmax')  # 출력층\n",
        "])\n",
        "\n",
        "model.summary()"
      ],
      "execution_count": null,
      "outputs": [
        {
          "output_type": "stream",
          "text": [
            "Model: \"sequential\"\n",
            "_________________________________________________________________\n",
            "Layer (type)                 Output Shape              Param #   \n",
            "=================================================================\n",
            "flatten (Flatten)            (None, 784)               0         \n",
            "_________________________________________________________________\n",
            "dense (Dense)                (None, 512)               401920    \n",
            "_________________________________________________________________\n",
            "dense_1 (Dense)              (None, 256)               131328    \n",
            "_________________________________________________________________\n",
            "dense_2 (Dense)              (None, 128)               32896     \n",
            "_________________________________________________________________\n",
            "dense_3 (Dense)              (None, 64)                8256      \n",
            "_________________________________________________________________\n",
            "dense_4 (Dense)              (None, 32)                2080      \n",
            "_________________________________________________________________\n",
            "dense_5 (Dense)              (None, 10)                330       \n",
            "=================================================================\n",
            "Total params: 576,810\n",
            "Trainable params: 576,810\n",
            "Non-trainable params: 0\n",
            "_________________________________________________________________\n"
          ],
          "name": "stdout"
        }
      ]
    },
    {
      "cell_type": "markdown",
      "metadata": {
        "id": "9uUXJ4Ws11Bu"
      },
      "source": [
        "모델 컴파일"
      ]
    },
    {
      "cell_type": "code",
      "metadata": {
        "id": "ck0KOb3l2X1B"
      },
      "source": [
        "model.compile(\n",
        "    optimizer='adam',\n",
        "    loss='sparse_categorical_crossentropy',\n",
        "    metrics=['acc']\n",
        ")"
      ],
      "execution_count": null,
      "outputs": []
    },
    {
      "cell_type": "markdown",
      "metadata": {
        "id": "sj7Cjy8E2ghA"
      },
      "source": [
        "훈련"
      ]
    },
    {
      "cell_type": "code",
      "metadata": {
        "colab": {
          "base_uri": "https://localhost:8080/"
        },
        "id": "QqZ77aVC2k3K",
        "outputId": "7da3e246-088a-4f75-a020-4ff1847e4297"
      },
      "source": [
        "model.fit(X_train,\n",
        "          y_train,\n",
        "          validation_data=(X_test, y_test),\n",
        "          epochs=15,\n",
        "          batch_size=32)"
      ],
      "execution_count": null,
      "outputs": [
        {
          "output_type": "stream",
          "text": [
            "Epoch 1/15\n",
            "1875/1875 [==============================] - 5s 3ms/step - loss: 0.0455 - acc: 0.9888 - val_loss: 0.1499 - val_acc: 0.9705\n",
            "Epoch 2/15\n",
            "1875/1875 [==============================] - 4s 2ms/step - loss: 0.0441 - acc: 0.9891 - val_loss: 0.1156 - val_acc: 0.9782\n",
            "Epoch 3/15\n",
            "1875/1875 [==============================] - 5s 2ms/step - loss: 0.0413 - acc: 0.9903 - val_loss: 0.1213 - val_acc: 0.9754\n",
            "Epoch 4/15\n",
            "1875/1875 [==============================] - 4s 2ms/step - loss: 0.0465 - acc: 0.9905 - val_loss: 0.0960 - val_acc: 0.9793\n",
            "Epoch 5/15\n",
            "1875/1875 [==============================] - 4s 2ms/step - loss: 0.0342 - acc: 0.9916 - val_loss: 0.1108 - val_acc: 0.9808\n",
            "Epoch 6/15\n",
            "1875/1875 [==============================] - 4s 2ms/step - loss: 0.0396 - acc: 0.9916 - val_loss: 0.1518 - val_acc: 0.9795\n",
            "Epoch 7/15\n",
            "1875/1875 [==============================] - 4s 2ms/step - loss: 0.0350 - acc: 0.9917 - val_loss: 0.1518 - val_acc: 0.9773\n",
            "Epoch 8/15\n",
            "1875/1875 [==============================] - 4s 2ms/step - loss: 0.0355 - acc: 0.9923 - val_loss: 0.1350 - val_acc: 0.9794\n",
            "Epoch 9/15\n",
            "1875/1875 [==============================] - 5s 2ms/step - loss: 0.0327 - acc: 0.9930 - val_loss: 0.1598 - val_acc: 0.9774\n",
            "Epoch 10/15\n",
            "1875/1875 [==============================] - 4s 2ms/step - loss: 0.0313 - acc: 0.9929 - val_loss: 0.1525 - val_acc: 0.9739\n",
            "Epoch 11/15\n",
            "1875/1875 [==============================] - 4s 2ms/step - loss: 0.0319 - acc: 0.9929 - val_loss: 0.1047 - val_acc: 0.9819\n",
            "Epoch 12/15\n",
            "1875/1875 [==============================] - 4s 2ms/step - loss: 0.0307 - acc: 0.9937 - val_loss: 0.1045 - val_acc: 0.9828\n",
            "Epoch 13/15\n",
            "1875/1875 [==============================] - 4s 2ms/step - loss: 0.0226 - acc: 0.9953 - val_loss: 0.1247 - val_acc: 0.9802\n",
            "Epoch 14/15\n",
            "1875/1875 [==============================] - 5s 2ms/step - loss: 0.0329 - acc: 0.9930 - val_loss: 0.1714 - val_acc: 0.9786\n",
            "Epoch 15/15\n",
            "1875/1875 [==============================] - 4s 2ms/step - loss: 0.0260 - acc: 0.9947 - val_loss: 0.1373 - val_acc: 0.9800\n"
          ],
          "name": "stdout"
        },
        {
          "output_type": "execute_result",
          "data": {
            "text/plain": [
              "<tensorflow.python.keras.callbacks.History at 0x7fbf4210fed0>"
            ]
          },
          "metadata": {
            "tags": []
          },
          "execution_count": 6
        }
      ]
    },
    {
      "cell_type": "markdown",
      "metadata": {
        "id": "W9zG1s_g2qjy"
      },
      "source": [
        "데이터가 많이 튀는 경우 세트들을 정규화시켜줘도 됨  \n",
        "\n",
        "        X_test / 255."
      ]
    },
    {
      "cell_type": "markdown",
      "metadata": {
        "id": "ID1zpSA13_zE"
      },
      "source": [
        "# 실습\n",
        "* 1층 : `Flatten`\n",
        "* Dense(512, relu) - Dense(256-relu) - Dense(10 - softmax)\n",
        "* y_train One Hot Encoding\n",
        "* y_test도 One Hot Encoding\n",
        "* optimizer - adam\n",
        "* metrics - acc\n",
        "* loss - ???"
      ]
    },
    {
      "cell_type": "code",
      "metadata": {
        "colab": {
          "base_uri": "https://localhost:8080/"
        },
        "id": "CcToEleo41QQ",
        "outputId": "3ae70812-47e2-46b7-8881-ecd12e47148f"
      },
      "source": [
        "y_train_one_hot = tf.one_hot(y_train, 10)\n",
        "y_test_one_hot = tf.one_hot(y_test, 10)\n",
        "\n",
        "y_train_one_hot.shape, y_test_one_hot.shape"
      ],
      "execution_count": null,
      "outputs": [
        {
          "output_type": "execute_result",
          "data": {
            "text/plain": [
              "(TensorShape([60000, 10]), TensorShape([10000, 10]))"
            ]
          },
          "metadata": {
            "tags": []
          },
          "execution_count": 12
        }
      ]
    },
    {
      "cell_type": "code",
      "metadata": {
        "colab": {
          "base_uri": "https://localhost:8080/"
        },
        "id": "K7Rd6nbC6kxB",
        "outputId": "f0a4fa3e-bcc3-4454-f56e-06e6b63e64a5"
      },
      "source": [
        "y_train_one_hot[:3]"
      ],
      "execution_count": null,
      "outputs": [
        {
          "output_type": "execute_result",
          "data": {
            "text/plain": [
              "<tf.Tensor: shape=(3, 10), dtype=float32, numpy=\n",
              "array([[0., 0., 0., 0., 0., 1., 0., 0., 0., 0.],\n",
              "       [1., 0., 0., 0., 0., 0., 0., 0., 0., 0.],\n",
              "       [0., 0., 0., 0., 1., 0., 0., 0., 0., 0.]], dtype=float32)>"
            ]
          },
          "metadata": {
            "tags": []
          },
          "execution_count": 13
        }
      ]
    },
    {
      "cell_type": "code",
      "metadata": {
        "colab": {
          "base_uri": "https://localhost:8080/"
        },
        "id": "CEkFvViP55zp",
        "outputId": "2110ea49-0c54-4935-da33-68a5ce6fe42c"
      },
      "source": [
        "model = Sequential([\n",
        "    Flatten(input_shape=(28, 28)),\n",
        "    Dense(512, activation='relu'),\n",
        "    Dense(256, activation='relu'),\n",
        "    Dense(10, activation='softmax')\n",
        "])\n",
        "\n",
        "model.summary()"
      ],
      "execution_count": null,
      "outputs": [
        {
          "output_type": "stream",
          "text": [
            "Model: \"sequential_1\"\n",
            "_________________________________________________________________\n",
            "Layer (type)                 Output Shape              Param #   \n",
            "=================================================================\n",
            "flatten_1 (Flatten)          (None, 784)               0         \n",
            "_________________________________________________________________\n",
            "dense_6 (Dense)              (None, 512)               401920    \n",
            "_________________________________________________________________\n",
            "dense_7 (Dense)              (None, 256)               131328    \n",
            "_________________________________________________________________\n",
            "dense_8 (Dense)              (None, 10)                2570      \n",
            "=================================================================\n",
            "Total params: 535,818\n",
            "Trainable params: 535,818\n",
            "Non-trainable params: 0\n",
            "_________________________________________________________________\n"
          ],
          "name": "stdout"
        }
      ]
    },
    {
      "cell_type": "code",
      "metadata": {
        "id": "q2ddhyUo651R"
      },
      "source": [
        "model.compile(\n",
        "    optimizer='adam',\n",
        "    loss='categorical_crossentropy',\n",
        "    metrics=['acc']\n",
        ")"
      ],
      "execution_count": null,
      "outputs": []
    },
    {
      "cell_type": "code",
      "metadata": {
        "colab": {
          "base_uri": "https://localhost:8080/"
        },
        "id": "7vpqT0fZ7BG3",
        "outputId": "bafa6d1b-d3ae-46a7-fc10-2eddaa458943"
      },
      "source": [
        "model.fit(\n",
        "    X_train,\n",
        "    y_train_one_hot,\n",
        "    validation_split=0.2,\n",
        "    epochs=10,\n",
        "    batch_size=32\n",
        ")"
      ],
      "execution_count": null,
      "outputs": [
        {
          "output_type": "stream",
          "text": [
            "Epoch 1/10\n",
            "1500/1500 [==============================] - 55s 3ms/step - loss: 1.7140 - acc: 0.8888 - val_loss: 0.2870 - val_acc: 0.9256\n",
            "Epoch 2/10\n",
            "1500/1500 [==============================] - 3s 2ms/step - loss: 0.2310 - acc: 0.9409 - val_loss: 0.2433 - val_acc: 0.9360\n",
            "Epoch 3/10\n",
            "1500/1500 [==============================] - 3s 2ms/step - loss: 0.1854 - acc: 0.9517 - val_loss: 0.2371 - val_acc: 0.9377\n",
            "Epoch 4/10\n",
            "1500/1500 [==============================] - 4s 2ms/step - loss: 0.1671 - acc: 0.9545 - val_loss: 0.1892 - val_acc: 0.9567\n",
            "Epoch 5/10\n",
            "1500/1500 [==============================] - 3s 2ms/step - loss: 0.1485 - acc: 0.9613 - val_loss: 0.1736 - val_acc: 0.9583\n",
            "Epoch 6/10\n",
            "1500/1500 [==============================] - 3s 2ms/step - loss: 0.1364 - acc: 0.9645 - val_loss: 0.1739 - val_acc: 0.9581\n",
            "Epoch 7/10\n",
            "1500/1500 [==============================] - 3s 2ms/step - loss: 0.1127 - acc: 0.9712 - val_loss: 0.1630 - val_acc: 0.9621\n",
            "Epoch 8/10\n",
            "1500/1500 [==============================] - 3s 2ms/step - loss: 0.1189 - acc: 0.9702 - val_loss: 0.1736 - val_acc: 0.9638\n",
            "Epoch 9/10\n",
            "1500/1500 [==============================] - 4s 2ms/step - loss: 0.0958 - acc: 0.9764 - val_loss: 0.1535 - val_acc: 0.9683\n",
            "Epoch 10/10\n",
            "1500/1500 [==============================] - 3s 2ms/step - loss: 0.0882 - acc: 0.9781 - val_loss: 0.1661 - val_acc: 0.9631\n"
          ],
          "name": "stdout"
        },
        {
          "output_type": "execute_result",
          "data": {
            "text/plain": [
              "<tensorflow.python.keras.callbacks.History at 0x7fbf1a79d550>"
            ]
          },
          "metadata": {
            "tags": []
          },
          "execution_count": 16
        }
      ]
    }
  ]
}