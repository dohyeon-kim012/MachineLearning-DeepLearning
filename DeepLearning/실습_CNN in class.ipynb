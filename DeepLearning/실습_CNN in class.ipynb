{
  "nbformat": 4,
  "nbformat_minor": 0,
  "metadata": {
    "colab": {
      "name": "실습_CNN in class",
      "provenance": [],
      "collapsed_sections": [],
      "authorship_tag": "ABX9TyMQQ/0N3pRtbvXUFoAkYJN0",
      "include_colab_link": true
    },
    "kernelspec": {
      "name": "python3",
      "display_name": "Python 3"
    },
    "language_info": {
      "name": "python"
    },
    "accelerator": "GPU"
  },
  "cells": [
    {
      "cell_type": "markdown",
      "metadata": {
        "id": "view-in-github",
        "colab_type": "text"
      },
      "source": [
        "<a href=\"https://colab.research.google.com/github/dohyeon-kim012/MachineLearning-DeepLearning/blob/main/DeepLearning/%EC%8B%A4%EC%8A%B5_CNN%20in%20class.ipynb\" target=\"_parent\"><img src=\"https://colab.research.google.com/assets/colab-badge.svg\" alt=\"Open In Colab\"/></a>"
      ]
    },
    {
      "cell_type": "code",
      "metadata": {
        "id": "KtBmRkysYDaP"
      },
      "source": [
        "import tensorflow as tf\n",
        "\n",
        "class MyModel(tf.keras.Model):\n",
        "\n",
        "    def __init__(self):\n",
        "        super(MyModel, self).__init__()\n",
        "\n",
        "        self.conv1 = tf.keras.layers.Conv2D(32, 3, padding='SAME', input_shape=(28, 28, 1), activation='relu')\n",
        "        self.conv2 = tf.keras.layers.Conv2D(32, 3, padding='SAME', activation='relu')\n",
        "        self.pool1 = tf.keras.layers.MaxPool2D(2)\n",
        "        self.drop1 = tf.keras.layers.Dropout(0.25)\n",
        "\n",
        "        self.conv3 = tf.keras.layers.Conv2D(64, 3, padding='SAME', activation='relu')\n",
        "        self.conv4 = tf.keras.layers.Conv2D(64, 3, padding='SAME', activation='relu')\n",
        "        self.pool2 = tf.keras.layers.MaxPool2D(2)\n",
        "        self.drop2 = tf.keras.layers.Dropout(0.25)\n",
        "\n",
        "        self.flatten = tf.keras.layers.Flatten()\n",
        "        self.dense1 = tf.keras.layers.Dense(512, activation='relu')\n",
        "        self.dense2 = tf.keras.layers.Dense(10, activation='softmax')\n",
        "\n",
        "    def call(self, x):\n",
        "        x = self.conv1(x)\n",
        "        x = self.conv2(x)\n",
        "        x = self.pool1(x)\n",
        "        x = self.drop1(x)\n",
        "\n",
        "        x = self.conv3(x)\n",
        "        x = self.conv4(x)\n",
        "        x = self.pool2(x)\n",
        "        x = self.drop2(x)\n",
        "\n",
        "        x = self.flatten(x)\n",
        "        x = self.dense1(x)\n",
        "        out = self.dense2(x)\n",
        "        \n",
        "        return out"
      ],
      "execution_count": null,
      "outputs": []
    },
    {
      "cell_type": "code",
      "metadata": {
        "id": "JYIYK9_wacwg"
      },
      "source": [
        "@tf.function\n",
        "def train_step(model, images, labels, loss_object, optimizer, train_loss, train_accuracy):\n",
        "\n",
        "    with tf.GradientTape() as tape:\n",
        "        prediction = model(images)\n",
        "        loss = loss_object(labels, prediction)\n",
        "\n",
        "    grads = tape.gradient(loss, model.trainable_variables)\n",
        "\n",
        "    optimizer.apply_gradients(zip(grads, model.trainable_variables))\n",
        "\n",
        "    train_loss(loss)\n",
        "    train_accuracy(labels, prediction)\n",
        "\n",
        "@tf.function\n",
        "def test_step(model, images, labels, loss_object, test_loss, test_accuracy):\n",
        "    prediction = model(images)\n",
        "\n",
        "    t_loss = loss_object(labels, prediction)\n",
        "\n",
        "    test_loss(t_loss)\n",
        "    test_accuracy(labels, prediction)"
      ],
      "execution_count": null,
      "outputs": []
    },
    {
      "cell_type": "code",
      "metadata": {
        "colab": {
          "base_uri": "https://localhost:8080/"
        },
        "id": "GBdo8W7ebCYu",
        "outputId": "7802f9d3-398e-400f-8f38-87aecac005f5"
      },
      "source": [
        "mnist = tf.keras.datasets.mnist\n",
        "\n",
        "(X_train, y_train), (X_test, y_test) = mnist.load_data()\n",
        "\n",
        "# 픽셀 정규화\n",
        "X_train, X_test = X_train / 255., X_test / 255.\n",
        "\n",
        "# 이미지 채널 차원 추가\n",
        "X_train = X_train[..., tf.newaxis]\n",
        "X_test = X_test[..., tf.newaxis]\n",
        "\n",
        "# Tensorflow Dataset 만들기\n",
        "train_ds = tf.data.Dataset.from_tensor_slices((X_train, y_train)).shuffle(1024).batch(32)\n",
        "test_ds = tf.data.Dataset.from_tensor_slices((X_test, y_test)).batch(32)"
      ],
      "execution_count": null,
      "outputs": [
        {
          "output_type": "stream",
          "text": [
            "Downloading data from https://storage.googleapis.com/tensorflow/tf-keras-datasets/mnist.npz\n",
            "11493376/11490434 [==============================] - 0s 0us/step\n"
          ],
          "name": "stdout"
        }
      ]
    },
    {
      "cell_type": "code",
      "metadata": {
        "id": "DIuLQFiAbIGJ"
      },
      "source": [
        "model = MyModel()"
      ],
      "execution_count": null,
      "outputs": []
    },
    {
      "cell_type": "code",
      "metadata": {
        "id": "0tIfnY5qbJ2p"
      },
      "source": [
        "loss_object = tf.keras.losses.SparseCategoricalCrossentropy()\n",
        "optimizer = tf.keras.optimizers.Adam()"
      ],
      "execution_count": null,
      "outputs": []
    },
    {
      "cell_type": "code",
      "metadata": {
        "id": "832eMnWfbMOm"
      },
      "source": [
        "train_loss = tf.keras.metrics.Mean(name=\"train_loss\")\n",
        "train_accuracy = tf.keras.metrics.SparseCategoricalAccuracy(name='train_accuracy')\n",
        "\n",
        "test_loss = tf.keras.metrics.Mean(name='test_loss')\n",
        "test_accuracy = tf.keras.metrics.SparseCategoricalAccuracy(name=\"test_accuracy\")"
      ],
      "execution_count": null,
      "outputs": []
    },
    {
      "cell_type": "code",
      "metadata": {
        "colab": {
          "base_uri": "https://localhost:8080/"
        },
        "id": "-0SN0MBsbN1I",
        "outputId": "919a301f-780f-416d-c0c8-1f29f8c33ec5"
      },
      "source": [
        "EPOCHS = 10\n",
        "\n",
        "for epoch in range(EPOCHS):\n",
        "\n",
        "    # 훈련\n",
        "    for images, labels in train_ds:\n",
        "        train_step(model, images, labels, loss_object, optimizer, train_loss, train_accuracy)\n",
        "\n",
        "    # 테스트\n",
        "    for test_images, test_labels in test_ds:\n",
        "        test_step(model, images, labels, loss_object, test_loss, test_accuracy)\n",
        "\n",
        "    template = \"Epoch {}, Train Loss : {:.3f}, Train Accuracy : {:.3f}, Test Loss : {:.3f}, Test Accuracy : {:.3f}\"\n",
        "    print(template.format(epoch + 1,\n",
        "                          train_loss.result(),\n",
        "                          train_accuracy.result() * 100,\n",
        "                          \n",
        "                          test_loss.result(),\n",
        "                          test_accuracy.result() * 100))"
      ],
      "execution_count": null,
      "outputs": [
        {
          "output_type": "stream",
          "text": [
            "Epoch 1, Train Loss : 0.096, Train Accuracy : 97.043, Test Loss : 0.002, Test Accuracy : 100.000\n",
            "Epoch 2, Train Loss : 0.065, Train Accuracy : 97.994, Test Loss : 0.002, Test Accuracy : 100.000\n",
            "Epoch 3, Train Loss : 0.051, Train Accuracy : 98.404, Test Loss : 0.001, Test Accuracy : 100.000\n",
            "Epoch 4, Train Loss : 0.043, Train Accuracy : 98.663, Test Loss : 0.006, Test Accuracy : 100.000\n",
            "Epoch 5, Train Loss : 0.037, Train Accuracy : 98.838, Test Loss : 0.009, Test Accuracy : 100.000\n",
            "Epoch 6, Train Loss : 0.033, Train Accuracy : 98.969, Test Loss : 0.008, Test Accuracy : 100.000\n",
            "Epoch 7, Train Loss : 0.030, Train Accuracy : 99.073, Test Loss : 0.007, Test Accuracy : 100.000\n",
            "Epoch 8, Train Loss : 0.027, Train Accuracy : 99.154, Test Loss : 0.006, Test Accuracy : 100.000\n",
            "Epoch 9, Train Loss : 0.025, Train Accuracy : 99.216, Test Loss : 0.005, Test Accuracy : 100.000\n",
            "Epoch 10, Train Loss : 0.023, Train Accuracy : 99.272, Test Loss : 0.005, Test Accuracy : 100.000\n"
          ],
          "name": "stdout"
        }
      ]
    }
  ]
}