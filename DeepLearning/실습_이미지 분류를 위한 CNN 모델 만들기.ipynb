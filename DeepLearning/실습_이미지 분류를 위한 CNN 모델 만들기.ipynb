{
  "nbformat": 4,
  "nbformat_minor": 0,
  "metadata": {
    "colab": {
      "name": "이미지 분류를 위한 CNN 모델 만들기_최종의 최종",
      "provenance": [],
      "collapsed_sections": [],
      "toc_visible": true,
      "include_colab_link": true
    },
    "kernelspec": {
      "display_name": "Python 3",
      "name": "python3"
    },
    "language_info": {
      "name": "python"
    }
  },
  "cells": [
    {
      "cell_type": "markdown",
      "metadata": {
        "id": "view-in-github",
        "colab_type": "text"
      },
      "source": [
        "<a href=\"https://colab.research.google.com/github/dohyeon-kim012/MachineLearning-DeepLearning/blob/main/DeepLearning/%EC%8B%A4%EC%8A%B5_%EC%9D%B4%EB%AF%B8%EC%A7%80%20%EB%B6%84%EB%A5%98%EB%A5%BC%20%EC%9C%84%ED%95%9C%20CNN%20%EB%AA%A8%EB%8D%B8%20%EB%A7%8C%EB%93%A4%EA%B8%B0.ipynb\" target=\"_parent\"><img src=\"https://colab.research.google.com/assets/colab-badge.svg\" alt=\"Open In Colab\"/></a>"
      ]
    },
    {
      "cell_type": "code",
      "metadata": {
        "id": "ICIG3Mk8Asub"
      },
      "source": [
        "train_dir = '/content/drive/MyDrive/실습_도현,원식,현균/dataset/training'\n",
        "test_dir = '/content/drive/MyDrive/실습_도현,원식,현균/dataset/validation'"
      ],
      "execution_count": null,
      "outputs": []
    },
    {
      "cell_type": "code",
      "metadata": {
        "id": "qSuQY-79Asu9"
      },
      "source": [
        "num_epochs = 30\n",
        "batch_size = 8\n",
        "\n",
        "num_classes = 4\n",
        "class_names = ['child', 'teenager', 'adult', 'elder']"
      ],
      "execution_count": null,
      "outputs": []
    },
    {
      "cell_type": "code",
      "metadata": {
        "id": "4VH0iovqAsu-"
      },
      "source": [
        "# ImageDataGenerator 를 통해 이미지 정규화\n",
        "train_datagen = ImageDataGenerator(rescale=1./255)\n",
        "test_datagen = ImageDataGenerator(rescale=1./255)"
      ],
      "execution_count": null,
      "outputs": []
    },
    {
      "cell_type": "code",
      "metadata": {
        "colab": {
          "base_uri": "https://localhost:8080/"
        },
        "id": "TdopT0Y-Asu-",
        "outputId": "2688e302-101b-4561-c480-1dfa911aed05"
      },
      "source": [
        "# 지정된 경로에서 이미지 데이터 불러오기\n",
        "train_generator = train_datagen.flow_from_directory(\n",
        "    train_dir,\n",
        "    target_size=(224, 224),\n",
        "    batch_size=batch_size,\n",
        "    color_mode='rgb'\n",
        ")\n",
        "\n",
        "validation_generator = test_datagen.flow_from_directory(\n",
        "    test_dir,\n",
        "    target_size=(224, 224),\n",
        "    batch_size=batch_size,\n",
        "    color_mode='rgb'\n",
        ")"
      ],
      "execution_count": null,
      "outputs": [
        {
          "output_type": "stream",
          "text": [
            "Found 2320 images belonging to 4 classes.\n",
            "Found 504 images belonging to 4 classes.\n"
          ],
          "name": "stdout"
        }
      ]
    },
    {
      "cell_type": "code",
      "metadata": {
        "colab": {
          "base_uri": "https://localhost:8080/"
        },
        "id": "7LG9-AdWAsu-",
        "outputId": "f484425c-4b8e-4a38-bac8-3b557655dc9e"
      },
      "source": [
        "# 데이터 shape: (224, 224, 3), 라벨 shape: (4,)\n",
        "for train_data in train_generator.next():\n",
        "    print(train_data[0])"
      ],
      "execution_count": null,
      "outputs": [
        {
          "output_type": "stream",
          "text": [
            "[[[0.8745099  0.90196085 0.92549026]\n",
            "  [0.8745099  0.90196085 0.92549026]\n",
            "  [0.87843144 0.9058824  0.9294118 ]\n",
            "  ...\n",
            "  [0.87843144 0.9058824  0.9294118 ]\n",
            "  [0.8745099  0.90196085 0.92549026]\n",
            "  [0.8745099  0.90196085 0.92549026]]\n",
            "\n",
            " [[0.8745099  0.90196085 0.92549026]\n",
            "  [0.87843144 0.9058824  0.9294118 ]\n",
            "  [0.87843144 0.9058824  0.9294118 ]\n",
            "  ...\n",
            "  [0.87843144 0.9058824  0.9294118 ]\n",
            "  [0.8745099  0.90196085 0.92549026]\n",
            "  [0.8745099  0.90196085 0.92549026]]\n",
            "\n",
            " [[0.87843144 0.9058824  0.9294118 ]\n",
            "  [0.87843144 0.9058824  0.9294118 ]\n",
            "  [0.882353   0.909804   0.9333334 ]\n",
            "  ...\n",
            "  [0.882353   0.909804   0.9333334 ]\n",
            "  [0.87843144 0.9058824  0.9294118 ]\n",
            "  [0.8745099  0.90196085 0.92549026]]\n",
            "\n",
            " ...\n",
            "\n",
            " [[0.23137257 0.18039216 0.14509805]\n",
            "  [0.3019608  0.2509804  0.21960786]\n",
            "  [0.40784317 0.35686275 0.3254902 ]\n",
            "  ...\n",
            "  [0.90196085 0.8980393  0.9215687 ]\n",
            "  [0.9058824  0.90196085 0.92549026]\n",
            "  [0.9058824  0.90196085 0.92549026]]\n",
            "\n",
            " [[0.23137257 0.18431373 0.18431373]\n",
            "  [0.45098042 0.4039216  0.4039216 ]\n",
            "  [0.54901963 0.5019608  0.5019608 ]\n",
            "  ...\n",
            "  [0.8862746  0.89019614 0.909804  ]\n",
            "  [0.86274517 0.86666673 0.8862746 ]\n",
            "  [0.8470589  0.85098046 0.8705883 ]]\n",
            "\n",
            " [[0.27058825 0.22352943 0.22352943]\n",
            "  [0.4901961  0.4431373  0.4431373 ]\n",
            "  [0.5921569  0.54509807 0.54509807]\n",
            "  ...\n",
            "  [0.8862746  0.89019614 0.909804  ]\n",
            "  [0.8588236  0.86274517 0.882353  ]\n",
            "  [0.8470589  0.85098046 0.8705883 ]]]\n",
            "[1. 0. 0. 0.]\n"
          ],
          "name": "stdout"
        }
      ]
    },
    {
      "cell_type": "code",
      "metadata": {
        "colab": {
          "base_uri": "https://localhost:8080/"
        },
        "id": "43jRi7G8Asu_",
        "outputId": "b6dbdf3e-34a1-493a-df7e-00fa33508147"
      },
      "source": [
        "train_images, train_labels = next(train_generator)\n",
        "test_images, test_labels = next(validation_generator)"
      ],
      "execution_count": null,
      "outputs": [
        {
          "output_type": "execute_result",
          "data": {
            "text/plain": [
              "array([[1., 0., 0., 0.],\n",
              "       [0., 0., 0., 1.],\n",
              "       [1., 0., 0., 0.],\n",
              "       [0., 0., 1., 0.],\n",
              "       [0., 0., 1., 0.],\n",
              "       [1., 0., 0., 0.],\n",
              "       [0., 0., 0., 1.],\n",
              "       [0., 0., 0., 1.],\n",
              "       [1., 0., 0., 0.],\n",
              "       [0., 0., 0., 1.],\n",
              "       [0., 0., 0., 1.],\n",
              "       [1., 0., 0., 0.],\n",
              "       [0., 1., 0., 0.],\n",
              "       [0., 0., 0., 1.],\n",
              "       [0., 1., 0., 0.],\n",
              "       [0., 0., 0., 1.],\n",
              "       [1., 0., 0., 0.],\n",
              "       [0., 0., 1., 0.],\n",
              "       [0., 0., 0., 1.],\n",
              "       [0., 1., 0., 0.],\n",
              "       [0., 0., 1., 0.],\n",
              "       [0., 0., 1., 0.],\n",
              "       [1., 0., 0., 0.],\n",
              "       [1., 0., 0., 0.],\n",
              "       [0., 0., 0., 1.],\n",
              "       [0., 0., 0., 1.],\n",
              "       [1., 0., 0., 0.],\n",
              "       [1., 0., 0., 0.],\n",
              "       [0., 0., 0., 1.],\n",
              "       [1., 0., 0., 0.],\n",
              "       [0., 0., 0., 1.],\n",
              "       [0., 0., 1., 0.]], dtype=float32)"
            ]
          },
          "metadata": {
            "tags": []
          },
          "execution_count": 21
        }
      ]
    },
    {
      "cell_type": "markdown",
      "metadata": {
        "id": "dEZdlCQrmmxl"
      },
      "source": [
        "# 데이터 준비 및 시각화"
      ]
    },
    {
      "cell_type": "code",
      "metadata": {
        "colab": {
          "base_uri": "https://localhost:8080/"
        },
        "id": "Ag1nZItPQR6_",
        "outputId": "3ba840ec-bb64-4b74-9a27-5214caa1c4c1"
      },
      "source": [
        "from google.colab import drive\n",
        "drive.mount('/content/drive')"
      ],
      "execution_count": null,
      "outputs": [
        {
          "output_type": "stream",
          "text": [
            "Mounted at /content/drive\n"
          ],
          "name": "stdout"
        }
      ]
    },
    {
      "cell_type": "code",
      "metadata": {
        "id": "eI6bkdUQmuxi"
      },
      "source": [
        "# 필요한 라이브러리 import\n",
        "import tensorflow as tf\n",
        "from tensorflow import keras\n",
        "from tensorflow.keras import layers\n",
        "\n",
        "from tensorflow.keras import datasets\n",
        "from tensorflow.keras.preprocessing.image import ImageDataGenerator\n",
        "\n",
        "import matplotlib.pyplot as plt\n",
        "import numpy as np"
      ],
      "execution_count": null,
      "outputs": []
    },
    {
      "cell_type": "code",
      "metadata": {
        "id": "ItKPj2zOEUb9"
      },
      "source": [
        "import os\n",
        "from glob import glob"
      ],
      "execution_count": null,
      "outputs": []
    },
    {
      "cell_type": "markdown",
      "metadata": {
        "id": "satZauvc_xTh"
      },
      "source": [
        "## 데이터 불러오기"
      ]
    },
    {
      "cell_type": "code",
      "metadata": {
        "colab": {
          "base_uri": "https://localhost:8080/"
        },
        "id": "pmUZRaqXKOhn",
        "outputId": "fea2054b-4238-4dcf-fe74-739d05f6a0f7"
      },
      "source": [
        "os.listdir('/content/drive/MyDrive/실습_도현,원식,현균/dataset/training')"
      ],
      "execution_count": null,
      "outputs": [
        {
          "output_type": "execute_result",
          "data": {
            "text/plain": [
              "['0', '1', '2', '3']"
            ]
          },
          "metadata": {
            "tags": []
          },
          "execution_count": 15
        }
      ]
    },
    {
      "cell_type": "code",
      "metadata": {
        "id": "8tMyQcXE1PyG"
      },
      "source": [
        "train_dir = '/content/drive/MyDrive/실습_도현,원식,현균/dataset/training'\n",
        "test_dir = '/content/drive/MyDrive/실습_도현,원식,현균/dataset/validation'"
      ],
      "execution_count": null,
      "outputs": []
    },
    {
      "cell_type": "code",
      "metadata": {
        "id": "RT2PfEsB1WLe"
      },
      "source": [
        "num_epochs = 30\n",
        "batch_size = 8\n",
        "\n",
        "num_classes = 4\n",
        "class_names = ['child', 'teenager', 'adult', 'elder']"
      ],
      "execution_count": null,
      "outputs": []
    },
    {
      "cell_type": "code",
      "metadata": {
        "id": "07JAhVIZ1e7V"
      },
      "source": [
        "# ImageDataGenerator 를 통해 이미지 정규화\n",
        "train_datagen = ImageDataGenerator(rescale=1./255)\n",
        "test_datagen = ImageDataGenerator(rescale=1./255)"
      ],
      "execution_count": null,
      "outputs": []
    },
    {
      "cell_type": "code",
      "metadata": {
        "colab": {
          "base_uri": "https://localhost:8080/"
        },
        "id": "GVUWOGAk1tRA",
        "outputId": "2688e302-101b-4561-c480-1dfa911aed05"
      },
      "source": [
        "# 지정된 경로에서 이미지 데이터 불러오기\n",
        "train_generator = train_datagen.flow_from_directory(\n",
        "    train_dir,\n",
        "    target_size=(224, 224),\n",
        "    batch_size=batch_size,\n",
        "    color_mode='rgb'\n",
        ")\n",
        "\n",
        "validation_generator = test_datagen.flow_from_directory(\n",
        "    test_dir,\n",
        "    target_size=(224, 224),\n",
        "    batch_size=batch_size,\n",
        "    color_mode='rgb'\n",
        ")"
      ],
      "execution_count": null,
      "outputs": [
        {
          "output_type": "stream",
          "text": [
            "Found 2320 images belonging to 4 classes.\n",
            "Found 504 images belonging to 4 classes.\n"
          ],
          "name": "stdout"
        }
      ]
    },
    {
      "cell_type": "code",
      "metadata": {
        "colab": {
          "base_uri": "https://localhost:8080/"
        },
        "id": "HfEaeJ4t2Ks9",
        "outputId": "f484425c-4b8e-4a38-bac8-3b557655dc9e"
      },
      "source": [
        "# 데이터 shape: (224, 224, 3), 라벨 shape: (4,)\n",
        "for train_data in train_generator.next():\n",
        "    print(train_data[0])"
      ],
      "execution_count": null,
      "outputs": [
        {
          "output_type": "stream",
          "text": [
            "[[[0.8745099  0.90196085 0.92549026]\n",
            "  [0.8745099  0.90196085 0.92549026]\n",
            "  [0.87843144 0.9058824  0.9294118 ]\n",
            "  ...\n",
            "  [0.87843144 0.9058824  0.9294118 ]\n",
            "  [0.8745099  0.90196085 0.92549026]\n",
            "  [0.8745099  0.90196085 0.92549026]]\n",
            "\n",
            " [[0.8745099  0.90196085 0.92549026]\n",
            "  [0.87843144 0.9058824  0.9294118 ]\n",
            "  [0.87843144 0.9058824  0.9294118 ]\n",
            "  ...\n",
            "  [0.87843144 0.9058824  0.9294118 ]\n",
            "  [0.8745099  0.90196085 0.92549026]\n",
            "  [0.8745099  0.90196085 0.92549026]]\n",
            "\n",
            " [[0.87843144 0.9058824  0.9294118 ]\n",
            "  [0.87843144 0.9058824  0.9294118 ]\n",
            "  [0.882353   0.909804   0.9333334 ]\n",
            "  ...\n",
            "  [0.882353   0.909804   0.9333334 ]\n",
            "  [0.87843144 0.9058824  0.9294118 ]\n",
            "  [0.8745099  0.90196085 0.92549026]]\n",
            "\n",
            " ...\n",
            "\n",
            " [[0.23137257 0.18039216 0.14509805]\n",
            "  [0.3019608  0.2509804  0.21960786]\n",
            "  [0.40784317 0.35686275 0.3254902 ]\n",
            "  ...\n",
            "  [0.90196085 0.8980393  0.9215687 ]\n",
            "  [0.9058824  0.90196085 0.92549026]\n",
            "  [0.9058824  0.90196085 0.92549026]]\n",
            "\n",
            " [[0.23137257 0.18431373 0.18431373]\n",
            "  [0.45098042 0.4039216  0.4039216 ]\n",
            "  [0.54901963 0.5019608  0.5019608 ]\n",
            "  ...\n",
            "  [0.8862746  0.89019614 0.909804  ]\n",
            "  [0.86274517 0.86666673 0.8862746 ]\n",
            "  [0.8470589  0.85098046 0.8705883 ]]\n",
            "\n",
            " [[0.27058825 0.22352943 0.22352943]\n",
            "  [0.4901961  0.4431373  0.4431373 ]\n",
            "  [0.5921569  0.54509807 0.54509807]\n",
            "  ...\n",
            "  [0.8862746  0.89019614 0.909804  ]\n",
            "  [0.8588236  0.86274517 0.882353  ]\n",
            "  [0.8470589  0.85098046 0.8705883 ]]]\n",
            "[1. 0. 0. 0.]\n"
          ],
          "name": "stdout"
        }
      ]
    },
    {
      "cell_type": "code",
      "metadata": {
        "colab": {
          "base_uri": "https://localhost:8080/"
        },
        "id": "cFZpSLAja_D0",
        "outputId": "b6dbdf3e-34a1-493a-df7e-00fa33508147"
      },
      "source": [
        "train_images, train_labels = next(train_generator)\n",
        "test_images, test_labels = next(validation_generator)\n",
        "test_labels"
      ],
      "execution_count": null,
      "outputs": [
        {
          "output_type": "execute_result",
          "data": {
            "text/plain": [
              "array([[1., 0., 0., 0.],\n",
              "       [0., 0., 0., 1.],\n",
              "       [1., 0., 0., 0.],\n",
              "       [0., 0., 1., 0.],\n",
              "       [0., 0., 1., 0.],\n",
              "       [1., 0., 0., 0.],\n",
              "       [0., 0., 0., 1.],\n",
              "       [0., 0., 0., 1.],\n",
              "       [1., 0., 0., 0.],\n",
              "       [0., 0., 0., 1.],\n",
              "       [0., 0., 0., 1.],\n",
              "       [1., 0., 0., 0.],\n",
              "       [0., 1., 0., 0.],\n",
              "       [0., 0., 0., 1.],\n",
              "       [0., 1., 0., 0.],\n",
              "       [0., 0., 0., 1.],\n",
              "       [1., 0., 0., 0.],\n",
              "       [0., 0., 1., 0.],\n",
              "       [0., 0., 0., 1.],\n",
              "       [0., 1., 0., 0.],\n",
              "       [0., 0., 1., 0.],\n",
              "       [0., 0., 1., 0.],\n",
              "       [1., 0., 0., 0.],\n",
              "       [1., 0., 0., 0.],\n",
              "       [0., 0., 0., 1.],\n",
              "       [0., 0., 0., 1.],\n",
              "       [1., 0., 0., 0.],\n",
              "       [1., 0., 0., 0.],\n",
              "       [0., 0., 0., 1.],\n",
              "       [1., 0., 0., 0.],\n",
              "       [0., 0., 0., 1.],\n",
              "       [0., 0., 1., 0.]], dtype=float32)"
            ]
          },
          "metadata": {
            "tags": []
          },
          "execution_count": 21
        }
      ]
    },
    {
      "cell_type": "markdown",
      "metadata": {
        "id": "1xlLPeZt_0j4"
      },
      "source": [
        "# CNN 분류 모델 생성"
      ]
    },
    {
      "cell_type": "code",
      "metadata": {
        "colab": {
          "base_uri": "https://localhost:8080/"
        },
        "id": "pwjTHO_FANys",
        "outputId": "ffa88f15-9e35-4a6d-ce16-08ef1a098385"
      },
      "source": [
        "from tensorflow.keras.models import Sequential\n",
        "from tensorflow.keras.layers import Conv2D, MaxPooling2D, Flatten, Dense, Dropout\n",
        "from tensorflow.keras.callbacks import EarlyStopping, ModelCheckpoint\n",
        "\n",
        "model = Sequential([\n",
        "    Conv2D(64, (3, 3), activation='relu', input_shape=(224, 224, 3)),\n",
        "    MaxPooling2D(2, 2),\n",
        "    Conv2D(64, (3, 3), activation='relu'),\n",
        "    MaxPooling2D(pool_size=(2, 2)),\n",
        "\n",
        "    Conv2D(filters=128, kernel_size=3, activation='relu'),\n",
        "    MaxPooling2D(2, 2),\n",
        "    Conv2D(filters=128, kernel_size=3, activation='relu'),\n",
        "    MaxPooling2D(2, 2),\n",
        "\n",
        "    Flatten(),\n",
        "\n",
        "    Dense(512, activation='relu'),\n",
        "    Dense(4, activation='softmax')\n",
        "])\n",
        "\n",
        "model.summary()"
      ],
      "execution_count": null,
      "outputs": [
        {
          "output_type": "stream",
          "text": [
            "Model: \"sequential\"\n",
            "_________________________________________________________________\n",
            "Layer (type)                 Output Shape              Param #   \n",
            "=================================================================\n",
            "conv2d (Conv2D)              (None, 222, 222, 64)      1792      \n",
            "_________________________________________________________________\n",
            "max_pooling2d (MaxPooling2D) (None, 111, 111, 64)      0         \n",
            "_________________________________________________________________\n",
            "conv2d_1 (Conv2D)            (None, 109, 109, 64)      36928     \n",
            "_________________________________________________________________\n",
            "max_pooling2d_1 (MaxPooling2 (None, 54, 54, 64)        0         \n",
            "_________________________________________________________________\n",
            "conv2d_2 (Conv2D)            (None, 52, 52, 128)       73856     \n",
            "_________________________________________________________________\n",
            "max_pooling2d_2 (MaxPooling2 (None, 26, 26, 128)       0         \n",
            "_________________________________________________________________\n",
            "conv2d_3 (Conv2D)            (None, 24, 24, 128)       147584    \n",
            "_________________________________________________________________\n",
            "max_pooling2d_3 (MaxPooling2 (None, 12, 12, 128)       0         \n",
            "_________________________________________________________________\n",
            "flatten (Flatten)            (None, 18432)             0         \n",
            "_________________________________________________________________\n",
            "dense (Dense)                (None, 512)               9437696   \n",
            "_________________________________________________________________\n",
            "dense_1 (Dense)              (None, 4)                 2052      \n",
            "=================================================================\n",
            "Total params: 9,699,908\n",
            "Trainable params: 9,699,908\n",
            "Non-trainable params: 0\n",
            "_________________________________________________________________\n"
          ],
          "name": "stdout"
        }
      ]
    },
    {
      "cell_type": "code",
      "metadata": {
        "id": "NSc3KZDyBNuA"
      },
      "source": [
        "model.compile(\n",
        "    optimizer='adam',\n",
        "    loss='categorical_crossentropy',\n",
        "    metrics=['acc']\n",
        ")"
      ],
      "execution_count": null,
      "outputs": []
    },
    {
      "cell_type": "code",
      "metadata": {
        "id": "5eS_VY0I8kCx"
      },
      "source": [
        "es = EarlyStopping(monitor='val_loss', mode='min', verbose=1, patience=4)\n",
        "mc = ModelCheckpoint(\"best_model.h5\", monitor='val_acc', mode='max', verbose=1, save_best_only=True)"
      ],
      "execution_count": null,
      "outputs": []
    },
    {
      "cell_type": "code",
      "metadata": {
        "colab": {
          "base_uri": "https://localhost:8080/"
        },
        "id": "RsnalnfCBkNB",
        "outputId": "bdab9144-f66a-4dc6-a30c-f0518ce00c1b"
      },
      "source": [
        "training = model.fit(\n",
        "                train_generator,\n",
        "                epochs=num_epochs,\n",
        "                validation_data=validation_generator,\n",
        "                shuffle=True,\n",
        "                callbacks=[es, mc]\n",
        ")"
      ],
      "execution_count": null,
      "outputs": [
        {
          "output_type": "stream",
          "text": [
            "Epoch 1/30\n",
            "23/73 [========>.....................] - ETA: 12:36 - loss: 1.5420 - acc: 0.3057"
          ],
          "name": "stdout"
        },
        {
          "output_type": "stream",
          "text": [
            "/usr/local/lib/python3.7/dist-packages/PIL/Image.py:960: UserWarning: Palette images with Transparency expressed in bytes should be converted to RGBA images\n",
            "  \"Palette images with Transparency expressed in bytes should be \"\n"
          ],
          "name": "stderr"
        },
        {
          "output_type": "stream",
          "text": [
            "73/73 [==============================] - 1439s 19s/step - loss: 1.4248 - acc: 0.3185 - val_loss: 1.3695 - val_acc: 0.3135\n",
            "\n",
            "Epoch 00001: val_acc improved from -inf to 0.31349, saving model to best_model.h5\n",
            "Epoch 2/30\n",
            "73/73 [==============================] - 20s 278ms/step - loss: 1.3515 - acc: 0.3685 - val_loss: 1.3597 - val_acc: 0.3631\n",
            "\n",
            "Epoch 00002: val_acc improved from 0.31349 to 0.36310, saving model to best_model.h5\n",
            "Epoch 3/30\n",
            "73/73 [==============================] - 20s 280ms/step - loss: 1.3053 - acc: 0.3888 - val_loss: 1.2662 - val_acc: 0.4266\n",
            "\n",
            "Epoch 00003: val_acc improved from 0.36310 to 0.42659, saving model to best_model.h5\n",
            "Epoch 4/30\n",
            "73/73 [==============================] - 21s 281ms/step - loss: 1.2441 - acc: 0.4315 - val_loss: 1.2738 - val_acc: 0.4206\n",
            "\n",
            "Epoch 00004: val_acc did not improve from 0.42659\n",
            "Epoch 5/30\n",
            "73/73 [==============================] - 20s 279ms/step - loss: 1.1629 - acc: 0.4901 - val_loss: 1.2375 - val_acc: 0.4563\n",
            "\n",
            "Epoch 00005: val_acc improved from 0.42659 to 0.45635, saving model to best_model.h5\n",
            "Epoch 6/30\n",
            "73/73 [==============================] - 20s 280ms/step - loss: 1.0578 - acc: 0.5466 - val_loss: 1.2617 - val_acc: 0.4444\n",
            "\n",
            "Epoch 00006: val_acc did not improve from 0.45635\n",
            "Epoch 7/30\n",
            "73/73 [==============================] - 20s 278ms/step - loss: 0.8770 - acc: 0.6379 - val_loss: 1.3704 - val_acc: 0.4623\n",
            "\n",
            "Epoch 00007: val_acc improved from 0.45635 to 0.46230, saving model to best_model.h5\n",
            "Epoch 8/30\n",
            "73/73 [==============================] - 20s 280ms/step - loss: 0.6821 - acc: 0.7241 - val_loss: 1.5583 - val_acc: 0.4385\n",
            "\n",
            "Epoch 00008: val_acc did not improve from 0.46230\n",
            "Epoch 9/30\n",
            "73/73 [==============================] - 20s 280ms/step - loss: 0.4629 - acc: 0.8259 - val_loss: 1.7748 - val_acc: 0.4524\n",
            "\n",
            "Epoch 00009: val_acc did not improve from 0.46230\n",
            "Epoch 00009: early stopping\n"
          ],
          "name": "stdout"
        }
      ]
    },
    {
      "cell_type": "markdown",
      "metadata": {
        "id": "d4LWHj18C3rJ"
      },
      "source": [
        "## 평가"
      ]
    },
    {
      "cell_type": "code",
      "metadata": {
        "colab": {
          "base_uri": "https://localhost:8080/"
        },
        "id": "y5Y-YLCRC3rK",
        "outputId": "39c36dd6-2709-46f6-86cf-4388b6dda270"
      },
      "source": [
        "loss, acc = model.evaluate_generator(validation_generator)\n",
        "\n",
        "print(\"\\nLoss: {:.3f}, Acc: {:.3f}\".format(loss, acc))"
      ],
      "execution_count": null,
      "outputs": [
        {
          "output_type": "stream",
          "text": [
            "/usr/local/lib/python3.7/dist-packages/tensorflow/python/keras/engine/training.py:1973: UserWarning: `Model.evaluate_generator` is deprecated and will be removed in a future version. Please use `Model.evaluate`, which supports generators.\n",
            "  warnings.warn('`Model.evaluate_generator` is deprecated and '\n"
          ],
          "name": "stderr"
        },
        {
          "output_type": "stream",
          "text": [
            "\n",
            "Loss: 2.946, Acc: 0.444\n"
          ],
          "name": "stdout"
        }
      ]
    },
    {
      "cell_type": "markdown",
      "metadata": {
        "id": "Pt5qfPKNC3rL"
      },
      "source": [
        "### 모델의 훈련 과정 시각화"
      ]
    },
    {
      "cell_type": "code",
      "metadata": {
        "id": "fLNzZLu7C3rL"
      },
      "source": [
        "def plt_show_loss(data):\n",
        "    plt.plot(data.history['loss'])\n",
        "    plt.plot(data.history['val_loss'])\n",
        "    plt.title('Model Loss')\n",
        "    plt.ylabel('Loss')\n",
        "    plt.xlabel('Epoch')\n",
        "    plt.legend(['Train', 'Test'], loc=0)\n",
        "\n",
        "def plt_show_acc(data):\n",
        "    plt.plot(data.history['acc'])\n",
        "    plt.plot(data.history['val_acc'])\n",
        "    plt.title('Model Accuracy')\n",
        "    plt.ylabel('Accuracy')\n",
        "    plt.xlabel('Epoch')\n",
        "    plt.legend(['Train', 'Test'], loc=0)"
      ],
      "execution_count": null,
      "outputs": []
    },
    {
      "cell_type": "code",
      "metadata": {
        "colab": {
          "base_uri": "https://localhost:8080/",
          "height": 573
        },
        "id": "HkESpX22C3rL",
        "outputId": "2b6dfbfd-abce-4c2a-dd43-031938f138f3"
      },
      "source": [
        "plt_show_loss(training)\n",
        "plt.show()\n",
        "\n",
        "plt_show_acc(training)\n",
        "plt.show()"
      ],
      "execution_count": null,
      "outputs": [
        {
          "output_type": "display_data",
          "data": {
            "image/png": "[encoded data removed]",
            "text/plain": [
              "<Figure size 432x288 with 1 Axes>"
            ]
          },
          "metadata": {
            "tags": []
          }
        },
        {
          "output_type": "display_data",
          "data": {
            "image/png": "[encoded data removed]",
            "text/plain": [
              "<Figure size 432x288 with 1 Axes>"
            ]
          },
          "metadata": {
            "tags": []
          }
        }
      ]
    },
    {
      "cell_type": "markdown",
      "metadata": {
        "id": "Yr1uYOujC3rY"
      },
      "source": [
        "시각화를 통해 현재 모델은 **과대적합** 상태라는 것을 알 수 있다  \n",
        "\n",
        "**원인** : 아직 이미지가 face_crop 단계를 거치기 전이기 때문"
      ]
    },
    {
      "cell_type": "markdown",
      "metadata": {
        "id": "UVUcS6WCC3rZ"
      },
      "source": [
        "## 예측"
      ]
    },
    {
      "cell_type": "code",
      "metadata": {
        "id": "vVXCxWTHC3rZ"
      },
      "source": [
        "predictions = model.predict(validation_generator)"
      ],
      "execution_count": null,
      "outputs": []
    },
    {
      "cell_type": "code",
      "metadata": {
        "colab": {
          "base_uri": "https://localhost:8080/",
          "height": 261
        },
        "id": "ZhlEztB0C3rZ",
        "outputId": "f9bc1fbd-65ff-4adc-c78e-dd35cb6a82b0"
      },
      "source": [
        "def plot_image(i, predictions_array, true_label, img):\n",
        "    predictions_array, true_label, img = predictions_array[i], true_label[i], img[i]\n",
        "    plt.grid(False)\n",
        "    plt.xticks([])\n",
        "    plt.yticks([])\n",
        "\n",
        "    plt.imshow(img, cmap=plt.cm.binary)\n",
        "\n",
        "    predicted_label = np.argmax(predictions_array)\n",
        "    if predicted_label == np.argmax(true_label):\n",
        "        color = 'blue'\n",
        "    else:\n",
        "        color = 'red'\n",
        "\n",
        "    plt.xlabel(\"{} {:2.0f}% ({})\".format(class_names[predicted_label],\n",
        "                                         100*np.max(predictions_array),\n",
        "                                         class_names[np.argmax(true_label)]),\n",
        "                                         color=color)\n",
        "\n",
        "def plot_value_array(i, predictions_array, true_label):\n",
        "    predictions_array, true_label = predictions_array[i], true_label[i]\n",
        "    plt.grid(False)\n",
        "    plt.xticks([])\n",
        "    plt.yticks([])\n",
        "    thisplot = plt.bar(range(4), predictions_array, color='#777777')\n",
        "    plt.ylim([0, 1])\n",
        "    predicted_label = np.argmax(predictions_array)\n",
        "    validated_label = np.argmax(true_label)\n",
        "\n",
        "    thisplot[predicted_label].set_color('red')\n",
        "    thisplot[validated_label].set_color('blue')\n",
        "\n",
        "num_rows = 2\n",
        "num_cols = 2\n",
        "num_images = num_rows * num_cols\n",
        "plt.figure(figsize=(2*2*num_cols, 2*num_rows))\n",
        "\n",
        "for i in range(num_images):\n",
        "    plt.subplot(num_rows, 2*num_cols, 2*i+1)\n",
        "    plot_image(i, predictions, test_labels, test_images)\n",
        "    plt.subplot(num_rows, 2*num_cols, 2*i+2)\n",
        "    plot_value_array(i, predictions, test_labels)\n",
        "\n",
        "plt.show()"
      ],
      "execution_count": null,
      "outputs": [
        {
          "output_type": "display_data",
          "data": {
            "image/png": "[encoded data removed]",
            "text/plain": [
              "<Figure size 576x288 with 8 Axes>"
            ]
          },
          "metadata": {
            "tags": []
          }
        }
      ]
    },
    {
      "cell_type": "markdown",
      "metadata": {
        "id": "SCc67Re7j-4v"
      },
      "source": [
        "----\n",
        "결과값이 좋지 않으므로, face_crop 등 **데이터 보강** 이 필요하다"
      ]
    },
    {
      "cell_type": "markdown",
      "metadata": {
        "id": "n_QcmAQokIBY"
      },
      "source": [
        "# 데이터 보강"
      ]
    },
    {
      "cell_type": "markdown",
      "metadata": {
        "id": "g1tO9p0nk1MW"
      },
      "source": [
        "## 1) ImageDataGenerator 활용\n",
        "\n",
        "위에서 이미지 정규화의 효과만 줬던 `ImageDataGenerator`를 더 다양한 방식으로 활용해보기\n",
        "\n",
        "1. `horizontal_flip=True` : 수평으로 회전\n",
        "2. `rotation_range=45` : 랜덤하게 회전\n",
        "3. `zoom_range=0.5` : 랜덤하게 확대하는 증강법  \n",
        "\n",
        "일반적으로 데이터에 변형을 주는 방식은 **훈련 데이터에 대해서만** 진행한다  \n",
        "따라서 `test_datagen` 은 원래대로 `정규화`만 진행"
      ]
    },
    {
      "cell_type": "code",
      "metadata": {
        "id": "yK7GKWoIkJao"
      },
      "source": [
        "train_datagen = ImageDataGenerator(rescale=1./255, \n",
        "                                   horizontal_flip=True,\n",
        "                                   rotation_range=45,\n",
        "                                   zoom_range=0.5)\n",
        "test_datagen = ImageDataGenerator(rescale=1./255)"
      ],
      "execution_count": null,
      "outputs": []
    },
    {
      "cell_type": "markdown",
      "metadata": {
        "id": "7ZoqUE5prbQ_"
      },
      "source": [
        "## 2) cv2 활용하여 얼굴만 잘라내기\n"
      ]
    },
    {
      "cell_type": "markdown",
      "metadata": {
        "id": "I77ya-niBTB3"
      },
      "source": [
        "1차 - `train data`에 대한 `face crop` 진행"
      ]
    },
    {
      "cell_type": "code",
      "metadata": {
        "id": "kdWJRQUEzz5D"
      },
      "source": [
        "# openCV를 import하고 CascadeClassifier 불러오기\n",
        "import numpy as np\n",
        "import cv2\n",
        "import glob\n",
        "from tqdm.notebook import tqdm\n",
        "\n",
        "face_cascade = cv2.CascadeClassifier('/content/drive/MyDrive/실습_도현,원식,현균/dataset/haarcascade_frontalface_default.xml')\n",
        "eye_cascade = cv2.CascadeClassifier('/content/drive/MyDrive/실습_도현,원식,현균/dataset/haarcascade_eye.xml')"
      ],
      "execution_count": null,
      "outputs": []
    },
    {
      "cell_type": "code",
      "metadata": {
        "id": "qwq53Bm90OAj"
      },
      "source": [
        "for i in range(0, 4):\n",
        "    train_path = glob.glob(\"/content/drive/MyDrive/실습_도현,원식,현균/dataset/training/{}/*.jpg\".format(i))\n",
        "    cv_img = []\n",
        "\n",
        "    count_1 = 0\n",
        "    for train_imgs in tqdm(train_path):\n",
        "        try:\n",
        "            img_array = np.fromfile(train_imgs, np.uint8)\n",
        "            train_img = cv2.imdecode(img_array, cv2.IMREAD_COLOR)\n",
        "            # train_img = cv2.imread(train_imgs)\n",
        "            gray = cv2.cvtColor(train_img, cv2.COLOR_BGR2GRAY)\n",
        "            faces = face_cascade.detectMultiScale(gray, 1.3, 5)\n",
        "        except Exception as e:    # 모든 예외의 에러 메시지를 출력할 때는 Exception을 사용\n",
        "            count_1 += 0\n",
        "            print('1_예외 발생', e)\n",
        "        \n",
        "        count_2 = 0\n",
        "        for (x, y, w, h) in faces:\n",
        "            try:\n",
        "                cropped = train_img[y - int(h/4):y + h + int(h/4), x - int(w/4):x + w + int(w/4)]\n",
        "                cv_img.append(cropped)\n",
        "                roi_gray = gray[y:y+h, x:x+w]\n",
        "                roi_color = train_img[y:y+h, x:x+w]\n",
        "                eyes = eye_cascade.detectMultiScale(roi_gray)\n",
        "            except Exception as e:\n",
        "                count_2 += 1\n",
        "                print('2_예외 발생', e)\n",
        "                cv_img.append(cropped)\n",
        "\n",
        "    count_3 = 0\n",
        "    for idx in tqdm(range(len(cv_img))):\n",
        "        # other things you need to do snipped\n",
        "        try:\n",
        "            cv2.imwrite(f'./{i}/cropped_{idx}.jpg', cv_img[idx])\n",
        "        except Exception as e:  \n",
        "            count_3 += 1  \n",
        "            print('3_예외 발생.', e)\n",
        "\n",
        "print(count_1, count_2, count_3)"
      ],
      "execution_count": null,
      "outputs": []
    },
    {
      "cell_type": "code",
      "metadata": {
        "id": "yLehuAeNdUmD"
      },
      "source": [
        "!zip -r \"/content/img_3_elder.zip\" \"/content/3\"\n",
        "\n",
        "from google.colab import files\n",
        "files.download(\"img_3_elder.zip\")"
      ],
      "execution_count": null,
      "outputs": []
    },
    {
      "cell_type": "markdown",
      "metadata": {
        "id": "RSEsxrRnBhW7"
      },
      "source": [
        "2차 - `test data`에 대한 `face crop` 진행"
      ]
    },
    {
      "cell_type": "code",
      "metadata": {
        "id": "hW7zqJV-feyt"
      },
      "source": [
        "for i in range(0, 4):\n",
        "    test_path = glob.glob(\"/content/drive/MyDrive/실습_도현,원식,현균/dataset/validation/{}/*.jpg\".format(i))\n",
        "    cv_img = []\n",
        "\n",
        "    count_1 = 0\n",
        "    for test_imgs in tqdm(test_path):\n",
        "        try:\n",
        "            img_array = np.fromfile(test_imgs, np.uint8)\n",
        "            test_img = cv2.imdecode(img_array, cv2.IMREAD_COLOR)\n",
        "            # test_img = cv2.imread(test_imgs)\n",
        "            gray = cv2.cvtColor(test_img, cv2.COLOR_BGR2GRAY)\n",
        "            faces = face_cascade.detectMultiScale(gray, 1.3, 5)\n",
        "        except Exception as e:    # 모든 예외의 에러 메시지를 출력할 때는 Exception을 사용\n",
        "            count_1 += 0\n",
        "            print('1_예외 발생', e)\n",
        "        \n",
        "        count_2 = 0\n",
        "        for (x, y, w, h) in faces:\n",
        "            try:\n",
        "                cropped = test_img[y - int(h/4):y + h + int(h/4), x - int(w/4):x + w + int(w/4)]\n",
        "                cv_img.append(cropped)\n",
        "                roi_gray = gray[y:y+h, x:x+w]\n",
        "                roi_color = test_img[y:y+h, x:x+w]\n",
        "                eyes = eye_cascade.detectMultiScale(roi_gray)\n",
        "            except Exception as e:\n",
        "                count_2 += 1\n",
        "                print('2_예외 발생', e)\n",
        "                cv_img.append(cropped)\n",
        "\n",
        "    count_3 = 0\n",
        "    for idx in tqdm(range(len(cv_img))):\n",
        "        # other things you need to do snipped\n",
        "        try:\n",
        "            cv2.imwrite(f'./{i}_test/cropped_{idx}.jpg', cv_img[idx])\n",
        "        except Exception as e:  \n",
        "            count_3 += 1  \n",
        "            print('3_예외 발생.', e)\n",
        "\n",
        "print(count_1, count_2, count_3)"
      ],
      "execution_count": null,
      "outputs": []
    },
    {
      "cell_type": "code",
      "metadata": {
        "id": "8RzbdeZnfgNB"
      },
      "source": [
        "!zip -r \"/content/test_img_0.zip\" \"/content/0_test\"\n",
        "\n",
        "from google.colab import files\n",
        "files.download(\"test_img_0.zip\")"
      ],
      "execution_count": null,
      "outputs": []
    },
    {
      "cell_type": "code",
      "metadata": {
        "id": "jDqZXa2xSrFx"
      },
      "source": [
        "cv_img[0].shape"
      ],
      "execution_count": null,
      "outputs": []
    },
    {
      "cell_type": "code",
      "metadata": {
        "id": "H8G-3MNdELRd"
      },
      "source": [
        "# img_tmp = cropped[0]\n",
        "# plt.imshow(cropped[..., 0], 'Brgb')\n",
        "# plt.show()\n",
        "\n",
        "from google.colab.patches import cv2_imshow\n",
        "cv2_imshow(cv_img[180])"
      ],
      "execution_count": null,
      "outputs": []
    },
    {
      "cell_type": "markdown",
      "metadata": {
        "id": "Vg9F83rN-lp_"
      },
      "source": [
        "처리 완료하여 저장한 데이터를 다시 불러오기"
      ]
    },
    {
      "cell_type": "code",
      "metadata": {
        "id": "bZmTgHffbWvT"
      },
      "source": [
        "train_cropped_dir = '/content/drive/MyDrive/실습_도현,원식,현균/dataset/training_cropped'\n",
        "test_cropped_dir = '/content/drive/MyDrive/실습_도현,원식,현균/dataset/validation_cropped'"
      ],
      "execution_count": null,
      "outputs": []
    },
    {
      "cell_type": "code",
      "metadata": {
        "colab": {
          "base_uri": "https://localhost:8080/"
        },
        "id": "Z4hoxSs9beBS",
        "outputId": "322e1373-3c41-4918-8da9-9574f4214fcb"
      },
      "source": [
        "train_generator = train_datagen.flow_from_directory(\n",
        "    train_cropped_dir,\n",
        "    target_size=(224, 224),\n",
        "    batch_size=batch_size,\n",
        "    color_mode='rgb'\n",
        ")\n",
        "\n",
        "validation_generator = test_datagen.flow_from_directory(\n",
        "    test_cropped_dir,\n",
        "    target_size=(224, 224),\n",
        "    batch_size=batch_size,\n",
        "    color_mode='rgb'\n",
        ")"
      ],
      "execution_count": null,
      "outputs": [
        {
          "output_type": "stream",
          "text": [
            "Found 865 images belonging to 4 classes.\n",
            "Found 173 images belonging to 4 classes.\n"
          ],
          "name": "stdout"
        }
      ]
    },
    {
      "cell_type": "code",
      "metadata": {
        "id": "N3_lhMRs331t"
      },
      "source": [
        "train_images, train_labels = next(train_generator)\n",
        "test_images, test_labels = next(validation_generator)"
      ],
      "execution_count": null,
      "outputs": []
    },
    {
      "cell_type": "markdown",
      "metadata": {
        "id": "_VqcCjpDqpGr"
      },
      "source": [
        "## 3) CNN 모델에 Dropout 레이어와 'padding' 추가\n",
        "\n",
        "- 드롭아웃(dropout):   \n",
        "\n",
        "    신경망에서 가장 효과적이고 널리 사용하는 규제 기법 중 하나  \n",
        "    드롭아웃을 층에 적용하면 훈련하는 동안 층의 출력 특성을 랜덤하게 끈다"
      ]
    },
    {
      "cell_type": "code",
      "metadata": {
        "colab": {
          "base_uri": "https://localhost:8080/"
        },
        "id": "QVDzV49mqDhv",
        "outputId": "c8df3b54-af4e-4c87-9e5e-832352d766b6"
      },
      "source": [
        "from tensorflow.keras.models import Sequential\n",
        "from tensorflow.keras.layers import Conv2D, MaxPooling2D, Flatten, Dense, Dropout\n",
        "from tensorflow.keras.callbacks import EarlyStopping, ModelCheckpoint\n",
        "\n",
        "model = Sequential([\n",
        "    Conv2D(64, (3, 3), activation='relu', padding='SAME', input_shape=(224, 224, 3)),\n",
        "    MaxPooling2D(2, 2),\n",
        "    Conv2D(64, (3, 3), activation='relu', padding='SAME'),\n",
        "    MaxPooling2D(pool_size=(2, 2)),\n",
        "    Dropout(0.2),\n",
        "\n",
        "    Conv2D(filters=128, kernel_size=3, activation='relu', padding='SAME'),\n",
        "    MaxPooling2D(2, 2),\n",
        "    Conv2D(filters=128, kernel_size=3, activation='relu', padding='SAME'),\n",
        "    MaxPooling2D(2, 2),\n",
        "    Dropout(0.2),\n",
        "\n",
        "    Flatten(),\n",
        "\n",
        "    Dense(512, activation='relu'),\n",
        "    Dense(4, activation='softmax')\n",
        "])\n",
        "\n",
        "model.summary()"
      ],
      "execution_count": null,
      "outputs": [
        {
          "output_type": "stream",
          "text": [
            "Model: \"sequential\"\n",
            "_________________________________________________________________\n",
            "Layer (type)                 Output Shape              Param #   \n",
            "=================================================================\n",
            "conv2d (Conv2D)              (None, 224, 224, 64)      1792      \n",
            "_________________________________________________________________\n",
            "max_pooling2d (MaxPooling2D) (None, 112, 112, 64)      0         \n",
            "_________________________________________________________________\n",
            "conv2d_1 (Conv2D)            (None, 112, 112, 64)      36928     \n",
            "_________________________________________________________________\n",
            "max_pooling2d_1 (MaxPooling2 (None, 56, 56, 64)        0         \n",
            "_________________________________________________________________\n",
            "dropout (Dropout)            (None, 56, 56, 64)        0         \n",
            "_________________________________________________________________\n",
            "conv2d_2 (Conv2D)            (None, 56, 56, 128)       73856     \n",
            "_________________________________________________________________\n",
            "max_pooling2d_2 (MaxPooling2 (None, 28, 28, 128)       0         \n",
            "_________________________________________________________________\n",
            "conv2d_3 (Conv2D)            (None, 28, 28, 128)       147584    \n",
            "_________________________________________________________________\n",
            "max_pooling2d_3 (MaxPooling2 (None, 14, 14, 128)       0         \n",
            "_________________________________________________________________\n",
            "dropout_1 (Dropout)          (None, 14, 14, 128)       0         \n",
            "_________________________________________________________________\n",
            "flatten (Flatten)            (None, 25088)             0         \n",
            "_________________________________________________________________\n",
            "dense (Dense)                (None, 512)               12845568  \n",
            "_________________________________________________________________\n",
            "dense_1 (Dense)              (None, 4)                 2052      \n",
            "=================================================================\n",
            "Total params: 13,107,780\n",
            "Trainable params: 13,107,780\n",
            "Non-trainable params: 0\n",
            "_________________________________________________________________\n"
          ],
          "name": "stdout"
        }
      ]
    },
    {
      "cell_type": "code",
      "metadata": {
        "id": "SM9mRDWurC-f"
      },
      "source": [
        "model.compile(\n",
        "    optimizer='adam',\n",
        "    loss='categorical_crossentropy',\n",
        "    metrics=['acc']\n",
        ")"
      ],
      "execution_count": null,
      "outputs": []
    },
    {
      "cell_type": "code",
      "metadata": {
        "id": "DbSQWbgzrC-h"
      },
      "source": [
        "es = EarlyStopping(monitor='val_loss', mode='min', verbose=1, patience=4)\n",
        "mc = ModelCheckpoint(\"best_model.h5\", monitor='val_acc', mode='max', verbose=1, save_best_only=True)"
      ],
      "execution_count": null,
      "outputs": []
    },
    {
      "cell_type": "code",
      "metadata": {
        "colab": {
          "base_uri": "https://localhost:8080/"
        },
        "id": "IcNiUIJtrC-i",
        "outputId": "fa1dbfdd-d2dc-411b-fd36-6b07a5bfa479"
      },
      "source": [
        "training = model.fit(\n",
        "                train_generator,\n",
        "                epochs=num_epochs,\n",
        "                validation_data=validation_generator,\n",
        "                shuffle=True,\n",
        "                callbacks=[es, mc]\n",
        ")"
      ],
      "execution_count": null,
      "outputs": [
        {
          "output_type": "stream",
          "text": [
            "Epoch 1/30\n",
            "28/28 [==============================] - 327s 11s/step - loss: 1.5373 - acc: 0.2832 - val_loss: 1.3860 - val_acc: 0.2428\n",
            "\n",
            "Epoch 00001: val_acc improved from -inf to 0.24277, saving model to best_model.h5\n",
            "Epoch 2/30\n",
            "28/28 [==============================] - 12s 434ms/step - loss: 1.3841 - acc: 0.3191 - val_loss: 1.3851 - val_acc: 0.2428\n",
            "\n",
            "Epoch 00002: val_acc did not improve from 0.24277\n",
            "Epoch 3/30\n",
            "28/28 [==============================] - 12s 426ms/step - loss: 1.3770 - acc: 0.3191 - val_loss: 1.3817 - val_acc: 0.2428\n",
            "\n",
            "Epoch 00003: val_acc did not improve from 0.24277\n",
            "Epoch 4/30\n",
            "28/28 [==============================] - 12s 426ms/step - loss: 1.3763 - acc: 0.3191 - val_loss: 1.3538 - val_acc: 0.2428\n",
            "\n",
            "Epoch 00004: val_acc did not improve from 0.24277\n",
            "Epoch 5/30\n",
            "28/28 [==============================] - 12s 443ms/step - loss: 1.3741 - acc: 0.3191 - val_loss: 1.3653 - val_acc: 0.2428\n",
            "\n",
            "Epoch 00005: val_acc did not improve from 0.24277\n",
            "Epoch 6/30\n",
            "28/28 [==============================] - 13s 461ms/step - loss: 1.3728 - acc: 0.3191 - val_loss: 1.3797 - val_acc: 0.2428\n",
            "\n",
            "Epoch 00006: val_acc did not improve from 0.24277\n",
            "Epoch 7/30\n",
            "28/28 [==============================] - 13s 473ms/step - loss: 1.3732 - acc: 0.3191 - val_loss: 1.3759 - val_acc: 0.2428\n",
            "\n",
            "Epoch 00007: val_acc did not improve from 0.24277\n",
            "Epoch 8/30\n",
            "28/28 [==============================] - 12s 431ms/step - loss: 1.3727 - acc: 0.3191 - val_loss: 1.3741 - val_acc: 0.2428\n",
            "\n",
            "Epoch 00008: val_acc did not improve from 0.24277\n",
            "Epoch 00008: early stopping\n"
          ],
          "name": "stdout"
        }
      ]
    },
    {
      "cell_type": "markdown",
      "metadata": {
        "id": "KQd5-UevrC-i"
      },
      "source": [
        "## 2차 평가"
      ]
    },
    {
      "cell_type": "code",
      "metadata": {
        "colab": {
          "base_uri": "https://localhost:8080/"
        },
        "id": "lN25ScuZrC-j",
        "outputId": "f97ac2a3-b92c-466f-9508-ffd3918cec84"
      },
      "source": [
        "loss, acc = model.evaluate_generator(validation_generator)\n",
        "\n",
        "print(\"\\nLoss: {:.3f}, Acc: {:.3f}\".format(loss, acc))"
      ],
      "execution_count": null,
      "outputs": [
        {
          "output_type": "stream",
          "text": [
            "/usr/local/lib/python3.7/dist-packages/tensorflow/python/keras/engine/training.py:1973: UserWarning: `Model.evaluate_generator` is deprecated and will be removed in a future version. Please use `Model.evaluate`, which supports generators.\n",
            "  warnings.warn('`Model.evaluate_generator` is deprecated and '\n"
          ],
          "name": "stderr"
        },
        {
          "output_type": "stream",
          "text": [
            "\n",
            "Loss: 1.374, Acc: 0.243\n"
          ],
          "name": "stdout"
        }
      ]
    },
    {
      "cell_type": "markdown",
      "metadata": {
        "id": "MFxkIdXjuTz5"
      },
      "source": [
        "### 모델의 훈련 과정 시각화"
      ]
    },
    {
      "cell_type": "code",
      "metadata": {
        "id": "wAZuaxh7uTz5"
      },
      "source": [
        "def plt_show_loss(data):\n",
        "    plt.plot(data.history['loss'])\n",
        "    plt.plot(data.history['val_loss'])\n",
        "    plt.title('Model Loss')\n",
        "    plt.ylabel('Loss')\n",
        "    plt.xlabel('Epoch')\n",
        "    plt.legend(['Train', 'Test'], loc=0)\n",
        "\n",
        "def plt_show_acc(data):\n",
        "    plt.plot(data.history['acc'])\n",
        "    plt.plot(data.history['val_acc'])\n",
        "    plt.title('Model Accuracy')\n",
        "    plt.ylabel('Accuracy')\n",
        "    plt.xlabel('Epoch')\n",
        "    plt.legend(['Train', 'Test'], loc=0)"
      ],
      "execution_count": null,
      "outputs": []
    },
    {
      "cell_type": "code",
      "metadata": {
        "colab": {
          "base_uri": "https://localhost:8080/",
          "height": 573
        },
        "id": "61svFJVLuTz6",
        "outputId": "dd169672-b350-40d2-da36-12fc9eaeabc9"
      },
      "source": [
        "plt_show_loss(training)\n",
        "plt.show()\n",
        "\n",
        "plt_show_acc(training)\n",
        "plt.show()"
      ],
      "execution_count": null,
      "outputs": [
        {
          "output_type": "display_data",
          "data": {
            "image/png": "[encoded data removed]",
            "text/plain": [
              "<Figure size 432x288 with 1 Axes>"
            ]
          },
          "metadata": {
            "tags": []
          }
        },
        {
          "output_type": "display_data",
          "data": {
            "image/png": "[encoded data removed]",
            "text/plain": [
              "<Figure size 432x288 with 1 Axes>"
            ]
          },
          "metadata": {
            "tags": []
          }
        }
      ]
    },
    {
      "cell_type": "markdown",
      "metadata": {
        "id": "SuckpBkwuTz6"
      },
      "source": [
        "## 2차 예측"
      ]
    },
    {
      "cell_type": "code",
      "metadata": {
        "id": "YLTtE0E2uTz6"
      },
      "source": [
        "predictions = model.predict(validation_generator)"
      ],
      "execution_count": null,
      "outputs": []
    },
    {
      "cell_type": "code",
      "metadata": {
        "colab": {
          "base_uri": "https://localhost:8080/",
          "height": 261
        },
        "id": "CP3PIMckuTz6",
        "outputId": "e7ba45a1-288e-4270-b7e3-50241bbd92f5"
      },
      "source": [
        "def plot_image(i, predictions_array, true_label, img):\n",
        "    predictions_array, true_label, img = predictions_array[i], true_label[i], img[i]\n",
        "    plt.grid(False)\n",
        "    plt.xticks([])\n",
        "    plt.yticks([])\n",
        "\n",
        "    plt.imshow(img, cmap=plt.cm.binary)\n",
        "\n",
        "    predicted_label = np.argmax(predictions_array)\n",
        "    if predicted_label == np.argmax(true_label):\n",
        "        color = 'blue'\n",
        "    else:\n",
        "        color = 'red'\n",
        "\n",
        "    plt.xlabel(\"{} {:2.0f}% ({})\".format(class_names[predicted_label],\n",
        "                                         100*np.max(predictions_array),\n",
        "                                         class_names[np.argmax(true_label)]),\n",
        "                                         color=color)\n",
        "\n",
        "def plot_value_array(i, predictions_array, true_label):\n",
        "    predictions_array, true_label = predictions_array[i], true_label[i]\n",
        "    plt.grid(False)\n",
        "    plt.xticks([])\n",
        "    plt.yticks([])\n",
        "    thisplot = plt.bar(range(4), predictions_array, color='#777777')\n",
        "    plt.ylim([0, 1])\n",
        "    predicted_label = np.argmax(predictions_array)\n",
        "    validated_label = np.argmax(true_label)\n",
        "\n",
        "    thisplot[predicted_label].set_color('red')\n",
        "    thisplot[validated_label].set_color('blue')\n",
        "\n",
        "num_rows = 2\n",
        "num_cols = 2\n",
        "num_images = num_rows * num_cols\n",
        "plt.figure(figsize=(2*2*num_cols, 2*num_rows))\n",
        "\n",
        "for i in range(num_images):\n",
        "    plt.subplot(num_rows, 2*num_cols, 2*i+1)\n",
        "    plot_image(i, predictions, test_labels, test_images)\n",
        "    plt.subplot(num_rows, 2*num_cols, 2*i+2)\n",
        "    plot_value_array(i, predictions, test_labels)\n",
        "\n",
        "plt.show()"
      ],
      "execution_count": null,
      "outputs": [
        {
          "output_type": "display_data",
          "data": {
            "image/png": "[encoded data removed]",
            "text/plain": [
              "<Figure size 576x288 with 8 Axes>"
            ]
          },
          "metadata": {
            "tags": []
          }
        }
      ]
    },
    {
      "cell_type": "markdown",
      "metadata": {
        "id": "iQ12odrLAQcp"
      },
      "source": [
        "데이터 처리 후 오히려 결과가 더 좋지 않아졌음을 확인할 수 있다  \n",
        "\n",
        "따라서, 원래의 원본 데이터를 이용하되 분류 모델을 변경해서 다시 분류해볼 필요가 있다"
      ]
    }
  ]
}