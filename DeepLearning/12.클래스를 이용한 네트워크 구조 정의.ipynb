{
  "nbformat": 4,
  "nbformat_minor": 0,
  "metadata": {
    "colab": {
      "name": "12. 클래스를 이용한 네트워크 구조 정의",
      "provenance": [],
      "toc_visible": true,
      "authorship_tag": "ABX9TyOqNSQ4BzU7JKczZIYBRVtc",
      "include_colab_link": true
    },
    "kernelspec": {
      "name": "python3",
      "display_name": "Python 3"
    },
    "language_info": {
      "name": "python"
    },
    "accelerator": "GPU"
  },
  "cells": [
    {
      "cell_type": "markdown",
      "metadata": {
        "id": "view-in-github",
        "colab_type": "text"
      },
      "source": [
        "<a href=\"https://colab.research.google.com/github/dohyeon-kim012/MachineLearning-DeepLearning/blob/main/DeepLearning/12.%ED%81%B4%EB%9E%98%EC%8A%A4%EB%A5%BC%20%EC%9D%B4%EC%9A%A9%ED%95%9C%20%EB%84%A4%ED%8A%B8%EC%9B%8C%ED%81%AC%20%EA%B5%AC%EC%A1%B0%20%EC%A0%95%EC%9D%98.ipynb\" target=\"_parent\"><img src=\"https://colab.research.google.com/assets/colab-badge.svg\" alt=\"Open In Colab\"/></a>"
      ]
    },
    {
      "cell_type": "markdown",
      "metadata": {
        "id": "ddiT0xvL0Wuw"
      },
      "source": [
        "# 사용자 정의 모델링\n",
        "\n",
        "- `tf.keras.Model` 클래스를 상속 받아서 모델을 구현할 수 있음\n",
        "    - 생성자 `__init__` 함수에서는 사용할 레이어를 정의\n",
        "    - `call()` 함수에서는 `__init__` 에서 정의한 레이어를 엮어줌 -> **순전파** 과정"
      ]
    },
    {
      "cell_type": "code",
      "metadata": {
        "id": "9tUeApIe023j"
      },
      "source": [
        "import tensorflow as tf\n",
        "\n",
        "class MyModel(tf.keras.Model):\n",
        "\n",
        "    ## __init__ 에서는 사용할 레이어들을 \"정의\"만 한다\n",
        "    def __init__(self):\n",
        "        # super(부모클래스) : 강제로 부모 클래스의 생성자를 호출해서 부모클래스의 모든 내용을 사용할 수 있도록 함\n",
        "        super(MyModel, self).__init__()\n",
        "        \n",
        "        # 아주 간단한 FCN 구현하기\n",
        "        self.flatten = tf.keras.layers.Flatten(input_shape=(28, 28))\n",
        "        self.d1 = tf.keras.layers.Dense(128, activation='relu')\n",
        "        self.d2 = tf.keras.layers.Dense(10, activation='softmax')\n",
        "\n",
        "    # call에서는 __init__에서 정의한 레이어를 엮어줌\n",
        "    #    결과를 \"반드시\" 리턴해야 함\n",
        "    def call(self, x):\n",
        "        x = self.flatten(x)\n",
        "        x = self.d1(x)\n",
        "        out = self.d2(x)\n",
        "\n",
        "        return out"
      ],
      "execution_count": null,
      "outputs": []
    },
    {
      "cell_type": "markdown",
      "metadata": {
        "id": "BOQJsFKf2Izx"
      },
      "source": [
        "# 학습 루프 정의하기"
      ]
    },
    {
      "cell_type": "code",
      "metadata": {
        "id": "pb26zAmf3d-h"
      },
      "source": [
        "@tf.function\n",
        "def train_step(model, images, labels, loss_object, optimizer, train_loss, train_accuracy):\n",
        "    \"\"\"\n",
        "        model : 학습대상 모델\n",
        "        images : 학습에 사용할 이미지 텐서\n",
        "        labels : 이미지에 맞는 레이블 텐서\n",
        "        loss_object : 손실함수\n",
        "        optimizer : 최적화 함수\n",
        "        train_loss : 훈련 과정 Loss 평가 지표 설정\n",
        "        train_accuracy : 훈련 과정 accuracy 평가 지표 설정\n",
        "    \"\"\"\n",
        "\n",
        "    with tf.GradientTape() as tape:\n",
        "        prediction = model(images)\n",
        "        loss = loss_object(labels, prediction)\n",
        "\n",
        "    grads = tape.gradient(loss, model.trainable_variables)\n",
        "\n",
        "    optimizer.apply_gradients(zip(grads, model.trainable_variables))\n",
        "\n",
        "    train_loss(loss)\n",
        "    train_accuracy(labels, prediction)"
      ],
      "execution_count": null,
      "outputs": []
    },
    {
      "cell_type": "markdown",
      "metadata": {
        "id": "Q3PTIif94jJ_"
      },
      "source": [
        "# 테스트 루프 정의"
      ]
    },
    {
      "cell_type": "code",
      "metadata": {
        "id": "TSRSZmVb4-Qw"
      },
      "source": [
        "@tf.function\n",
        "def test_step(model, images, labels, loss_object, test_loss, test_accuracy):\n",
        "    prediction = model(images)\n",
        "\n",
        "    t_loss = loss_object(labels, prediction)\n",
        "\n",
        "    test_loss(t_loss)\n",
        "    test_accuracy(labels, prediction)"
      ],
      "execution_count": null,
      "outputs": []
    },
    {
      "cell_type": "markdown",
      "metadata": {
        "id": "8XfYtmoj5SFb"
      },
      "source": [
        "# 데이터 세트 로딩 및 전처리"
      ]
    },
    {
      "cell_type": "code",
      "metadata": {
        "colab": {
          "base_uri": "https://localhost:8080/"
        },
        "id": "uPHd5pkZ5gHH",
        "outputId": "e16524a9-ac5f-4f6b-ffd3-33afa1a3a57c"
      },
      "source": [
        "mnist = tf.keras.datasets.mnist\n",
        "\n",
        "(X_train, y_train), (X_test, y_test) = mnist.load_data()\n",
        "\n",
        "# 픽셀 정규화\n",
        "X_train, X_test = X_train / 255., X_test / 255.\n",
        "\n",
        "# 이미지 채널 차원 추가\n",
        "X_train = X_train[..., tf.newaxis]\n",
        "X_test = X_test[..., tf.newaxis]\n",
        "\n",
        "# Tensorflow Dataset 만들기\n",
        "train_ds = tf.data.Dataset.from_tensor_slices((X_train, y_train)).shuffle(1024).batch(32)\n",
        "test_ds = tf.data.Dataset.from_tensor_slices((X_test, y_test)).batch(32)"
      ],
      "execution_count": null,
      "outputs": [
        {
          "output_type": "stream",
          "text": [
            "Downloading data from https://storage.googleapis.com/tensorflow/tf-keras-datasets/mnist.npz\n",
            "11493376/11490434 [==============================] - 0s 0us/step\n"
          ],
          "name": "stdout"
        }
      ]
    },
    {
      "cell_type": "markdown",
      "metadata": {
        "id": "_pEtIWaX92hF"
      },
      "source": [
        "## 모델 생성 ( 네트워크 생성 ) "
      ]
    },
    {
      "cell_type": "code",
      "metadata": {
        "id": "_mZSmlQ76xb-"
      },
      "source": [
        "model = MyModel()"
      ],
      "execution_count": null,
      "outputs": []
    },
    {
      "cell_type": "markdown",
      "metadata": {
        "id": "sz3c91f_9zyt"
      },
      "source": [
        "## 손실함수, 최적화 선택하기"
      ]
    },
    {
      "cell_type": "code",
      "metadata": {
        "id": "uCa_7MFC6zRq"
      },
      "source": [
        "loss_object = tf.keras.losses.SparseCategoricalCrossentropy()\n",
        "optimizer = tf.keras.optimizers.Adam()"
      ],
      "execution_count": null,
      "outputs": []
    },
    {
      "cell_type": "markdown",
      "metadata": {
        "id": "x-LpxMTM7Qrl"
      },
      "source": [
        "## 알고리즘 평가지표 설정 ( performance metrics )"
      ]
    },
    {
      "cell_type": "code",
      "metadata": {
        "id": "Yc6hv-Zb65of"
      },
      "source": [
        "train_loss = tf.keras.metrics.Mean(name=\"train_loss\")\n",
        "train_accuracy = tf.keras.metrics.SparseCategoricalAccuracy(name='train_accuracy')\n",
        "\n",
        "test_loss = tf.keras.metrics.Mean(name='test_loss')\n",
        "test_accuracy = tf.keras.metrics.SparseCategoricalAccuracy(name=\"test_accuracy\")"
      ],
      "execution_count": null,
      "outputs": []
    },
    {
      "cell_type": "markdown",
      "metadata": {
        "id": "KA4h_c-87MDK"
      },
      "source": [
        "## 학습 진행하기"
      ]
    },
    {
      "cell_type": "code",
      "metadata": {
        "colab": {
          "base_uri": "https://localhost:8080/"
        },
        "id": "rHIZkXfo7V6o",
        "outputId": "d67590b1-28a9-4de4-ca75-dcc0709585e6"
      },
      "source": [
        "EPOCHS = 10\n",
        "\n",
        "for epoch in range(EPOCHS):\n",
        "\n",
        "    # 훈련\n",
        "    for images, labels in train_ds:\n",
        "        train_step(model, images, labels, loss_object, optimizer, train_loss, train_accuracy)\n",
        "\n",
        "    # 테스트\n",
        "    for test_images, test_labels in test_ds:\n",
        "        test_step(model, images, labels, loss_object, test_loss, test_accuracy)\n",
        "\n",
        "    template = \"Epoch {}, Train Loss : {:.3f}, Train Accuracy : {:.3f}, Test Loss : {:.3f}, Test Accuracy : {:.3f}\"\n",
        "    print(template.format(epoch + 1,\n",
        "                          train_loss.result(),\n",
        "                          train_accuracy.result() * 100,\n",
        "                          \n",
        "                          test_loss.result(),\n",
        "                          test_accuracy.result() * 100))"
      ],
      "execution_count": null,
      "outputs": [
        {
          "output_type": "stream",
          "text": [
            "Epoch 1, Train Loss : 0.183, Train Accuracy : 94.729, Test Loss : 0.014, Test Accuracy : 100.000\n",
            "Epoch 2, Train Loss : 0.148, Train Accuracy : 95.727, Test Loss : 0.011, Test Accuracy : 100.000\n",
            "Epoch 3, Train Loss : 0.126, Train Accuracy : 96.363, Test Loss : 0.021, Test Accuracy : 100.000\n",
            "Epoch 4, Train Loss : 0.109, Train Accuracy : 96.826, Test Loss : 0.019, Test Accuracy : 100.000\n",
            "Epoch 5, Train Loss : 0.097, Train Accuracy : 97.185, Test Loss : 0.015, Test Accuracy : 100.000\n",
            "Epoch 6, Train Loss : 0.087, Train Accuracy : 97.469, Test Loss : 0.014, Test Accuracy : 100.000\n",
            "Epoch 7, Train Loss : 0.079, Train Accuracy : 97.708, Test Loss : 0.014, Test Accuracy : 100.000\n",
            "Epoch 8, Train Loss : 0.072, Train Accuracy : 97.898, Test Loss : 0.012, Test Accuracy : 100.000\n",
            "Epoch 9, Train Loss : 0.066, Train Accuracy : 98.070, Test Loss : 0.011, Test Accuracy : 100.000\n",
            "Epoch 10, Train Loss : 0.061, Train Accuracy : 98.212, Test Loss : 0.011, Test Accuracy : 100.000\n"
          ],
          "name": "stdout"
        }
      ]
    }
  ]
}